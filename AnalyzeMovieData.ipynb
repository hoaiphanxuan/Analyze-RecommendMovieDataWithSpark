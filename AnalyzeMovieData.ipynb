{
  "cells": [
    {
      "cell_type": "markdown",
      "metadata": {
        "id": "tChWFAUf8CAg"
      },
      "source": [
        "# Part 0: Setting up"
      ]
    },
    {
      "cell_type": "markdown",
      "metadata": {
        "id": "BPgvKHYi46Zh"
      },
      "source": [
        "## Install pyspark"
      ]
    },
    {
      "cell_type": "code",
      "execution_count": 1,
      "metadata": {
        "colab": {
          "base_uri": "https://localhost:8080/"
        },
        "id": "3BQOC48fkpMX",
        "outputId": "0c87100d-0489-4bd7-ca9b-35093f0319ed"
      },
      "outputs": [
        {
          "output_type": "stream",
          "name": "stdout",
          "text": [
            "Get:1 http://security.ubuntu.com/ubuntu jammy-security InRelease [110 kB]\n",
            "Get:2 https://cloud.r-project.org/bin/linux/ubuntu jammy-cran40/ InRelease [3,626 B]\n",
            "Get:3 https://developer.download.nvidia.com/compute/cuda/repos/ubuntu2204/x86_64  InRelease [1,581 B]\n",
            "Hit:4 http://archive.ubuntu.com/ubuntu jammy InRelease\n",
            "Get:5 http://archive.ubuntu.com/ubuntu jammy-updates InRelease [119 kB]\n",
            "Hit:6 https://ppa.launchpadcontent.net/c2d4u.team/c2d4u4.0+/ubuntu jammy InRelease\n",
            "Get:7 https://developer.download.nvidia.com/compute/cuda/repos/ubuntu2204/x86_64  Packages [518 kB]\n",
            "Get:8 http://archive.ubuntu.com/ubuntu jammy-backports InRelease [109 kB]\n",
            "Get:9 https://ppa.launchpadcontent.net/deadsnakes/ppa/ubuntu jammy InRelease [18.1 kB]\n",
            "Get:10 http://security.ubuntu.com/ubuntu jammy-security/main amd64 Packages [1,078 kB]\n",
            "Get:11 http://security.ubuntu.com/ubuntu jammy-security/universe amd64 Packages [1,002 kB]\n",
            "Get:12 http://security.ubuntu.com/ubuntu jammy-security/restricted amd64 Packages [1,223 kB]\n",
            "Hit:13 https://ppa.launchpadcontent.net/graphics-drivers/ppa/ubuntu jammy InRelease\n",
            "Hit:14 https://ppa.launchpadcontent.net/ubuntugis/ppa/ubuntu jammy InRelease\n",
            "Get:15 http://archive.ubuntu.com/ubuntu jammy-updates/main amd64 Packages [1,337 kB]\n",
            "Get:16 http://archive.ubuntu.com/ubuntu jammy-updates/universe amd64 Packages [1,266 kB]\n",
            "Get:17 http://archive.ubuntu.com/ubuntu jammy-updates/restricted amd64 Packages [1,244 kB]\n",
            "Get:18 https://ppa.launchpadcontent.net/deadsnakes/ppa/ubuntu jammy/main amd64 Packages [21.7 kB]\n",
            "Fetched 8,051 kB in 4s (2,113 kB/s)\n",
            "Reading package lists... Done\n"
          ]
        }
      ],
      "source": [
        "  # install java\n",
        "  !apt-get update\n",
        "  !apt-get install openjdk-8-jdk-headless -qq > /dev/null\n",
        "  # install spark (change the version number if needed)\n",
        "  !wget -q https://downloads.apache.org/spark/spark-3.4.1/spark-3.4.1-bin-hadoop3.tgz\n",
        "  # unzip the spark file to the current folder\n",
        "  !tar xf spark-3.4.1-bin-hadoop3.tgz"
      ]
    },
    {
      "cell_type": "code",
      "execution_count": 2,
      "metadata": {
        "id": "nJFxkwtAkt3U"
      },
      "outputs": [],
      "source": [
        "# set your spark folder to your system path environment.\n",
        "import os\n",
        "os.environ[\"JAVA_HOME\"] = \"/usr/lib/jvm/java-8-openjdk-amd64\"\n",
        "os.environ[\"SPARK_HOME\"] = \"/content/spark-3.4.1-bin-hadoop3\""
      ]
    },
    {
      "cell_type": "code",
      "execution_count": 3,
      "metadata": {
        "colab": {
          "base_uri": "https://localhost:8080/"
        },
        "id": "qgjKoGjDzZgu",
        "outputId": "b1faa5f1-691f-4c55-992e-d148d58b43f7"
      },
      "outputs": [
        {
          "output_type": "stream",
          "name": "stdout",
          "text": [
            "Collecting findspark\n",
            "  Downloading findspark-2.0.1-py2.py3-none-any.whl (4.4 kB)\n",
            "Installing collected packages: findspark\n",
            "Successfully installed findspark-2.0.1\n"
          ]
        }
      ],
      "source": [
        "!pip install findspark\n",
        "import findspark\n",
        "findspark.init()"
      ]
    },
    {
      "cell_type": "markdown",
      "metadata": {
        "id": "joYxog8HgiHE"
      },
      "source": [
        "## Create a SparkSession in Python"
      ]
    },
    {
      "cell_type": "code",
      "execution_count": 4,
      "metadata": {
        "id": "I19Z5EuNgiHE"
      },
      "outputs": [],
      "source": [
        "import pyspark\n",
        "from pyspark.sql import SparkSession\n",
        "spark = SparkSession.builder.master(\"local\")\\\n",
        "          .appName(\"Analyze Movie\")\\\n",
        "          .config(\"spark.some.config.option\", \"some-value\")\\\n",
        "          .getOrCreate()"
      ]
    },
    {
      "cell_type": "markdown",
      "metadata": {
        "id": "sscD-2LnswI9"
      },
      "source": [
        "## Import library"
      ]
    },
    {
      "cell_type": "code",
      "execution_count": 142,
      "metadata": {
        "id": "pzEELwT_szeM"
      },
      "outputs": [],
      "source": [
        "from pyspark.sql.functions import split\n",
        "from pyspark.sql.functions import regexp_extract, col\n",
        "from pyspark.sql.functions import max\n",
        "from pyspark.sql.functions import min\n",
        "from pyspark.sql.functions import explode\n",
        "from pyspark.sql.functions import when\n",
        "from pyspark.sql.functions import rank\n",
        "from pyspark.sql.functions import round\n",
        "from pyspark.sql.functions import desc, asc\n",
        "from pyspark.sql import Row\n",
        "from pyspark.sql.functions import lit,isnan\n",
        "import math\n",
        "\n",
        "\n",
        "from pyspark.sql.window import Window\n",
        "\n",
        "import matplotlib.pyplot as plt\n",
        "import seaborn as sns\n",
        "from pyspark.sql import SparkSession\n",
        "import pandas as pd\n",
        "import numpy as np\n",
        "import gc\n",
        "from pyspark.ml.evaluation import RegressionEvaluator\n",
        "from pyspark.ml.recommendation import ALS"
      ]
    },
    {
      "cell_type": "markdown",
      "metadata": {
        "id": "gi7l5exS-0OE"
      },
      "source": [
        "## Download data\n",
        "\n",
        "\n",
        "\n"
      ]
    },
    {
      "cell_type": "code",
      "execution_count": 6,
      "metadata": {
        "id": "l7NzbXl4_Rxv",
        "colab": {
          "base_uri": "https://localhost:8080/"
        },
        "outputId": "915aa7ee-c9c6-4e41-e90c-506579c4f529"
      },
      "outputs": [
        {
          "output_type": "stream",
          "name": "stdout",
          "text": [
            "--2023-10-04 11:54:34--  https://files.grouplens.org/datasets/movielens/ml-1m.zip\n",
            "Resolving files.grouplens.org (files.grouplens.org)... 128.101.65.152\n",
            "Connecting to files.grouplens.org (files.grouplens.org)|128.101.65.152|:443... connected.\n",
            "HTTP request sent, awaiting response... 200 OK\n",
            "Length: 5917549 (5.6M) [application/zip]\n",
            "Saving to: ‘ml-1m.zip’\n",
            "\n",
            "ml-1m.zip           100%[===================>]   5.64M  28.4MB/s    in 0.2s    \n",
            "\n",
            "2023-10-04 11:54:35 (28.4 MB/s) - ‘ml-1m.zip’ saved [5917549/5917549]\n",
            "\n",
            "Archive:  ml-1m.zip\n",
            "   creating: ml-1m/\n",
            "  inflating: ml-1m/movies.dat        \n",
            "  inflating: ml-1m/ratings.dat       \n",
            "  inflating: ml-1m/README            \n",
            "  inflating: ml-1m/users.dat         \n"
          ]
        }
      ],
      "source": [
        "!wget https://files.grouplens.org/datasets/movielens/ml-1m.zip\n",
        "!unzip ml-1m.zip"
      ]
    },
    {
      "cell_type": "markdown",
      "metadata": {
        "id": "OOBcV-zg8IPv"
      },
      "source": [
        "# Part 1: Movies data"
      ]
    },
    {
      "cell_type": "markdown",
      "metadata": {
        "id": "JotLXmhkbUMx"
      },
      "source": [
        "## Read movies.dat"
      ]
    },
    {
      "cell_type": "markdown",
      "metadata": {
        "id": "YPqDdMQEkddr"
      },
      "source": [
        "Format: MovieID::Title (Year)::Genres"
      ]
    },
    {
      "cell_type": "code",
      "execution_count": 7,
      "metadata": {
        "id": "6kv3SQCXbTkA"
      },
      "outputs": [],
      "source": [
        "lines = spark.read.text(\"ml-1m/movies.dat\")"
      ]
    },
    {
      "cell_type": "code",
      "execution_count": 8,
      "metadata": {
        "id": "LW3gIki4bQba"
      },
      "outputs": [],
      "source": [
        "# Split column\n",
        "data = lines.select(split(lines.value, \"::\").alias(\"movie_data\"))"
      ]
    },
    {
      "cell_type": "code",
      "execution_count": 9,
      "metadata": {
        "id": "Wf6WNbDumYmW",
        "colab": {
          "base_uri": "https://localhost:8080/"
        },
        "outputId": "e58b5d5f-edb1-432c-d04b-633a9b0a4452"
      },
      "outputs": [
        {
          "output_type": "stream",
          "name": "stdout",
          "text": [
            "+--------------------+\n",
            "|          movie_data|\n",
            "+--------------------+\n",
            "|[1, Toy Story (19...|\n",
            "|[2, Jumanji (1995...|\n",
            "|[3, Grumpier Old ...|\n",
            "|[4, Waiting to Ex...|\n",
            "|[5, Father of the...|\n",
            "|[6, Heat (1995), ...|\n",
            "|[7, Sabrina (1995...|\n",
            "|[8, Tom and Huck ...|\n",
            "|[9, Sudden Death ...|\n",
            "|[10, GoldenEye (1...|\n",
            "|[11, American Pre...|\n",
            "|[12, Dracula: Dea...|\n",
            "|[13, Balto (1995)...|\n",
            "|[14, Nixon (1995)...|\n",
            "|[15, Cutthroat Is...|\n",
            "|[16, Casino (1995...|\n",
            "|[17, Sense and Se...|\n",
            "|[18, Four Rooms (...|\n",
            "|[19, Ace Ventura:...|\n",
            "|[20, Money Train ...|\n",
            "+--------------------+\n",
            "only showing top 20 rows\n",
            "\n"
          ]
        }
      ],
      "source": [
        "data.show()"
      ]
    },
    {
      "cell_type": "code",
      "execution_count": 10,
      "metadata": {
        "id": "ydMYcVMUbQWd"
      },
      "outputs": [],
      "source": [
        "movie_df = data.select(\n",
        "    data[\"movie_data\"][0].cast(\"int\").alias(\"MovieID\"),\n",
        "    data[\"movie_data\"][1].alias(\"Title\"),\n",
        "    data[\"movie_data\"][2].alias(\"Genres\")\n",
        ")"
      ]
    },
    {
      "cell_type": "code",
      "execution_count": 11,
      "metadata": {
        "id": "L2XHDHsHoBGM"
      },
      "outputs": [],
      "source": [
        "# create new TitleN column and Year Column, split Genres to list\n",
        "movie_df = movie_df.withColumn(\"TitleN\", regexp_extract(\"Title\", r\"^(.*?)\\s*\\((\\d{4})\\)$\", 1))\n",
        "movie_df = movie_df.withColumn(\"Year\", regexp_extract(\"Title\", r\"^(.*?)\\s*\\((\\d{4})\\)$\", 2))\n",
        "movie_df = movie_df.withColumn(\"Genres\", split(\"Genres\", \"\\|\"))\n",
        "\n",
        "movie_df = movie_df.withColumn(\"Year\", col(\"Year\").cast(\"int\"))\n",
        "movie_df = movie_df.drop(\"Title\")"
      ]
    },
    {
      "cell_type": "code",
      "execution_count": 12,
      "metadata": {
        "id": "3ahFGxCGbQNJ",
        "colab": {
          "base_uri": "https://localhost:8080/"
        },
        "outputId": "b177ffea-d100-4a1e-bb90-dee46ae1f8cf"
      },
      "outputs": [
        {
          "output_type": "stream",
          "name": "stdout",
          "text": [
            "+-------+--------------------+--------------------+----+\n",
            "|MovieID|              Genres|              TitleN|Year|\n",
            "+-------+--------------------+--------------------+----+\n",
            "|      1|[Animation, Child...|           Toy Story|1995|\n",
            "|      2|[Adventure, Child...|             Jumanji|1995|\n",
            "|      3|   [Comedy, Romance]|    Grumpier Old Men|1995|\n",
            "|      4|     [Comedy, Drama]|   Waiting to Exhale|1995|\n",
            "|      5|            [Comedy]|Father of the Bri...|1995|\n",
            "|      6|[Action, Crime, T...|                Heat|1995|\n",
            "|      7|   [Comedy, Romance]|             Sabrina|1995|\n",
            "|      8|[Adventure, Child...|        Tom and Huck|1995|\n",
            "|      9|            [Action]|        Sudden Death|1995|\n",
            "|     10|[Action, Adventur...|           GoldenEye|1995|\n",
            "|     11|[Comedy, Drama, R...|American Presiden...|1995|\n",
            "|     12|    [Comedy, Horror]|Dracula: Dead and...|1995|\n",
            "|     13|[Animation, Child...|               Balto|1995|\n",
            "|     14|             [Drama]|               Nixon|1995|\n",
            "|     15|[Action, Adventur...|    Cutthroat Island|1995|\n",
            "|     16|   [Drama, Thriller]|              Casino|1995|\n",
            "|     17|    [Drama, Romance]|Sense and Sensibi...|1995|\n",
            "|     18|          [Thriller]|          Four Rooms|1995|\n",
            "|     19|            [Comedy]|Ace Ventura: When...|1995|\n",
            "|     20|            [Action]|         Money Train|1995|\n",
            "+-------+--------------------+--------------------+----+\n",
            "only showing top 20 rows\n",
            "\n"
          ]
        }
      ],
      "source": [
        "movie_df.show()"
      ]
    },
    {
      "cell_type": "code",
      "execution_count": 13,
      "metadata": {
        "id": "KvhuIxU9oYyQ",
        "colab": {
          "base_uri": "https://localhost:8080/"
        },
        "outputId": "3161fd39-4719-4954-9a2a-e35e50bca529"
      },
      "outputs": [
        {
          "output_type": "stream",
          "name": "stdout",
          "text": [
            "root\n",
            " |-- MovieID: integer (nullable = true)\n",
            " |-- Genres: array (nullable = true)\n",
            " |    |-- element: string (containsNull = false)\n",
            " |-- TitleN: string (nullable = true)\n",
            " |-- Year: integer (nullable = true)\n",
            "\n"
          ]
        }
      ],
      "source": [
        "movie_df.printSchema()"
      ]
    },
    {
      "cell_type": "code",
      "execution_count": 14,
      "metadata": {
        "id": "ZXqvu6ka7c3s",
        "colab": {
          "base_uri": "https://localhost:8080/"
        },
        "outputId": "a0c6038c-0006-454e-a0f4-bbe7e77d9f9a"
      },
      "outputs": [
        {
          "output_type": "stream",
          "name": "stdout",
          "text": [
            "Number of rows:  3883\n"
          ]
        }
      ],
      "source": [
        "print(\"Number of rows: \",movie_df.count())"
      ]
    },
    {
      "cell_type": "code",
      "execution_count": 15,
      "metadata": {
        "id": "c0P_MlPyQVHj",
        "colab": {
          "base_uri": "https://localhost:8080/"
        },
        "outputId": "8a690248-5223-42ad-c0f5-90865c902a0b"
      },
      "outputs": [
        {
          "output_type": "stream",
          "name": "stdout",
          "text": [
            "+------------+\n",
            "|max(MovieID)|\n",
            "+------------+\n",
            "|        3952|\n",
            "+------------+\n",
            "\n"
          ]
        }
      ],
      "source": [
        "movie_df.select(max(col(\"MovieID\"))).show()"
      ]
    },
    {
      "cell_type": "markdown",
      "metadata": {
        "id": "vOSYQ4hC7Jf5"
      },
      "source": [
        "## Explore data"
      ]
    },
    {
      "cell_type": "markdown",
      "metadata": {
        "id": "IXJ6V-mM8Yvf"
      },
      "source": [
        "### Year column"
      ]
    },
    {
      "cell_type": "markdown",
      "metadata": {
        "id": "DWea795-YSoy"
      },
      "source": [
        "#### Count Na in column"
      ]
    },
    {
      "cell_type": "code",
      "execution_count": 16,
      "metadata": {
        "id": "JuOyIgIwRnlA",
        "colab": {
          "base_uri": "https://localhost:8080/"
        },
        "outputId": "628122f2-550a-4fd6-d7f3-ecac8ebfb899"
      },
      "outputs": [
        {
          "output_type": "execute_result",
          "data": {
            "text/plain": [
              "0"
            ]
          },
          "metadata": {},
          "execution_count": 16
        }
      ],
      "source": [
        "### Count Na in column\n",
        "movie_df.filter(col(\"Year\").isNull()).count()"
      ]
    },
    {
      "cell_type": "markdown",
      "metadata": {
        "id": "0IX7WOO4YVah"
      },
      "source": [
        "#### Count unique year"
      ]
    },
    {
      "cell_type": "code",
      "execution_count": 17,
      "metadata": {
        "id": "VFKJp5JJlo88",
        "colab": {
          "base_uri": "https://localhost:8080/"
        },
        "outputId": "e843df19-479d-4161-b290-8e757ee253cc"
      },
      "outputs": [
        {
          "output_type": "execute_result",
          "data": {
            "text/plain": [
              "81"
            ]
          },
          "metadata": {},
          "execution_count": 17
        }
      ],
      "source": [
        "### Count unique year\n",
        "movie_df.select(\"Year\").distinct().count()"
      ]
    },
    {
      "cell_type": "markdown",
      "metadata": {
        "id": "MMq-LacRY24h"
      },
      "source": [
        "##### Min Year"
      ]
    },
    {
      "cell_type": "code",
      "execution_count": 18,
      "metadata": {
        "id": "iI_2_0xlY7wy",
        "colab": {
          "base_uri": "https://localhost:8080/"
        },
        "outputId": "1c3d7eef-184b-4785-acf1-32d1de474fa2"
      },
      "outputs": [
        {
          "output_type": "stream",
          "name": "stdout",
          "text": [
            "+---------+\n",
            "|min(Year)|\n",
            "+---------+\n",
            "|     1919|\n",
            "+---------+\n",
            "\n"
          ]
        }
      ],
      "source": [
        "movie_df.select(min((\"Year\"))).show()"
      ]
    },
    {
      "cell_type": "markdown",
      "metadata": {
        "id": "W4gA4KPFZZS8"
      },
      "source": [
        "#### Max Year"
      ]
    },
    {
      "cell_type": "code",
      "execution_count": 19,
      "metadata": {
        "id": "nHwK9uSQZcPH",
        "colab": {
          "base_uri": "https://localhost:8080/"
        },
        "outputId": "104f1950-2970-4164-a8c4-2b754c8ae54d"
      },
      "outputs": [
        {
          "output_type": "stream",
          "name": "stdout",
          "text": [
            "+---------+\n",
            "|max(Year)|\n",
            "+---------+\n",
            "|     2000|\n",
            "+---------+\n",
            "\n"
          ]
        }
      ],
      "source": [
        "movie_df.select(max((\"Year\"))).show()"
      ]
    },
    {
      "cell_type": "markdown",
      "metadata": {
        "id": "DiyGrnZwYYSd"
      },
      "source": [
        "#### Number movie each year"
      ]
    },
    {
      "cell_type": "code",
      "execution_count": 20,
      "metadata": {
        "id": "249TVe8XOmYE",
        "colab": {
          "base_uri": "https://localhost:8080/"
        },
        "outputId": "0a65707e-718c-4787-b93b-100c39f0353b"
      },
      "outputs": [
        {
          "output_type": "stream",
          "name": "stdout",
          "text": [
            "+----+-----+\n",
            "|Year|count|\n",
            "+----+-----+\n",
            "|1996|  345|\n",
            "|1995|  342|\n",
            "|1998|  337|\n",
            "|1997|  315|\n",
            "|1999|  283|\n",
            "|1994|  257|\n",
            "|1993|  165|\n",
            "|2000|  156|\n",
            "|1986|  104|\n",
            "|1992|  102|\n",
            "|1990|   77|\n",
            "|1987|   71|\n",
            "|1988|   69|\n",
            "|1985|   65|\n",
            "|1989|   60|\n",
            "|1991|   60|\n",
            "|1984|   60|\n",
            "|1982|   50|\n",
            "|1981|   43|\n",
            "|1980|   41|\n",
            "+----+-----+\n",
            "only showing top 20 rows\n",
            "\n"
          ]
        }
      ],
      "source": [
        "# Number movie each year\n",
        "movie_df.groupBy('Year').count().sort(col(\"count\").desc()).show()"
      ]
    },
    {
      "cell_type": "markdown",
      "metadata": {
        "id": "ObFiBKjdg9Ru"
      },
      "source": [
        "### Genres column"
      ]
    },
    {
      "cell_type": "markdown",
      "metadata": {
        "id": "9fkfB8DFhGQN"
      },
      "source": [
        "####Show the list of distinct genres appearing in the dataset"
      ]
    },
    {
      "cell_type": "code",
      "execution_count": 21,
      "metadata": {
        "id": "xd0qRQPVX3WW",
        "colab": {
          "base_uri": "https://localhost:8080/"
        },
        "outputId": "a43faa20-7734-4aae-8f62-164d1c969c17"
      },
      "outputs": [
        {
          "output_type": "execute_result",
          "data": {
            "text/plain": [
              "['Crime',\n",
              " 'Romance',\n",
              " 'Thriller',\n",
              " 'Adventure',\n",
              " \"Children's\",\n",
              " 'Drama',\n",
              " 'War',\n",
              " 'Documentary',\n",
              " 'Fantasy',\n",
              " 'Mystery',\n",
              " 'Musical',\n",
              " 'Animation',\n",
              " 'Film-Noir',\n",
              " 'Horror',\n",
              " 'Western',\n",
              " 'Comedy',\n",
              " 'Action',\n",
              " 'Sci-Fi']"
            ]
          },
          "metadata": {},
          "execution_count": 21
        }
      ],
      "source": [
        "lisGenre = movie_df.select(explode(col(\"Genres\")).alias(\"Genre\")).distinct()\n",
        "lisGenre.toPandas()['Genre'].tolist()"
      ]
    },
    {
      "cell_type": "markdown",
      "metadata": {
        "id": "_vFxpk_rjl4N"
      },
      "source": [
        "####Number of films per genre"
      ]
    },
    {
      "cell_type": "code",
      "execution_count": 22,
      "metadata": {
        "id": "ksbBsuV8jlfJ",
        "colab": {
          "base_uri": "https://localhost:8080/"
        },
        "outputId": "201e9b71-6f6b-4ad6-d150-f649cda028ea"
      },
      "outputs": [
        {
          "output_type": "stream",
          "name": "stdout",
          "text": [
            "+-----------+-----+\n",
            "|      Genre|count|\n",
            "+-----------+-----+\n",
            "|      Drama| 1603|\n",
            "|     Comedy| 1200|\n",
            "|     Action|  503|\n",
            "|   Thriller|  492|\n",
            "|    Romance|  471|\n",
            "|     Horror|  343|\n",
            "|  Adventure|  283|\n",
            "|     Sci-Fi|  276|\n",
            "| Children's|  251|\n",
            "|      Crime|  211|\n",
            "|        War|  143|\n",
            "|Documentary|  127|\n",
            "|    Musical|  114|\n",
            "|    Mystery|  106|\n",
            "|  Animation|  105|\n",
            "|    Fantasy|   68|\n",
            "|    Western|   68|\n",
            "|  Film-Noir|   44|\n",
            "+-----------+-----+\n",
            "\n"
          ]
        }
      ],
      "source": [
        "movie_df.select(explode(col(\"Genres\")).alias(\"Genre\")).groupBy('Genre').count().sort(col(\"count\").desc()).show()"
      ]
    },
    {
      "cell_type": "markdown",
      "metadata": {
        "id": "-Zc3Q4cpOl-_"
      },
      "source": [
        "### TitleN column"
      ]
    },
    {
      "cell_type": "markdown",
      "metadata": {
        "id": "cfxeoGqoq82V"
      },
      "source": [
        "### Number of different movie titles"
      ]
    },
    {
      "cell_type": "code",
      "execution_count": 23,
      "metadata": {
        "id": "qknp4vMjq8k1",
        "colab": {
          "base_uri": "https://localhost:8080/"
        },
        "outputId": "b825bf3e-9f9c-4e4e-80a9-60e3a67ec621"
      },
      "outputs": [
        {
          "output_type": "execute_result",
          "data": {
            "text/plain": [
              "3841"
            ]
          },
          "metadata": {},
          "execution_count": 23
        }
      ],
      "source": [
        "movie_df.select(\"TitleN\").distinct().count()"
      ]
    },
    {
      "cell_type": "markdown",
      "metadata": {
        "id": "_MnbomF-sJVW"
      },
      "source": [
        "#### Longest and shortest titles"
      ]
    },
    {
      "cell_type": "code",
      "execution_count": 24,
      "metadata": {
        "id": "nJ_O0i9DsMg5"
      },
      "outputs": [],
      "source": [
        "### Longest\n",
        "from pyspark.sql.functions import length\n",
        "\n",
        "title_df = movie_df.select(\"TitleN\")\n",
        "title_df = title_df.withColumn(\"LengthTitle\", length(\"TitleN\"))"
      ]
    },
    {
      "cell_type": "code",
      "execution_count": 25,
      "metadata": {
        "id": "h5f7GuAMtOR8",
        "colab": {
          "base_uri": "https://localhost:8080/"
        },
        "outputId": "d339a381-0125-43fd-e27f-625fef9e9f07"
      },
      "outputs": [
        {
          "output_type": "stream",
          "name": "stdout",
          "text": [
            "+---------------------------------------------------------------------------+-----------+\n",
            "|TitleN                                                                     |LengthTitle|\n",
            "+---------------------------------------------------------------------------+-----------+\n",
            "|Those Who Love Me Can Take the Train (Ceux qui m'aiment prendront le train)|75         |\n",
            "+---------------------------------------------------------------------------+-----------+\n",
            "\n"
          ]
        }
      ],
      "source": [
        "max_len = title_df.select(max(\"LengthTitle\")).first()[0]\n",
        "title_df.where(col(\"LengthTitle\") == max_len).show(truncate=False)"
      ]
    },
    {
      "cell_type": "code",
      "execution_count": 26,
      "metadata": {
        "id": "4U7tOmEitOPH",
        "colab": {
          "base_uri": "https://localhost:8080/"
        },
        "outputId": "527e5e5b-dabd-4a41-d913-a07118e0b38e"
      },
      "outputs": [
        {
          "output_type": "stream",
          "name": "stdout",
          "text": [
            "+------+-----------+\n",
            "|TitleN|LengthTitle|\n",
            "+------+-----------+\n",
            "|M     |1          |\n",
            "+------+-----------+\n",
            "\n"
          ]
        }
      ],
      "source": [
        "### Shortest\n",
        "min_len = title_df.select(min(\"LengthTitle\")).first()[0]\n",
        "title_df.where(col(\"LengthTitle\") == min_len).show(truncate=False)\n"
      ]
    },
    {
      "cell_type": "code",
      "execution_count": 27,
      "metadata": {
        "id": "H7-CL9PxAdg9"
      },
      "outputs": [],
      "source": [
        "del title_df\n",
        "_ = gc.collect()"
      ]
    },
    {
      "cell_type": "markdown",
      "metadata": {
        "id": "h-85AFo5b8vx"
      },
      "source": [
        "#### Most repeated titles"
      ]
    },
    {
      "cell_type": "code",
      "execution_count": 28,
      "metadata": {
        "id": "m2vThgdJtOL2",
        "colab": {
          "base_uri": "https://localhost:8080/"
        },
        "outputId": "7c2a447f-d94f-4eba-d7d7-7b63dd24366f"
      },
      "outputs": [
        {
          "output_type": "stream",
          "name": "stdout",
          "text": [
            "+------+-----+\n",
            "|TitleN|count|\n",
            "+------+-----+\n",
            "|Hamlet|    5|\n",
            "+------+-----+\n",
            "only showing top 1 row\n",
            "\n"
          ]
        }
      ],
      "source": [
        "movie_df.groupBy(\"TitleN\").count().orderBy(col(\"count\").desc()).show(1)"
      ]
    },
    {
      "cell_type": "markdown",
      "metadata": {
        "id": "XMQqoZvmd260"
      },
      "source": [
        "-------------"
      ]
    },
    {
      "cell_type": "markdown",
      "metadata": {
        "id": "8MIn7fPEeBpq"
      },
      "source": [
        "## Read users.dat"
      ]
    },
    {
      "cell_type": "markdown",
      "metadata": {
        "id": "-9InuhgaeBpw"
      },
      "source": [
        "Format: UserID::Gender::Age::Occupation::Zip-code\n",
        "\n",
        "\n",
        "- Gender is denoted by a \"M\" for male and \"F\" for female\n",
        "- Age is chosen from the following ranges:\n",
        "\n",
        "\t*  1:  \"Under 18\"\n",
        "\t* 18:  \"18-24\"\n",
        "\t* 25:  \"25-34\"\n",
        "\t* 35:  \"35-44\"\n",
        "\t* 45:  \"45-49\"\n",
        "\t* 50:  \"50-55\"\n",
        "\t* 56:  \"56+\"\n",
        "\n",
        "- Occupation is chosen from the following choices:\n",
        "\n",
        "\t*  0:  \"other\" or not specified\n",
        "\t*  1:  \"academic/educator\"\n",
        "\t*  2:  \"artist\"\n",
        "\t*  3:  \"clerical/admin\"\n",
        "\t*  4:  \"college/grad student\"\n",
        "\t*  5:  \"customer service\"\n",
        "\t*  6:  \"doctor/health care\"\n",
        "\t*  7:  \"executive/managerial\"\n",
        "\t*  8:  \"farmer\"\n",
        "\t*  9:  \"homemaker\"\n",
        "\t* 10:  \"K-12 student\"\n",
        "\t* 11:  \"lawyer\"\n",
        "\t* 12:  \"programmer\"\n",
        "\t* 13:  \"retired\"\n",
        "\t* 14:  \"sales/marketing\"\n",
        "\t* 15:  \"scientist\"\n",
        "\t* 16:  \"self-employed\"\n",
        "\t* 17:  \"technician/engineer\"\n",
        "\t* 18:  \"tradesman/craftsman\"\n",
        "\t* 19:  \"unemployed\"\n",
        "\t* 20:  \"writer\"\n"
      ]
    },
    {
      "cell_type": "code",
      "execution_count": 29,
      "metadata": {
        "id": "jMK3lH4Repg3"
      },
      "outputs": [],
      "source": [
        "lines = spark.read.text(\"ml-1m/users.dat\")"
      ]
    },
    {
      "cell_type": "code",
      "execution_count": 30,
      "metadata": {
        "id": "W9n0T823epg3"
      },
      "outputs": [],
      "source": [
        "# Split column\n",
        "data = lines.select(split(lines.value, \"::\").alias(\"user_data\"))"
      ]
    },
    {
      "cell_type": "code",
      "execution_count": 31,
      "metadata": {
        "id": "7pXI_7kcepg3",
        "colab": {
          "base_uri": "https://localhost:8080/"
        },
        "outputId": "1af6ebed-db26-4f36-f779-ac29387e1dce"
      },
      "outputs": [
        {
          "output_type": "stream",
          "name": "stdout",
          "text": [
            "+--------------------+\n",
            "|           user_data|\n",
            "+--------------------+\n",
            "|[1, F, 1, 10, 48067]|\n",
            "|[2, M, 56, 16, 70...|\n",
            "|[3, M, 25, 15, 55...|\n",
            "|[4, M, 45, 7, 02460]|\n",
            "|[5, M, 25, 20, 55...|\n",
            "|[6, F, 50, 9, 55117]|\n",
            "|[7, M, 35, 1, 06810]|\n",
            "|[8, M, 25, 12, 11...|\n",
            "|[9, M, 25, 17, 61...|\n",
            "|[10, F, 35, 1, 95...|\n",
            "|[11, F, 25, 1, 04...|\n",
            "|[12, M, 25, 12, 3...|\n",
            "|[13, M, 45, 1, 93...|\n",
            "|[14, M, 35, 0, 60...|\n",
            "|[15, M, 25, 7, 22...|\n",
            "|[16, F, 35, 0, 20...|\n",
            "|[17, M, 50, 1, 95...|\n",
            "|[18, F, 18, 3, 95...|\n",
            "|[19, M, 1, 10, 48...|\n",
            "|[20, M, 25, 14, 5...|\n",
            "+--------------------+\n",
            "only showing top 20 rows\n",
            "\n"
          ]
        }
      ],
      "source": [
        "data.show()"
      ]
    },
    {
      "cell_type": "code",
      "execution_count": 32,
      "metadata": {
        "id": "ijDP0Xwiepg3"
      },
      "outputs": [],
      "source": [
        "user_df = data.select(\n",
        "    data[\"user_data\"][0].cast(\"int\").alias(\"UserID\"),\n",
        "    data[\"user_data\"][1].alias(\"Gender\"),\n",
        "    data[\"user_data\"][2].cast(\"int\").alias(\"Age\"),\n",
        "    data[\"user_data\"][3].cast(\"int\").alias(\"Occupation\"),\n",
        "    data[\"user_data\"][4].alias(\"Zip-code\")\n",
        ")"
      ]
    },
    {
      "cell_type": "code",
      "execution_count": 33,
      "metadata": {
        "id": "g0TEAANagO3f",
        "colab": {
          "base_uri": "https://localhost:8080/"
        },
        "outputId": "341a15ed-ac0c-4817-8ca6-4a06f4b9c7b0"
      },
      "outputs": [
        {
          "output_type": "stream",
          "name": "stdout",
          "text": [
            "+------+------+---+----------+--------+\n",
            "|UserID|Gender|Age|Occupation|Zip-code|\n",
            "+------+------+---+----------+--------+\n",
            "|     1|     F|  1|        10|   48067|\n",
            "|     2|     M| 56|        16|   70072|\n",
            "|     3|     M| 25|        15|   55117|\n",
            "|     4|     M| 45|         7|   02460|\n",
            "|     5|     M| 25|        20|   55455|\n",
            "|     6|     F| 50|         9|   55117|\n",
            "|     7|     M| 35|         1|   06810|\n",
            "|     8|     M| 25|        12|   11413|\n",
            "|     9|     M| 25|        17|   61614|\n",
            "|    10|     F| 35|         1|   95370|\n",
            "+------+------+---+----------+--------+\n",
            "only showing top 10 rows\n",
            "\n"
          ]
        }
      ],
      "source": [
        "user_df.show(10)"
      ]
    },
    {
      "cell_type": "markdown",
      "metadata": {
        "id": "id4_Uw3jd7_k"
      },
      "source": [
        "### Gender Column"
      ]
    },
    {
      "cell_type": "markdown",
      "metadata": {
        "id": "MiWckM9PuB4Q"
      },
      "source": [
        "#### Number per gender"
      ]
    },
    {
      "cell_type": "code",
      "execution_count": 34,
      "metadata": {
        "id": "b1g_9S5ZtOJN",
        "colab": {
          "base_uri": "https://localhost:8080/",
          "height": 112
        },
        "outputId": "95dceb67-612c-4971-b8f7-fcfc3efb98d8"
      },
      "outputs": [
        {
          "output_type": "execute_result",
          "data": {
            "text/plain": [
              "  Gender  count\n",
              "0      F   1709\n",
              "1      M   4331"
            ],
            "text/html": [
              "\n",
              "  <div id=\"df-e801d5bd-8d36-49bc-8229-29d6ad7f2984\" class=\"colab-df-container\">\n",
              "    <div>\n",
              "<style scoped>\n",
              "    .dataframe tbody tr th:only-of-type {\n",
              "        vertical-align: middle;\n",
              "    }\n",
              "\n",
              "    .dataframe tbody tr th {\n",
              "        vertical-align: top;\n",
              "    }\n",
              "\n",
              "    .dataframe thead th {\n",
              "        text-align: right;\n",
              "    }\n",
              "</style>\n",
              "<table border=\"1\" class=\"dataframe\">\n",
              "  <thead>\n",
              "    <tr style=\"text-align: right;\">\n",
              "      <th></th>\n",
              "      <th>Gender</th>\n",
              "      <th>count</th>\n",
              "    </tr>\n",
              "  </thead>\n",
              "  <tbody>\n",
              "    <tr>\n",
              "      <th>0</th>\n",
              "      <td>F</td>\n",
              "      <td>1709</td>\n",
              "    </tr>\n",
              "    <tr>\n",
              "      <th>1</th>\n",
              "      <td>M</td>\n",
              "      <td>4331</td>\n",
              "    </tr>\n",
              "  </tbody>\n",
              "</table>\n",
              "</div>\n",
              "    <div class=\"colab-df-buttons\">\n",
              "\n",
              "  <div class=\"colab-df-container\">\n",
              "    <button class=\"colab-df-convert\" onclick=\"convertToInteractive('df-e801d5bd-8d36-49bc-8229-29d6ad7f2984')\"\n",
              "            title=\"Convert this dataframe to an interactive table.\"\n",
              "            style=\"display:none;\">\n",
              "\n",
              "  <svg xmlns=\"http://www.w3.org/2000/svg\" height=\"24px\" viewBox=\"0 -960 960 960\">\n",
              "    <path d=\"M120-120v-720h720v720H120Zm60-500h600v-160H180v160Zm220 220h160v-160H400v160Zm0 220h160v-160H400v160ZM180-400h160v-160H180v160Zm440 0h160v-160H620v160ZM180-180h160v-160H180v160Zm440 0h160v-160H620v160Z\"/>\n",
              "  </svg>\n",
              "    </button>\n",
              "\n",
              "  <style>\n",
              "    .colab-df-container {\n",
              "      display:flex;\n",
              "      gap: 12px;\n",
              "    }\n",
              "\n",
              "    .colab-df-convert {\n",
              "      background-color: #E8F0FE;\n",
              "      border: none;\n",
              "      border-radius: 50%;\n",
              "      cursor: pointer;\n",
              "      display: none;\n",
              "      fill: #1967D2;\n",
              "      height: 32px;\n",
              "      padding: 0 0 0 0;\n",
              "      width: 32px;\n",
              "    }\n",
              "\n",
              "    .colab-df-convert:hover {\n",
              "      background-color: #E2EBFA;\n",
              "      box-shadow: 0px 1px 2px rgba(60, 64, 67, 0.3), 0px 1px 3px 1px rgba(60, 64, 67, 0.15);\n",
              "      fill: #174EA6;\n",
              "    }\n",
              "\n",
              "    .colab-df-buttons div {\n",
              "      margin-bottom: 4px;\n",
              "    }\n",
              "\n",
              "    [theme=dark] .colab-df-convert {\n",
              "      background-color: #3B4455;\n",
              "      fill: #D2E3FC;\n",
              "    }\n",
              "\n",
              "    [theme=dark] .colab-df-convert:hover {\n",
              "      background-color: #434B5C;\n",
              "      box-shadow: 0px 1px 3px 1px rgba(0, 0, 0, 0.15);\n",
              "      filter: drop-shadow(0px 1px 2px rgba(0, 0, 0, 0.3));\n",
              "      fill: #FFFFFF;\n",
              "    }\n",
              "  </style>\n",
              "\n",
              "    <script>\n",
              "      const buttonEl =\n",
              "        document.querySelector('#df-e801d5bd-8d36-49bc-8229-29d6ad7f2984 button.colab-df-convert');\n",
              "      buttonEl.style.display =\n",
              "        google.colab.kernel.accessAllowed ? 'block' : 'none';\n",
              "\n",
              "      async function convertToInteractive(key) {\n",
              "        const element = document.querySelector('#df-e801d5bd-8d36-49bc-8229-29d6ad7f2984');\n",
              "        const dataTable =\n",
              "          await google.colab.kernel.invokeFunction('convertToInteractive',\n",
              "                                                    [key], {});\n",
              "        if (!dataTable) return;\n",
              "\n",
              "        const docLinkHtml = 'Like what you see? Visit the ' +\n",
              "          '<a target=\"_blank\" href=https://colab.research.google.com/notebooks/data_table.ipynb>data table notebook</a>'\n",
              "          + ' to learn more about interactive tables.';\n",
              "        element.innerHTML = '';\n",
              "        dataTable['output_type'] = 'display_data';\n",
              "        await google.colab.output.renderOutput(dataTable, element);\n",
              "        const docLink = document.createElement('div');\n",
              "        docLink.innerHTML = docLinkHtml;\n",
              "        element.appendChild(docLink);\n",
              "      }\n",
              "    </script>\n",
              "  </div>\n",
              "\n",
              "\n",
              "<div id=\"df-318324cc-0de7-461c-8e69-ce4c16104e5c\">\n",
              "  <button class=\"colab-df-quickchart\" onclick=\"quickchart('df-318324cc-0de7-461c-8e69-ce4c16104e5c')\"\n",
              "            title=\"Suggest charts.\"\n",
              "            style=\"display:none;\">\n",
              "\n",
              "<svg xmlns=\"http://www.w3.org/2000/svg\" height=\"24px\"viewBox=\"0 0 24 24\"\n",
              "     width=\"24px\">\n",
              "    <g>\n",
              "        <path d=\"M19 3H5c-1.1 0-2 .9-2 2v14c0 1.1.9 2 2 2h14c1.1 0 2-.9 2-2V5c0-1.1-.9-2-2-2zM9 17H7v-7h2v7zm4 0h-2V7h2v10zm4 0h-2v-4h2v4z\"/>\n",
              "    </g>\n",
              "</svg>\n",
              "  </button>\n",
              "\n",
              "<style>\n",
              "  .colab-df-quickchart {\n",
              "      --bg-color: #E8F0FE;\n",
              "      --fill-color: #1967D2;\n",
              "      --hover-bg-color: #E2EBFA;\n",
              "      --hover-fill-color: #174EA6;\n",
              "      --disabled-fill-color: #AAA;\n",
              "      --disabled-bg-color: #DDD;\n",
              "  }\n",
              "\n",
              "  [theme=dark] .colab-df-quickchart {\n",
              "      --bg-color: #3B4455;\n",
              "      --fill-color: #D2E3FC;\n",
              "      --hover-bg-color: #434B5C;\n",
              "      --hover-fill-color: #FFFFFF;\n",
              "      --disabled-bg-color: #3B4455;\n",
              "      --disabled-fill-color: #666;\n",
              "  }\n",
              "\n",
              "  .colab-df-quickchart {\n",
              "    background-color: var(--bg-color);\n",
              "    border: none;\n",
              "    border-radius: 50%;\n",
              "    cursor: pointer;\n",
              "    display: none;\n",
              "    fill: var(--fill-color);\n",
              "    height: 32px;\n",
              "    padding: 0;\n",
              "    width: 32px;\n",
              "  }\n",
              "\n",
              "  .colab-df-quickchart:hover {\n",
              "    background-color: var(--hover-bg-color);\n",
              "    box-shadow: 0 1px 2px rgba(60, 64, 67, 0.3), 0 1px 3px 1px rgba(60, 64, 67, 0.15);\n",
              "    fill: var(--button-hover-fill-color);\n",
              "  }\n",
              "\n",
              "  .colab-df-quickchart-complete:disabled,\n",
              "  .colab-df-quickchart-complete:disabled:hover {\n",
              "    background-color: var(--disabled-bg-color);\n",
              "    fill: var(--disabled-fill-color);\n",
              "    box-shadow: none;\n",
              "  }\n",
              "\n",
              "  .colab-df-spinner {\n",
              "    border: 2px solid var(--fill-color);\n",
              "    border-color: transparent;\n",
              "    border-bottom-color: var(--fill-color);\n",
              "    animation:\n",
              "      spin 1s steps(1) infinite;\n",
              "  }\n",
              "\n",
              "  @keyframes spin {\n",
              "    0% {\n",
              "      border-color: transparent;\n",
              "      border-bottom-color: var(--fill-color);\n",
              "      border-left-color: var(--fill-color);\n",
              "    }\n",
              "    20% {\n",
              "      border-color: transparent;\n",
              "      border-left-color: var(--fill-color);\n",
              "      border-top-color: var(--fill-color);\n",
              "    }\n",
              "    30% {\n",
              "      border-color: transparent;\n",
              "      border-left-color: var(--fill-color);\n",
              "      border-top-color: var(--fill-color);\n",
              "      border-right-color: var(--fill-color);\n",
              "    }\n",
              "    40% {\n",
              "      border-color: transparent;\n",
              "      border-right-color: var(--fill-color);\n",
              "      border-top-color: var(--fill-color);\n",
              "    }\n",
              "    60% {\n",
              "      border-color: transparent;\n",
              "      border-right-color: var(--fill-color);\n",
              "    }\n",
              "    80% {\n",
              "      border-color: transparent;\n",
              "      border-right-color: var(--fill-color);\n",
              "      border-bottom-color: var(--fill-color);\n",
              "    }\n",
              "    90% {\n",
              "      border-color: transparent;\n",
              "      border-bottom-color: var(--fill-color);\n",
              "    }\n",
              "  }\n",
              "</style>\n",
              "\n",
              "  <script>\n",
              "    async function quickchart(key) {\n",
              "      const quickchartButtonEl =\n",
              "        document.querySelector('#' + key + ' button');\n",
              "      quickchartButtonEl.disabled = true;  // To prevent multiple clicks.\n",
              "      quickchartButtonEl.classList.add('colab-df-spinner');\n",
              "      try {\n",
              "        const charts = await google.colab.kernel.invokeFunction(\n",
              "            'suggestCharts', [key], {});\n",
              "      } catch (error) {\n",
              "        console.error('Error during call to suggestCharts:', error);\n",
              "      }\n",
              "      quickchartButtonEl.classList.remove('colab-df-spinner');\n",
              "      quickchartButtonEl.classList.add('colab-df-quickchart-complete');\n",
              "    }\n",
              "    (() => {\n",
              "      let quickchartButtonEl =\n",
              "        document.querySelector('#df-318324cc-0de7-461c-8e69-ce4c16104e5c button');\n",
              "      quickchartButtonEl.style.display =\n",
              "        google.colab.kernel.accessAllowed ? 'block' : 'none';\n",
              "    })();\n",
              "  </script>\n",
              "</div>\n",
              "    </div>\n",
              "  </div>\n"
            ]
          },
          "metadata": {},
          "execution_count": 34
        }
      ],
      "source": [
        "gender_df = user_df.groupBy('Gender').count().toPandas()\n",
        "gender_df"
      ]
    },
    {
      "cell_type": "code",
      "execution_count": 35,
      "metadata": {
        "id": "r20WKRB5vmM1",
        "colab": {
          "base_uri": "https://localhost:8080/",
          "height": 564
        },
        "outputId": "0278c119-01c1-410f-bd13-8fecf4bf8563"
      },
      "outputs": [
        {
          "output_type": "display_data",
          "data": {
            "text/plain": [
              "<Figure size 1000x600 with 1 Axes>"
            ],
            "image/png": "[encoded data removed]"
          },
          "metadata": {}
        }
      ],
      "source": [
        "colors = ['blue', 'green']\n",
        "plt.figure(figsize=(10, 6))\n",
        "plt.bar(gender_df[\"Gender\"], gender_df[\"count\"], color = colors)\n",
        "plt.xlabel(\"Gender\")\n",
        "plt.ylabel(\"Count\")\n",
        "plt.title(\"Gender Distribution\")\n",
        "plt.show()"
      ]
    },
    {
      "cell_type": "code",
      "execution_count": 36,
      "metadata": {
        "id": "dAo8J90SAvba"
      },
      "outputs": [],
      "source": [
        "del gender_df\n",
        "_ = gc.collect()"
      ]
    },
    {
      "cell_type": "markdown",
      "metadata": {
        "id": "riVUaloTznIs"
      },
      "source": [
        "#### Age column"
      ]
    },
    {
      "cell_type": "markdown",
      "metadata": {
        "id": "sOUFLfF_0ePV"
      },
      "source": [
        "#### Age distribution of users"
      ]
    },
    {
      "cell_type": "code",
      "execution_count": 37,
      "metadata": {
        "id": "_wZKnoEfuaGR",
        "colab": {
          "base_uri": "https://localhost:8080/",
          "height": 269
        },
        "outputId": "71efaae0-0997-4e84-f75e-66761dd07a7e"
      },
      "outputs": [
        {
          "output_type": "execute_result",
          "data": {
            "text/plain": [
              "   Age  count\n",
              "0    1    222\n",
              "1   35   1193\n",
              "2   50    496\n",
              "3   45    550\n",
              "4   25   2096\n",
              "5   56    380\n",
              "6   18   1103"
            ],
            "text/html": [
              "\n",
              "  <div id=\"df-99452b29-cfa1-4329-9e15-6cf9db6be487\" class=\"colab-df-container\">\n",
              "    <div>\n",
              "<style scoped>\n",
              "    .dataframe tbody tr th:only-of-type {\n",
              "        vertical-align: middle;\n",
              "    }\n",
              "\n",
              "    .dataframe tbody tr th {\n",
              "        vertical-align: top;\n",
              "    }\n",
              "\n",
              "    .dataframe thead th {\n",
              "        text-align: right;\n",
              "    }\n",
              "</style>\n",
              "<table border=\"1\" class=\"dataframe\">\n",
              "  <thead>\n",
              "    <tr style=\"text-align: right;\">\n",
              "      <th></th>\n",
              "      <th>Age</th>\n",
              "      <th>count</th>\n",
              "    </tr>\n",
              "  </thead>\n",
              "  <tbody>\n",
              "    <tr>\n",
              "      <th>0</th>\n",
              "      <td>1</td>\n",
              "      <td>222</td>\n",
              "    </tr>\n",
              "    <tr>\n",
              "      <th>1</th>\n",
              "      <td>35</td>\n",
              "      <td>1193</td>\n",
              "    </tr>\n",
              "    <tr>\n",
              "      <th>2</th>\n",
              "      <td>50</td>\n",
              "      <td>496</td>\n",
              "    </tr>\n",
              "    <tr>\n",
              "      <th>3</th>\n",
              "      <td>45</td>\n",
              "      <td>550</td>\n",
              "    </tr>\n",
              "    <tr>\n",
              "      <th>4</th>\n",
              "      <td>25</td>\n",
              "      <td>2096</td>\n",
              "    </tr>\n",
              "    <tr>\n",
              "      <th>5</th>\n",
              "      <td>56</td>\n",
              "      <td>380</td>\n",
              "    </tr>\n",
              "    <tr>\n",
              "      <th>6</th>\n",
              "      <td>18</td>\n",
              "      <td>1103</td>\n",
              "    </tr>\n",
              "  </tbody>\n",
              "</table>\n",
              "</div>\n",
              "    <div class=\"colab-df-buttons\">\n",
              "\n",
              "  <div class=\"colab-df-container\">\n",
              "    <button class=\"colab-df-convert\" onclick=\"convertToInteractive('df-99452b29-cfa1-4329-9e15-6cf9db6be487')\"\n",
              "            title=\"Convert this dataframe to an interactive table.\"\n",
              "            style=\"display:none;\">\n",
              "\n",
              "  <svg xmlns=\"http://www.w3.org/2000/svg\" height=\"24px\" viewBox=\"0 -960 960 960\">\n",
              "    <path d=\"M120-120v-720h720v720H120Zm60-500h600v-160H180v160Zm220 220h160v-160H400v160Zm0 220h160v-160H400v160ZM180-400h160v-160H180v160Zm440 0h160v-160H620v160ZM180-180h160v-160H180v160Zm440 0h160v-160H620v160Z\"/>\n",
              "  </svg>\n",
              "    </button>\n",
              "\n",
              "  <style>\n",
              "    .colab-df-container {\n",
              "      display:flex;\n",
              "      gap: 12px;\n",
              "    }\n",
              "\n",
              "    .colab-df-convert {\n",
              "      background-color: #E8F0FE;\n",
              "      border: none;\n",
              "      border-radius: 50%;\n",
              "      cursor: pointer;\n",
              "      display: none;\n",
              "      fill: #1967D2;\n",
              "      height: 32px;\n",
              "      padding: 0 0 0 0;\n",
              "      width: 32px;\n",
              "    }\n",
              "\n",
              "    .colab-df-convert:hover {\n",
              "      background-color: #E2EBFA;\n",
              "      box-shadow: 0px 1px 2px rgba(60, 64, 67, 0.3), 0px 1px 3px 1px rgba(60, 64, 67, 0.15);\n",
              "      fill: #174EA6;\n",
              "    }\n",
              "\n",
              "    .colab-df-buttons div {\n",
              "      margin-bottom: 4px;\n",
              "    }\n",
              "\n",
              "    [theme=dark] .colab-df-convert {\n",
              "      background-color: #3B4455;\n",
              "      fill: #D2E3FC;\n",
              "    }\n",
              "\n",
              "    [theme=dark] .colab-df-convert:hover {\n",
              "      background-color: #434B5C;\n",
              "      box-shadow: 0px 1px 3px 1px rgba(0, 0, 0, 0.15);\n",
              "      filter: drop-shadow(0px 1px 2px rgba(0, 0, 0, 0.3));\n",
              "      fill: #FFFFFF;\n",
              "    }\n",
              "  </style>\n",
              "\n",
              "    <script>\n",
              "      const buttonEl =\n",
              "        document.querySelector('#df-99452b29-cfa1-4329-9e15-6cf9db6be487 button.colab-df-convert');\n",
              "      buttonEl.style.display =\n",
              "        google.colab.kernel.accessAllowed ? 'block' : 'none';\n",
              "\n",
              "      async function convertToInteractive(key) {\n",
              "        const element = document.querySelector('#df-99452b29-cfa1-4329-9e15-6cf9db6be487');\n",
              "        const dataTable =\n",
              "          await google.colab.kernel.invokeFunction('convertToInteractive',\n",
              "                                                    [key], {});\n",
              "        if (!dataTable) return;\n",
              "\n",
              "        const docLinkHtml = 'Like what you see? Visit the ' +\n",
              "          '<a target=\"_blank\" href=https://colab.research.google.com/notebooks/data_table.ipynb>data table notebook</a>'\n",
              "          + ' to learn more about interactive tables.';\n",
              "        element.innerHTML = '';\n",
              "        dataTable['output_type'] = 'display_data';\n",
              "        await google.colab.output.renderOutput(dataTable, element);\n",
              "        const docLink = document.createElement('div');\n",
              "        docLink.innerHTML = docLinkHtml;\n",
              "        element.appendChild(docLink);\n",
              "      }\n",
              "    </script>\n",
              "  </div>\n",
              "\n",
              "\n",
              "<div id=\"df-0d5659b5-9fb9-4a05-8592-7d61e9bbeec1\">\n",
              "  <button class=\"colab-df-quickchart\" onclick=\"quickchart('df-0d5659b5-9fb9-4a05-8592-7d61e9bbeec1')\"\n",
              "            title=\"Suggest charts.\"\n",
              "            style=\"display:none;\">\n",
              "\n",
              "<svg xmlns=\"http://www.w3.org/2000/svg\" height=\"24px\"viewBox=\"0 0 24 24\"\n",
              "     width=\"24px\">\n",
              "    <g>\n",
              "        <path d=\"M19 3H5c-1.1 0-2 .9-2 2v14c0 1.1.9 2 2 2h14c1.1 0 2-.9 2-2V5c0-1.1-.9-2-2-2zM9 17H7v-7h2v7zm4 0h-2V7h2v10zm4 0h-2v-4h2v4z\"/>\n",
              "    </g>\n",
              "</svg>\n",
              "  </button>\n",
              "\n",
              "<style>\n",
              "  .colab-df-quickchart {\n",
              "      --bg-color: #E8F0FE;\n",
              "      --fill-color: #1967D2;\n",
              "      --hover-bg-color: #E2EBFA;\n",
              "      --hover-fill-color: #174EA6;\n",
              "      --disabled-fill-color: #AAA;\n",
              "      --disabled-bg-color: #DDD;\n",
              "  }\n",
              "\n",
              "  [theme=dark] .colab-df-quickchart {\n",
              "      --bg-color: #3B4455;\n",
              "      --fill-color: #D2E3FC;\n",
              "      --hover-bg-color: #434B5C;\n",
              "      --hover-fill-color: #FFFFFF;\n",
              "      --disabled-bg-color: #3B4455;\n",
              "      --disabled-fill-color: #666;\n",
              "  }\n",
              "\n",
              "  .colab-df-quickchart {\n",
              "    background-color: var(--bg-color);\n",
              "    border: none;\n",
              "    border-radius: 50%;\n",
              "    cursor: pointer;\n",
              "    display: none;\n",
              "    fill: var(--fill-color);\n",
              "    height: 32px;\n",
              "    padding: 0;\n",
              "    width: 32px;\n",
              "  }\n",
              "\n",
              "  .colab-df-quickchart:hover {\n",
              "    background-color: var(--hover-bg-color);\n",
              "    box-shadow: 0 1px 2px rgba(60, 64, 67, 0.3), 0 1px 3px 1px rgba(60, 64, 67, 0.15);\n",
              "    fill: var(--button-hover-fill-color);\n",
              "  }\n",
              "\n",
              "  .colab-df-quickchart-complete:disabled,\n",
              "  .colab-df-quickchart-complete:disabled:hover {\n",
              "    background-color: var(--disabled-bg-color);\n",
              "    fill: var(--disabled-fill-color);\n",
              "    box-shadow: none;\n",
              "  }\n",
              "\n",
              "  .colab-df-spinner {\n",
              "    border: 2px solid var(--fill-color);\n",
              "    border-color: transparent;\n",
              "    border-bottom-color: var(--fill-color);\n",
              "    animation:\n",
              "      spin 1s steps(1) infinite;\n",
              "  }\n",
              "\n",
              "  @keyframes spin {\n",
              "    0% {\n",
              "      border-color: transparent;\n",
              "      border-bottom-color: var(--fill-color);\n",
              "      border-left-color: var(--fill-color);\n",
              "    }\n",
              "    20% {\n",
              "      border-color: transparent;\n",
              "      border-left-color: var(--fill-color);\n",
              "      border-top-color: var(--fill-color);\n",
              "    }\n",
              "    30% {\n",
              "      border-color: transparent;\n",
              "      border-left-color: var(--fill-color);\n",
              "      border-top-color: var(--fill-color);\n",
              "      border-right-color: var(--fill-color);\n",
              "    }\n",
              "    40% {\n",
              "      border-color: transparent;\n",
              "      border-right-color: var(--fill-color);\n",
              "      border-top-color: var(--fill-color);\n",
              "    }\n",
              "    60% {\n",
              "      border-color: transparent;\n",
              "      border-right-color: var(--fill-color);\n",
              "    }\n",
              "    80% {\n",
              "      border-color: transparent;\n",
              "      border-right-color: var(--fill-color);\n",
              "      border-bottom-color: var(--fill-color);\n",
              "    }\n",
              "    90% {\n",
              "      border-color: transparent;\n",
              "      border-bottom-color: var(--fill-color);\n",
              "    }\n",
              "  }\n",
              "</style>\n",
              "\n",
              "  <script>\n",
              "    async function quickchart(key) {\n",
              "      const quickchartButtonEl =\n",
              "        document.querySelector('#' + key + ' button');\n",
              "      quickchartButtonEl.disabled = true;  // To prevent multiple clicks.\n",
              "      quickchartButtonEl.classList.add('colab-df-spinner');\n",
              "      try {\n",
              "        const charts = await google.colab.kernel.invokeFunction(\n",
              "            'suggestCharts', [key], {});\n",
              "      } catch (error) {\n",
              "        console.error('Error during call to suggestCharts:', error);\n",
              "      }\n",
              "      quickchartButtonEl.classList.remove('colab-df-spinner');\n",
              "      quickchartButtonEl.classList.add('colab-df-quickchart-complete');\n",
              "    }\n",
              "    (() => {\n",
              "      let quickchartButtonEl =\n",
              "        document.querySelector('#df-0d5659b5-9fb9-4a05-8592-7d61e9bbeec1 button');\n",
              "      quickchartButtonEl.style.display =\n",
              "        google.colab.kernel.accessAllowed ? 'block' : 'none';\n",
              "    })();\n",
              "  </script>\n",
              "</div>\n",
              "    </div>\n",
              "  </div>\n"
            ]
          },
          "metadata": {},
          "execution_count": 37
        }
      ],
      "source": [
        "age_df = user_df.groupBy('Age').count().toPandas()\n",
        "age_df"
      ]
    },
    {
      "cell_type": "code",
      "execution_count": 38,
      "metadata": {
        "id": "WsvS57SE01Kj",
        "colab": {
          "base_uri": "https://localhost:8080/",
          "height": 269
        },
        "outputId": "76b83703-19b1-4df9-eb5e-ca7787101681"
      },
      "outputs": [
        {
          "output_type": "execute_result",
          "data": {
            "text/plain": [
              "        Age  count\n",
              "0  Under 18    222\n",
              "1     35-44   1193\n",
              "2     50-55    496\n",
              "3     45-49    550\n",
              "4     25-34   2096\n",
              "5       56+    380\n",
              "6     18-24   1103"
            ],
            "text/html": [
              "\n",
              "  <div id=\"df-3a15e26f-79f2-4ad7-83e0-94297e27578f\" class=\"colab-df-container\">\n",
              "    <div>\n",
              "<style scoped>\n",
              "    .dataframe tbody tr th:only-of-type {\n",
              "        vertical-align: middle;\n",
              "    }\n",
              "\n",
              "    .dataframe tbody tr th {\n",
              "        vertical-align: top;\n",
              "    }\n",
              "\n",
              "    .dataframe thead th {\n",
              "        text-align: right;\n",
              "    }\n",
              "</style>\n",
              "<table border=\"1\" class=\"dataframe\">\n",
              "  <thead>\n",
              "    <tr style=\"text-align: right;\">\n",
              "      <th></th>\n",
              "      <th>Age</th>\n",
              "      <th>count</th>\n",
              "    </tr>\n",
              "  </thead>\n",
              "  <tbody>\n",
              "    <tr>\n",
              "      <th>0</th>\n",
              "      <td>Under 18</td>\n",
              "      <td>222</td>\n",
              "    </tr>\n",
              "    <tr>\n",
              "      <th>1</th>\n",
              "      <td>35-44</td>\n",
              "      <td>1193</td>\n",
              "    </tr>\n",
              "    <tr>\n",
              "      <th>2</th>\n",
              "      <td>50-55</td>\n",
              "      <td>496</td>\n",
              "    </tr>\n",
              "    <tr>\n",
              "      <th>3</th>\n",
              "      <td>45-49</td>\n",
              "      <td>550</td>\n",
              "    </tr>\n",
              "    <tr>\n",
              "      <th>4</th>\n",
              "      <td>25-34</td>\n",
              "      <td>2096</td>\n",
              "    </tr>\n",
              "    <tr>\n",
              "      <th>5</th>\n",
              "      <td>56+</td>\n",
              "      <td>380</td>\n",
              "    </tr>\n",
              "    <tr>\n",
              "      <th>6</th>\n",
              "      <td>18-24</td>\n",
              "      <td>1103</td>\n",
              "    </tr>\n",
              "  </tbody>\n",
              "</table>\n",
              "</div>\n",
              "    <div class=\"colab-df-buttons\">\n",
              "\n",
              "  <div class=\"colab-df-container\">\n",
              "    <button class=\"colab-df-convert\" onclick=\"convertToInteractive('df-3a15e26f-79f2-4ad7-83e0-94297e27578f')\"\n",
              "            title=\"Convert this dataframe to an interactive table.\"\n",
              "            style=\"display:none;\">\n",
              "\n",
              "  <svg xmlns=\"http://www.w3.org/2000/svg\" height=\"24px\" viewBox=\"0 -960 960 960\">\n",
              "    <path d=\"M120-120v-720h720v720H120Zm60-500h600v-160H180v160Zm220 220h160v-160H400v160Zm0 220h160v-160H400v160ZM180-400h160v-160H180v160Zm440 0h160v-160H620v160ZM180-180h160v-160H180v160Zm440 0h160v-160H620v160Z\"/>\n",
              "  </svg>\n",
              "    </button>\n",
              "\n",
              "  <style>\n",
              "    .colab-df-container {\n",
              "      display:flex;\n",
              "      gap: 12px;\n",
              "    }\n",
              "\n",
              "    .colab-df-convert {\n",
              "      background-color: #E8F0FE;\n",
              "      border: none;\n",
              "      border-radius: 50%;\n",
              "      cursor: pointer;\n",
              "      display: none;\n",
              "      fill: #1967D2;\n",
              "      height: 32px;\n",
              "      padding: 0 0 0 0;\n",
              "      width: 32px;\n",
              "    }\n",
              "\n",
              "    .colab-df-convert:hover {\n",
              "      background-color: #E2EBFA;\n",
              "      box-shadow: 0px 1px 2px rgba(60, 64, 67, 0.3), 0px 1px 3px 1px rgba(60, 64, 67, 0.15);\n",
              "      fill: #174EA6;\n",
              "    }\n",
              "\n",
              "    .colab-df-buttons div {\n",
              "      margin-bottom: 4px;\n",
              "    }\n",
              "\n",
              "    [theme=dark] .colab-df-convert {\n",
              "      background-color: #3B4455;\n",
              "      fill: #D2E3FC;\n",
              "    }\n",
              "\n",
              "    [theme=dark] .colab-df-convert:hover {\n",
              "      background-color: #434B5C;\n",
              "      box-shadow: 0px 1px 3px 1px rgba(0, 0, 0, 0.15);\n",
              "      filter: drop-shadow(0px 1px 2px rgba(0, 0, 0, 0.3));\n",
              "      fill: #FFFFFF;\n",
              "    }\n",
              "  </style>\n",
              "\n",
              "    <script>\n",
              "      const buttonEl =\n",
              "        document.querySelector('#df-3a15e26f-79f2-4ad7-83e0-94297e27578f button.colab-df-convert');\n",
              "      buttonEl.style.display =\n",
              "        google.colab.kernel.accessAllowed ? 'block' : 'none';\n",
              "\n",
              "      async function convertToInteractive(key) {\n",
              "        const element = document.querySelector('#df-3a15e26f-79f2-4ad7-83e0-94297e27578f');\n",
              "        const dataTable =\n",
              "          await google.colab.kernel.invokeFunction('convertToInteractive',\n",
              "                                                    [key], {});\n",
              "        if (!dataTable) return;\n",
              "\n",
              "        const docLinkHtml = 'Like what you see? Visit the ' +\n",
              "          '<a target=\"_blank\" href=https://colab.research.google.com/notebooks/data_table.ipynb>data table notebook</a>'\n",
              "          + ' to learn more about interactive tables.';\n",
              "        element.innerHTML = '';\n",
              "        dataTable['output_type'] = 'display_data';\n",
              "        await google.colab.output.renderOutput(dataTable, element);\n",
              "        const docLink = document.createElement('div');\n",
              "        docLink.innerHTML = docLinkHtml;\n",
              "        element.appendChild(docLink);\n",
              "      }\n",
              "    </script>\n",
              "  </div>\n",
              "\n",
              "\n",
              "<div id=\"df-38c5cdb2-0ba8-408a-b776-23b5890d5ccf\">\n",
              "  <button class=\"colab-df-quickchart\" onclick=\"quickchart('df-38c5cdb2-0ba8-408a-b776-23b5890d5ccf')\"\n",
              "            title=\"Suggest charts.\"\n",
              "            style=\"display:none;\">\n",
              "\n",
              "<svg xmlns=\"http://www.w3.org/2000/svg\" height=\"24px\"viewBox=\"0 0 24 24\"\n",
              "     width=\"24px\">\n",
              "    <g>\n",
              "        <path d=\"M19 3H5c-1.1 0-2 .9-2 2v14c0 1.1.9 2 2 2h14c1.1 0 2-.9 2-2V5c0-1.1-.9-2-2-2zM9 17H7v-7h2v7zm4 0h-2V7h2v10zm4 0h-2v-4h2v4z\"/>\n",
              "    </g>\n",
              "</svg>\n",
              "  </button>\n",
              "\n",
              "<style>\n",
              "  .colab-df-quickchart {\n",
              "      --bg-color: #E8F0FE;\n",
              "      --fill-color: #1967D2;\n",
              "      --hover-bg-color: #E2EBFA;\n",
              "      --hover-fill-color: #174EA6;\n",
              "      --disabled-fill-color: #AAA;\n",
              "      --disabled-bg-color: #DDD;\n",
              "  }\n",
              "\n",
              "  [theme=dark] .colab-df-quickchart {\n",
              "      --bg-color: #3B4455;\n",
              "      --fill-color: #D2E3FC;\n",
              "      --hover-bg-color: #434B5C;\n",
              "      --hover-fill-color: #FFFFFF;\n",
              "      --disabled-bg-color: #3B4455;\n",
              "      --disabled-fill-color: #666;\n",
              "  }\n",
              "\n",
              "  .colab-df-quickchart {\n",
              "    background-color: var(--bg-color);\n",
              "    border: none;\n",
              "    border-radius: 50%;\n",
              "    cursor: pointer;\n",
              "    display: none;\n",
              "    fill: var(--fill-color);\n",
              "    height: 32px;\n",
              "    padding: 0;\n",
              "    width: 32px;\n",
              "  }\n",
              "\n",
              "  .colab-df-quickchart:hover {\n",
              "    background-color: var(--hover-bg-color);\n",
              "    box-shadow: 0 1px 2px rgba(60, 64, 67, 0.3), 0 1px 3px 1px rgba(60, 64, 67, 0.15);\n",
              "    fill: var(--button-hover-fill-color);\n",
              "  }\n",
              "\n",
              "  .colab-df-quickchart-complete:disabled,\n",
              "  .colab-df-quickchart-complete:disabled:hover {\n",
              "    background-color: var(--disabled-bg-color);\n",
              "    fill: var(--disabled-fill-color);\n",
              "    box-shadow: none;\n",
              "  }\n",
              "\n",
              "  .colab-df-spinner {\n",
              "    border: 2px solid var(--fill-color);\n",
              "    border-color: transparent;\n",
              "    border-bottom-color: var(--fill-color);\n",
              "    animation:\n",
              "      spin 1s steps(1) infinite;\n",
              "  }\n",
              "\n",
              "  @keyframes spin {\n",
              "    0% {\n",
              "      border-color: transparent;\n",
              "      border-bottom-color: var(--fill-color);\n",
              "      border-left-color: var(--fill-color);\n",
              "    }\n",
              "    20% {\n",
              "      border-color: transparent;\n",
              "      border-left-color: var(--fill-color);\n",
              "      border-top-color: var(--fill-color);\n",
              "    }\n",
              "    30% {\n",
              "      border-color: transparent;\n",
              "      border-left-color: var(--fill-color);\n",
              "      border-top-color: var(--fill-color);\n",
              "      border-right-color: var(--fill-color);\n",
              "    }\n",
              "    40% {\n",
              "      border-color: transparent;\n",
              "      border-right-color: var(--fill-color);\n",
              "      border-top-color: var(--fill-color);\n",
              "    }\n",
              "    60% {\n",
              "      border-color: transparent;\n",
              "      border-right-color: var(--fill-color);\n",
              "    }\n",
              "    80% {\n",
              "      border-color: transparent;\n",
              "      border-right-color: var(--fill-color);\n",
              "      border-bottom-color: var(--fill-color);\n",
              "    }\n",
              "    90% {\n",
              "      border-color: transparent;\n",
              "      border-bottom-color: var(--fill-color);\n",
              "    }\n",
              "  }\n",
              "</style>\n",
              "\n",
              "  <script>\n",
              "    async function quickchart(key) {\n",
              "      const quickchartButtonEl =\n",
              "        document.querySelector('#' + key + ' button');\n",
              "      quickchartButtonEl.disabled = true;  // To prevent multiple clicks.\n",
              "      quickchartButtonEl.classList.add('colab-df-spinner');\n",
              "      try {\n",
              "        const charts = await google.colab.kernel.invokeFunction(\n",
              "            'suggestCharts', [key], {});\n",
              "      } catch (error) {\n",
              "        console.error('Error during call to suggestCharts:', error);\n",
              "      }\n",
              "      quickchartButtonEl.classList.remove('colab-df-spinner');\n",
              "      quickchartButtonEl.classList.add('colab-df-quickchart-complete');\n",
              "    }\n",
              "    (() => {\n",
              "      let quickchartButtonEl =\n",
              "        document.querySelector('#df-38c5cdb2-0ba8-408a-b776-23b5890d5ccf button');\n",
              "      quickchartButtonEl.style.display =\n",
              "        google.colab.kernel.accessAllowed ? 'block' : 'none';\n",
              "    })();\n",
              "  </script>\n",
              "</div>\n",
              "    </div>\n",
              "  </div>\n"
            ]
          },
          "metadata": {},
          "execution_count": 38
        }
      ],
      "source": [
        "## convert age\n",
        "map_age = {1: \"Under 18\",\n",
        "          18: \"18-24\",\n",
        "          25: \"25-34\",\n",
        "          35: \"35-44\",\n",
        "          45: \"45-49\",\n",
        "          50: \"50-55\",\n",
        "          56: \"56+\"}\n",
        "\n",
        "age_df[\"Age\"] = age_df[\"Age\"].map(map_age)\n",
        "age_df"
      ]
    },
    {
      "cell_type": "code",
      "execution_count": 39,
      "metadata": {
        "id": "HVHYCC1K15s1",
        "colab": {
          "base_uri": "https://localhost:8080/",
          "height": 564
        },
        "outputId": "d93d59c3-1c09-49ea-ba63-4a4f36a588c8"
      },
      "outputs": [
        {
          "output_type": "display_data",
          "data": {
            "text/plain": [
              "<Figure size 1000x600 with 1 Axes>"
            ],
            "image/png": "[encoded data removed]"
          },
          "metadata": {}
        }
      ],
      "source": [
        "### draw chart\n",
        "sns.color_palette(\"husl\", 8)\n",
        "colors = ['blue', 'green']\n",
        "plt.figure(figsize=(10, 6))\n",
        "plt.bar(age_df[\"Age\"], age_df[\"count\"].sort_values())\n",
        "plt.xlabel(\"Age\")\n",
        "plt.ylabel(\"Count\")\n",
        "plt.title(\"Age Distribution\")\n",
        "plt.show()"
      ]
    },
    {
      "cell_type": "code",
      "execution_count": 40,
      "metadata": {
        "id": "35oYM91_AzUO"
      },
      "outputs": [],
      "source": [
        "del age_df\n",
        "_ = gc.collect()"
      ]
    },
    {
      "cell_type": "markdown",
      "metadata": {
        "id": "R--ERwrtp2iG"
      },
      "source": [
        "#### Occupation distribution of users"
      ]
    },
    {
      "cell_type": "code",
      "execution_count": 41,
      "metadata": {
        "id": "SbUJhuWip2iM",
        "colab": {
          "base_uri": "https://localhost:8080/",
          "height": 708
        },
        "outputId": "acb87da7-d7c1-4753-ec14-c0945652f373"
      },
      "outputs": [
        {
          "output_type": "execute_result",
          "data": {
            "text/plain": [
              "    Occupation  count\n",
              "0           12    388\n",
              "1            1    528\n",
              "2           13    142\n",
              "3           16    241\n",
              "4            6    236\n",
              "5            3    173\n",
              "6           20    281\n",
              "7            5    112\n",
              "8           19     72\n",
              "9           15    144\n",
              "10           9     92\n",
              "11          17    502\n",
              "12           4    759\n",
              "13           8     17\n",
              "14           7    679\n",
              "15          10    195\n",
              "16          11    129\n",
              "17          14    302\n",
              "18           2    267\n",
              "19           0    711\n",
              "20          18     70"
            ],
            "text/html": [
              "\n",
              "  <div id=\"df-8cf5c288-4ba0-4700-8b44-6b2a88500605\" class=\"colab-df-container\">\n",
              "    <div>\n",
              "<style scoped>\n",
              "    .dataframe tbody tr th:only-of-type {\n",
              "        vertical-align: middle;\n",
              "    }\n",
              "\n",
              "    .dataframe tbody tr th {\n",
              "        vertical-align: top;\n",
              "    }\n",
              "\n",
              "    .dataframe thead th {\n",
              "        text-align: right;\n",
              "    }\n",
              "</style>\n",
              "<table border=\"1\" class=\"dataframe\">\n",
              "  <thead>\n",
              "    <tr style=\"text-align: right;\">\n",
              "      <th></th>\n",
              "      <th>Occupation</th>\n",
              "      <th>count</th>\n",
              "    </tr>\n",
              "  </thead>\n",
              "  <tbody>\n",
              "    <tr>\n",
              "      <th>0</th>\n",
              "      <td>12</td>\n",
              "      <td>388</td>\n",
              "    </tr>\n",
              "    <tr>\n",
              "      <th>1</th>\n",
              "      <td>1</td>\n",
              "      <td>528</td>\n",
              "    </tr>\n",
              "    <tr>\n",
              "      <th>2</th>\n",
              "      <td>13</td>\n",
              "      <td>142</td>\n",
              "    </tr>\n",
              "    <tr>\n",
              "      <th>3</th>\n",
              "      <td>16</td>\n",
              "      <td>241</td>\n",
              "    </tr>\n",
              "    <tr>\n",
              "      <th>4</th>\n",
              "      <td>6</td>\n",
              "      <td>236</td>\n",
              "    </tr>\n",
              "    <tr>\n",
              "      <th>5</th>\n",
              "      <td>3</td>\n",
              "      <td>173</td>\n",
              "    </tr>\n",
              "    <tr>\n",
              "      <th>6</th>\n",
              "      <td>20</td>\n",
              "      <td>281</td>\n",
              "    </tr>\n",
              "    <tr>\n",
              "      <th>7</th>\n",
              "      <td>5</td>\n",
              "      <td>112</td>\n",
              "    </tr>\n",
              "    <tr>\n",
              "      <th>8</th>\n",
              "      <td>19</td>\n",
              "      <td>72</td>\n",
              "    </tr>\n",
              "    <tr>\n",
              "      <th>9</th>\n",
              "      <td>15</td>\n",
              "      <td>144</td>\n",
              "    </tr>\n",
              "    <tr>\n",
              "      <th>10</th>\n",
              "      <td>9</td>\n",
              "      <td>92</td>\n",
              "    </tr>\n",
              "    <tr>\n",
              "      <th>11</th>\n",
              "      <td>17</td>\n",
              "      <td>502</td>\n",
              "    </tr>\n",
              "    <tr>\n",
              "      <th>12</th>\n",
              "      <td>4</td>\n",
              "      <td>759</td>\n",
              "    </tr>\n",
              "    <tr>\n",
              "      <th>13</th>\n",
              "      <td>8</td>\n",
              "      <td>17</td>\n",
              "    </tr>\n",
              "    <tr>\n",
              "      <th>14</th>\n",
              "      <td>7</td>\n",
              "      <td>679</td>\n",
              "    </tr>\n",
              "    <tr>\n",
              "      <th>15</th>\n",
              "      <td>10</td>\n",
              "      <td>195</td>\n",
              "    </tr>\n",
              "    <tr>\n",
              "      <th>16</th>\n",
              "      <td>11</td>\n",
              "      <td>129</td>\n",
              "    </tr>\n",
              "    <tr>\n",
              "      <th>17</th>\n",
              "      <td>14</td>\n",
              "      <td>302</td>\n",
              "    </tr>\n",
              "    <tr>\n",
              "      <th>18</th>\n",
              "      <td>2</td>\n",
              "      <td>267</td>\n",
              "    </tr>\n",
              "    <tr>\n",
              "      <th>19</th>\n",
              "      <td>0</td>\n",
              "      <td>711</td>\n",
              "    </tr>\n",
              "    <tr>\n",
              "      <th>20</th>\n",
              "      <td>18</td>\n",
              "      <td>70</td>\n",
              "    </tr>\n",
              "  </tbody>\n",
              "</table>\n",
              "</div>\n",
              "    <div class=\"colab-df-buttons\">\n",
              "\n",
              "  <div class=\"colab-df-container\">\n",
              "    <button class=\"colab-df-convert\" onclick=\"convertToInteractive('df-8cf5c288-4ba0-4700-8b44-6b2a88500605')\"\n",
              "            title=\"Convert this dataframe to an interactive table.\"\n",
              "            style=\"display:none;\">\n",
              "\n",
              "  <svg xmlns=\"http://www.w3.org/2000/svg\" height=\"24px\" viewBox=\"0 -960 960 960\">\n",
              "    <path d=\"M120-120v-720h720v720H120Zm60-500h600v-160H180v160Zm220 220h160v-160H400v160Zm0 220h160v-160H400v160ZM180-400h160v-160H180v160Zm440 0h160v-160H620v160ZM180-180h160v-160H180v160Zm440 0h160v-160H620v160Z\"/>\n",
              "  </svg>\n",
              "    </button>\n",
              "\n",
              "  <style>\n",
              "    .colab-df-container {\n",
              "      display:flex;\n",
              "      gap: 12px;\n",
              "    }\n",
              "\n",
              "    .colab-df-convert {\n",
              "      background-color: #E8F0FE;\n",
              "      border: none;\n",
              "      border-radius: 50%;\n",
              "      cursor: pointer;\n",
              "      display: none;\n",
              "      fill: #1967D2;\n",
              "      height: 32px;\n",
              "      padding: 0 0 0 0;\n",
              "      width: 32px;\n",
              "    }\n",
              "\n",
              "    .colab-df-convert:hover {\n",
              "      background-color: #E2EBFA;\n",
              "      box-shadow: 0px 1px 2px rgba(60, 64, 67, 0.3), 0px 1px 3px 1px rgba(60, 64, 67, 0.15);\n",
              "      fill: #174EA6;\n",
              "    }\n",
              "\n",
              "    .colab-df-buttons div {\n",
              "      margin-bottom: 4px;\n",
              "    }\n",
              "\n",
              "    [theme=dark] .colab-df-convert {\n",
              "      background-color: #3B4455;\n",
              "      fill: #D2E3FC;\n",
              "    }\n",
              "\n",
              "    [theme=dark] .colab-df-convert:hover {\n",
              "      background-color: #434B5C;\n",
              "      box-shadow: 0px 1px 3px 1px rgba(0, 0, 0, 0.15);\n",
              "      filter: drop-shadow(0px 1px 2px rgba(0, 0, 0, 0.3));\n",
              "      fill: #FFFFFF;\n",
              "    }\n",
              "  </style>\n",
              "\n",
              "    <script>\n",
              "      const buttonEl =\n",
              "        document.querySelector('#df-8cf5c288-4ba0-4700-8b44-6b2a88500605 button.colab-df-convert');\n",
              "      buttonEl.style.display =\n",
              "        google.colab.kernel.accessAllowed ? 'block' : 'none';\n",
              "\n",
              "      async function convertToInteractive(key) {\n",
              "        const element = document.querySelector('#df-8cf5c288-4ba0-4700-8b44-6b2a88500605');\n",
              "        const dataTable =\n",
              "          await google.colab.kernel.invokeFunction('convertToInteractive',\n",
              "                                                    [key], {});\n",
              "        if (!dataTable) return;\n",
              "\n",
              "        const docLinkHtml = 'Like what you see? Visit the ' +\n",
              "          '<a target=\"_blank\" href=https://colab.research.google.com/notebooks/data_table.ipynb>data table notebook</a>'\n",
              "          + ' to learn more about interactive tables.';\n",
              "        element.innerHTML = '';\n",
              "        dataTable['output_type'] = 'display_data';\n",
              "        await google.colab.output.renderOutput(dataTable, element);\n",
              "        const docLink = document.createElement('div');\n",
              "        docLink.innerHTML = docLinkHtml;\n",
              "        element.appendChild(docLink);\n",
              "      }\n",
              "    </script>\n",
              "  </div>\n",
              "\n",
              "\n",
              "<div id=\"df-dc696adf-2f05-40ac-918a-debdc028a89a\">\n",
              "  <button class=\"colab-df-quickchart\" onclick=\"quickchart('df-dc696adf-2f05-40ac-918a-debdc028a89a')\"\n",
              "            title=\"Suggest charts.\"\n",
              "            style=\"display:none;\">\n",
              "\n",
              "<svg xmlns=\"http://www.w3.org/2000/svg\" height=\"24px\"viewBox=\"0 0 24 24\"\n",
              "     width=\"24px\">\n",
              "    <g>\n",
              "        <path d=\"M19 3H5c-1.1 0-2 .9-2 2v14c0 1.1.9 2 2 2h14c1.1 0 2-.9 2-2V5c0-1.1-.9-2-2-2zM9 17H7v-7h2v7zm4 0h-2V7h2v10zm4 0h-2v-4h2v4z\"/>\n",
              "    </g>\n",
              "</svg>\n",
              "  </button>\n",
              "\n",
              "<style>\n",
              "  .colab-df-quickchart {\n",
              "      --bg-color: #E8F0FE;\n",
              "      --fill-color: #1967D2;\n",
              "      --hover-bg-color: #E2EBFA;\n",
              "      --hover-fill-color: #174EA6;\n",
              "      --disabled-fill-color: #AAA;\n",
              "      --disabled-bg-color: #DDD;\n",
              "  }\n",
              "\n",
              "  [theme=dark] .colab-df-quickchart {\n",
              "      --bg-color: #3B4455;\n",
              "      --fill-color: #D2E3FC;\n",
              "      --hover-bg-color: #434B5C;\n",
              "      --hover-fill-color: #FFFFFF;\n",
              "      --disabled-bg-color: #3B4455;\n",
              "      --disabled-fill-color: #666;\n",
              "  }\n",
              "\n",
              "  .colab-df-quickchart {\n",
              "    background-color: var(--bg-color);\n",
              "    border: none;\n",
              "    border-radius: 50%;\n",
              "    cursor: pointer;\n",
              "    display: none;\n",
              "    fill: var(--fill-color);\n",
              "    height: 32px;\n",
              "    padding: 0;\n",
              "    width: 32px;\n",
              "  }\n",
              "\n",
              "  .colab-df-quickchart:hover {\n",
              "    background-color: var(--hover-bg-color);\n",
              "    box-shadow: 0 1px 2px rgba(60, 64, 67, 0.3), 0 1px 3px 1px rgba(60, 64, 67, 0.15);\n",
              "    fill: var(--button-hover-fill-color);\n",
              "  }\n",
              "\n",
              "  .colab-df-quickchart-complete:disabled,\n",
              "  .colab-df-quickchart-complete:disabled:hover {\n",
              "    background-color: var(--disabled-bg-color);\n",
              "    fill: var(--disabled-fill-color);\n",
              "    box-shadow: none;\n",
              "  }\n",
              "\n",
              "  .colab-df-spinner {\n",
              "    border: 2px solid var(--fill-color);\n",
              "    border-color: transparent;\n",
              "    border-bottom-color: var(--fill-color);\n",
              "    animation:\n",
              "      spin 1s steps(1) infinite;\n",
              "  }\n",
              "\n",
              "  @keyframes spin {\n",
              "    0% {\n",
              "      border-color: transparent;\n",
              "      border-bottom-color: var(--fill-color);\n",
              "      border-left-color: var(--fill-color);\n",
              "    }\n",
              "    20% {\n",
              "      border-color: transparent;\n",
              "      border-left-color: var(--fill-color);\n",
              "      border-top-color: var(--fill-color);\n",
              "    }\n",
              "    30% {\n",
              "      border-color: transparent;\n",
              "      border-left-color: var(--fill-color);\n",
              "      border-top-color: var(--fill-color);\n",
              "      border-right-color: var(--fill-color);\n",
              "    }\n",
              "    40% {\n",
              "      border-color: transparent;\n",
              "      border-right-color: var(--fill-color);\n",
              "      border-top-color: var(--fill-color);\n",
              "    }\n",
              "    60% {\n",
              "      border-color: transparent;\n",
              "      border-right-color: var(--fill-color);\n",
              "    }\n",
              "    80% {\n",
              "      border-color: transparent;\n",
              "      border-right-color: var(--fill-color);\n",
              "      border-bottom-color: var(--fill-color);\n",
              "    }\n",
              "    90% {\n",
              "      border-color: transparent;\n",
              "      border-bottom-color: var(--fill-color);\n",
              "    }\n",
              "  }\n",
              "</style>\n",
              "\n",
              "  <script>\n",
              "    async function quickchart(key) {\n",
              "      const quickchartButtonEl =\n",
              "        document.querySelector('#' + key + ' button');\n",
              "      quickchartButtonEl.disabled = true;  // To prevent multiple clicks.\n",
              "      quickchartButtonEl.classList.add('colab-df-spinner');\n",
              "      try {\n",
              "        const charts = await google.colab.kernel.invokeFunction(\n",
              "            'suggestCharts', [key], {});\n",
              "      } catch (error) {\n",
              "        console.error('Error during call to suggestCharts:', error);\n",
              "      }\n",
              "      quickchartButtonEl.classList.remove('colab-df-spinner');\n",
              "      quickchartButtonEl.classList.add('colab-df-quickchart-complete');\n",
              "    }\n",
              "    (() => {\n",
              "      let quickchartButtonEl =\n",
              "        document.querySelector('#df-dc696adf-2f05-40ac-918a-debdc028a89a button');\n",
              "      quickchartButtonEl.style.display =\n",
              "        google.colab.kernel.accessAllowed ? 'block' : 'none';\n",
              "    })();\n",
              "  </script>\n",
              "</div>\n",
              "    </div>\n",
              "  </div>\n"
            ]
          },
          "metadata": {},
          "execution_count": 41
        }
      ],
      "source": [
        "occupation_df = user_df.groupBy('Occupation').count().toPandas()\n",
        "occupation_df"
      ]
    },
    {
      "cell_type": "code",
      "execution_count": 42,
      "metadata": {
        "id": "It0eAkCup2iM",
        "colab": {
          "base_uri": "https://localhost:8080/",
          "height": 708
        },
        "outputId": "12f647c5-8dca-4353-9974-b9588c9ba6a0"
      },
      "outputs": [
        {
          "output_type": "execute_result",
          "data": {
            "text/plain": [
              "                Occupation  count\n",
              "0               programmer    388\n",
              "1        academic/educator    528\n",
              "2                  retired    142\n",
              "3            self-employed    241\n",
              "4       doctor/health care    236\n",
              "5           clerical/admin    173\n",
              "6                   writer    281\n",
              "7         customer service    112\n",
              "8               unemployed     72\n",
              "9                scientist    144\n",
              "10               homemaker     92\n",
              "11     technician/engineer    502\n",
              "12    college/grad student    759\n",
              "13                  farmer     17\n",
              "14    executive/managerial    679\n",
              "15            K-12 student    195\n",
              "16                  lawyer    129\n",
              "17         sales/marketing    302\n",
              "18                  artist    267\n",
              "19  other or not specified    711\n",
              "20     tradesman/craftsman     70"
            ],
            "text/html": [
              "\n",
              "  <div id=\"df-f0bd138b-237f-46cd-8cb1-a58376db8279\" class=\"colab-df-container\">\n",
              "    <div>\n",
              "<style scoped>\n",
              "    .dataframe tbody tr th:only-of-type {\n",
              "        vertical-align: middle;\n",
              "    }\n",
              "\n",
              "    .dataframe tbody tr th {\n",
              "        vertical-align: top;\n",
              "    }\n",
              "\n",
              "    .dataframe thead th {\n",
              "        text-align: right;\n",
              "    }\n",
              "</style>\n",
              "<table border=\"1\" class=\"dataframe\">\n",
              "  <thead>\n",
              "    <tr style=\"text-align: right;\">\n",
              "      <th></th>\n",
              "      <th>Occupation</th>\n",
              "      <th>count</th>\n",
              "    </tr>\n",
              "  </thead>\n",
              "  <tbody>\n",
              "    <tr>\n",
              "      <th>0</th>\n",
              "      <td>programmer</td>\n",
              "      <td>388</td>\n",
              "    </tr>\n",
              "    <tr>\n",
              "      <th>1</th>\n",
              "      <td>academic/educator</td>\n",
              "      <td>528</td>\n",
              "    </tr>\n",
              "    <tr>\n",
              "      <th>2</th>\n",
              "      <td>retired</td>\n",
              "      <td>142</td>\n",
              "    </tr>\n",
              "    <tr>\n",
              "      <th>3</th>\n",
              "      <td>self-employed</td>\n",
              "      <td>241</td>\n",
              "    </tr>\n",
              "    <tr>\n",
              "      <th>4</th>\n",
              "      <td>doctor/health care</td>\n",
              "      <td>236</td>\n",
              "    </tr>\n",
              "    <tr>\n",
              "      <th>5</th>\n",
              "      <td>clerical/admin</td>\n",
              "      <td>173</td>\n",
              "    </tr>\n",
              "    <tr>\n",
              "      <th>6</th>\n",
              "      <td>writer</td>\n",
              "      <td>281</td>\n",
              "    </tr>\n",
              "    <tr>\n",
              "      <th>7</th>\n",
              "      <td>customer service</td>\n",
              "      <td>112</td>\n",
              "    </tr>\n",
              "    <tr>\n",
              "      <th>8</th>\n",
              "      <td>unemployed</td>\n",
              "      <td>72</td>\n",
              "    </tr>\n",
              "    <tr>\n",
              "      <th>9</th>\n",
              "      <td>scientist</td>\n",
              "      <td>144</td>\n",
              "    </tr>\n",
              "    <tr>\n",
              "      <th>10</th>\n",
              "      <td>homemaker</td>\n",
              "      <td>92</td>\n",
              "    </tr>\n",
              "    <tr>\n",
              "      <th>11</th>\n",
              "      <td>technician/engineer</td>\n",
              "      <td>502</td>\n",
              "    </tr>\n",
              "    <tr>\n",
              "      <th>12</th>\n",
              "      <td>college/grad student</td>\n",
              "      <td>759</td>\n",
              "    </tr>\n",
              "    <tr>\n",
              "      <th>13</th>\n",
              "      <td>farmer</td>\n",
              "      <td>17</td>\n",
              "    </tr>\n",
              "    <tr>\n",
              "      <th>14</th>\n",
              "      <td>executive/managerial</td>\n",
              "      <td>679</td>\n",
              "    </tr>\n",
              "    <tr>\n",
              "      <th>15</th>\n",
              "      <td>K-12 student</td>\n",
              "      <td>195</td>\n",
              "    </tr>\n",
              "    <tr>\n",
              "      <th>16</th>\n",
              "      <td>lawyer</td>\n",
              "      <td>129</td>\n",
              "    </tr>\n",
              "    <tr>\n",
              "      <th>17</th>\n",
              "      <td>sales/marketing</td>\n",
              "      <td>302</td>\n",
              "    </tr>\n",
              "    <tr>\n",
              "      <th>18</th>\n",
              "      <td>artist</td>\n",
              "      <td>267</td>\n",
              "    </tr>\n",
              "    <tr>\n",
              "      <th>19</th>\n",
              "      <td>other or not specified</td>\n",
              "      <td>711</td>\n",
              "    </tr>\n",
              "    <tr>\n",
              "      <th>20</th>\n",
              "      <td>tradesman/craftsman</td>\n",
              "      <td>70</td>\n",
              "    </tr>\n",
              "  </tbody>\n",
              "</table>\n",
              "</div>\n",
              "    <div class=\"colab-df-buttons\">\n",
              "\n",
              "  <div class=\"colab-df-container\">\n",
              "    <button class=\"colab-df-convert\" onclick=\"convertToInteractive('df-f0bd138b-237f-46cd-8cb1-a58376db8279')\"\n",
              "            title=\"Convert this dataframe to an interactive table.\"\n",
              "            style=\"display:none;\">\n",
              "\n",
              "  <svg xmlns=\"http://www.w3.org/2000/svg\" height=\"24px\" viewBox=\"0 -960 960 960\">\n",
              "    <path d=\"M120-120v-720h720v720H120Zm60-500h600v-160H180v160Zm220 220h160v-160H400v160Zm0 220h160v-160H400v160ZM180-400h160v-160H180v160Zm440 0h160v-160H620v160ZM180-180h160v-160H180v160Zm440 0h160v-160H620v160Z\"/>\n",
              "  </svg>\n",
              "    </button>\n",
              "\n",
              "  <style>\n",
              "    .colab-df-container {\n",
              "      display:flex;\n",
              "      gap: 12px;\n",
              "    }\n",
              "\n",
              "    .colab-df-convert {\n",
              "      background-color: #E8F0FE;\n",
              "      border: none;\n",
              "      border-radius: 50%;\n",
              "      cursor: pointer;\n",
              "      display: none;\n",
              "      fill: #1967D2;\n",
              "      height: 32px;\n",
              "      padding: 0 0 0 0;\n",
              "      width: 32px;\n",
              "    }\n",
              "\n",
              "    .colab-df-convert:hover {\n",
              "      background-color: #E2EBFA;\n",
              "      box-shadow: 0px 1px 2px rgba(60, 64, 67, 0.3), 0px 1px 3px 1px rgba(60, 64, 67, 0.15);\n",
              "      fill: #174EA6;\n",
              "    }\n",
              "\n",
              "    .colab-df-buttons div {\n",
              "      margin-bottom: 4px;\n",
              "    }\n",
              "\n",
              "    [theme=dark] .colab-df-convert {\n",
              "      background-color: #3B4455;\n",
              "      fill: #D2E3FC;\n",
              "    }\n",
              "\n",
              "    [theme=dark] .colab-df-convert:hover {\n",
              "      background-color: #434B5C;\n",
              "      box-shadow: 0px 1px 3px 1px rgba(0, 0, 0, 0.15);\n",
              "      filter: drop-shadow(0px 1px 2px rgba(0, 0, 0, 0.3));\n",
              "      fill: #FFFFFF;\n",
              "    }\n",
              "  </style>\n",
              "\n",
              "    <script>\n",
              "      const buttonEl =\n",
              "        document.querySelector('#df-f0bd138b-237f-46cd-8cb1-a58376db8279 button.colab-df-convert');\n",
              "      buttonEl.style.display =\n",
              "        google.colab.kernel.accessAllowed ? 'block' : 'none';\n",
              "\n",
              "      async function convertToInteractive(key) {\n",
              "        const element = document.querySelector('#df-f0bd138b-237f-46cd-8cb1-a58376db8279');\n",
              "        const dataTable =\n",
              "          await google.colab.kernel.invokeFunction('convertToInteractive',\n",
              "                                                    [key], {});\n",
              "        if (!dataTable) return;\n",
              "\n",
              "        const docLinkHtml = 'Like what you see? Visit the ' +\n",
              "          '<a target=\"_blank\" href=https://colab.research.google.com/notebooks/data_table.ipynb>data table notebook</a>'\n",
              "          + ' to learn more about interactive tables.';\n",
              "        element.innerHTML = '';\n",
              "        dataTable['output_type'] = 'display_data';\n",
              "        await google.colab.output.renderOutput(dataTable, element);\n",
              "        const docLink = document.createElement('div');\n",
              "        docLink.innerHTML = docLinkHtml;\n",
              "        element.appendChild(docLink);\n",
              "      }\n",
              "    </script>\n",
              "  </div>\n",
              "\n",
              "\n",
              "<div id=\"df-1991da49-70c1-4d7e-a0ef-022820a54781\">\n",
              "  <button class=\"colab-df-quickchart\" onclick=\"quickchart('df-1991da49-70c1-4d7e-a0ef-022820a54781')\"\n",
              "            title=\"Suggest charts.\"\n",
              "            style=\"display:none;\">\n",
              "\n",
              "<svg xmlns=\"http://www.w3.org/2000/svg\" height=\"24px\"viewBox=\"0 0 24 24\"\n",
              "     width=\"24px\">\n",
              "    <g>\n",
              "        <path d=\"M19 3H5c-1.1 0-2 .9-2 2v14c0 1.1.9 2 2 2h14c1.1 0 2-.9 2-2V5c0-1.1-.9-2-2-2zM9 17H7v-7h2v7zm4 0h-2V7h2v10zm4 0h-2v-4h2v4z\"/>\n",
              "    </g>\n",
              "</svg>\n",
              "  </button>\n",
              "\n",
              "<style>\n",
              "  .colab-df-quickchart {\n",
              "      --bg-color: #E8F0FE;\n",
              "      --fill-color: #1967D2;\n",
              "      --hover-bg-color: #E2EBFA;\n",
              "      --hover-fill-color: #174EA6;\n",
              "      --disabled-fill-color: #AAA;\n",
              "      --disabled-bg-color: #DDD;\n",
              "  }\n",
              "\n",
              "  [theme=dark] .colab-df-quickchart {\n",
              "      --bg-color: #3B4455;\n",
              "      --fill-color: #D2E3FC;\n",
              "      --hover-bg-color: #434B5C;\n",
              "      --hover-fill-color: #FFFFFF;\n",
              "      --disabled-bg-color: #3B4455;\n",
              "      --disabled-fill-color: #666;\n",
              "  }\n",
              "\n",
              "  .colab-df-quickchart {\n",
              "    background-color: var(--bg-color);\n",
              "    border: none;\n",
              "    border-radius: 50%;\n",
              "    cursor: pointer;\n",
              "    display: none;\n",
              "    fill: var(--fill-color);\n",
              "    height: 32px;\n",
              "    padding: 0;\n",
              "    width: 32px;\n",
              "  }\n",
              "\n",
              "  .colab-df-quickchart:hover {\n",
              "    background-color: var(--hover-bg-color);\n",
              "    box-shadow: 0 1px 2px rgba(60, 64, 67, 0.3), 0 1px 3px 1px rgba(60, 64, 67, 0.15);\n",
              "    fill: var(--button-hover-fill-color);\n",
              "  }\n",
              "\n",
              "  .colab-df-quickchart-complete:disabled,\n",
              "  .colab-df-quickchart-complete:disabled:hover {\n",
              "    background-color: var(--disabled-bg-color);\n",
              "    fill: var(--disabled-fill-color);\n",
              "    box-shadow: none;\n",
              "  }\n",
              "\n",
              "  .colab-df-spinner {\n",
              "    border: 2px solid var(--fill-color);\n",
              "    border-color: transparent;\n",
              "    border-bottom-color: var(--fill-color);\n",
              "    animation:\n",
              "      spin 1s steps(1) infinite;\n",
              "  }\n",
              "\n",
              "  @keyframes spin {\n",
              "    0% {\n",
              "      border-color: transparent;\n",
              "      border-bottom-color: var(--fill-color);\n",
              "      border-left-color: var(--fill-color);\n",
              "    }\n",
              "    20% {\n",
              "      border-color: transparent;\n",
              "      border-left-color: var(--fill-color);\n",
              "      border-top-color: var(--fill-color);\n",
              "    }\n",
              "    30% {\n",
              "      border-color: transparent;\n",
              "      border-left-color: var(--fill-color);\n",
              "      border-top-color: var(--fill-color);\n",
              "      border-right-color: var(--fill-color);\n",
              "    }\n",
              "    40% {\n",
              "      border-color: transparent;\n",
              "      border-right-color: var(--fill-color);\n",
              "      border-top-color: var(--fill-color);\n",
              "    }\n",
              "    60% {\n",
              "      border-color: transparent;\n",
              "      border-right-color: var(--fill-color);\n",
              "    }\n",
              "    80% {\n",
              "      border-color: transparent;\n",
              "      border-right-color: var(--fill-color);\n",
              "      border-bottom-color: var(--fill-color);\n",
              "    }\n",
              "    90% {\n",
              "      border-color: transparent;\n",
              "      border-bottom-color: var(--fill-color);\n",
              "    }\n",
              "  }\n",
              "</style>\n",
              "\n",
              "  <script>\n",
              "    async function quickchart(key) {\n",
              "      const quickchartButtonEl =\n",
              "        document.querySelector('#' + key + ' button');\n",
              "      quickchartButtonEl.disabled = true;  // To prevent multiple clicks.\n",
              "      quickchartButtonEl.classList.add('colab-df-spinner');\n",
              "      try {\n",
              "        const charts = await google.colab.kernel.invokeFunction(\n",
              "            'suggestCharts', [key], {});\n",
              "      } catch (error) {\n",
              "        console.error('Error during call to suggestCharts:', error);\n",
              "      }\n",
              "      quickchartButtonEl.classList.remove('colab-df-spinner');\n",
              "      quickchartButtonEl.classList.add('colab-df-quickchart-complete');\n",
              "    }\n",
              "    (() => {\n",
              "      let quickchartButtonEl =\n",
              "        document.querySelector('#df-1991da49-70c1-4d7e-a0ef-022820a54781 button');\n",
              "      quickchartButtonEl.style.display =\n",
              "        google.colab.kernel.accessAllowed ? 'block' : 'none';\n",
              "    })();\n",
              "  </script>\n",
              "</div>\n",
              "    </div>\n",
              "  </div>\n"
            ]
          },
          "metadata": {},
          "execution_count": 42
        }
      ],
      "source": [
        "## convert age\n",
        "map_occupation = {0: \"other or not specified\",\n",
        "1: \"academic/educator\",\n",
        "2: \"artist\",\n",
        "3: \"clerical/admin\",\n",
        "4: \"college/grad student\",\n",
        "5: \"customer service\",\n",
        "6: \"doctor/health care\",\n",
        "7: \"executive/managerial\",\n",
        "8: \"farmer\",\n",
        "9: \"homemaker\",\n",
        "10: \"K-12 student\",\n",
        "11: \"lawyer\",\n",
        "12: \"programmer\",\n",
        "13: \"retired\",\n",
        "14: \"sales/marketing\",\n",
        "15: \"scientist\",\n",
        "16: \"self-employed\",\n",
        "17: \"technician/engineer\",\n",
        "18: \"tradesman/craftsman\",\n",
        "19: \"unemployed\",\n",
        "20: \"writer\"}\n",
        "\n",
        "occupation_df[\"Occupation\"] = occupation_df[\"Occupation\"].map(map_occupation)\n",
        "occupation_df"
      ]
    },
    {
      "cell_type": "code",
      "execution_count": 43,
      "metadata": {
        "id": "kC3PGjHMp2iM",
        "colab": {
          "base_uri": "https://localhost:8080/",
          "height": 462
        },
        "outputId": "14dd532d-80d8-4092-fdc9-701bfda27a7b"
      },
      "outputs": [
        {
          "output_type": "display_data",
          "data": {
            "text/plain": [
              "<Figure size 2000x600 with 1 Axes>"
            ],
            "image/png": "[encoded data removed]"
          },
          "metadata": {}
        }
      ],
      "source": [
        "### draw chart\n",
        "sns.color_palette(\"husl\", 8)\n",
        "plt.figure(figsize=(20, 6))\n",
        "plt.bar(occupation_df[\"Occupation\"], occupation_df[\"count\"].sort_values())\n",
        "plt.xticks(rotation = 45)\n",
        "plt.xlabel(\"Occupation\")\n",
        "plt.ylabel(\"Count\")\n",
        "plt.title(\"Occupation Distribution\")\n",
        "plt.show()"
      ]
    },
    {
      "cell_type": "code",
      "execution_count": 44,
      "metadata": {
        "id": "hMk1UfO1A21n"
      },
      "outputs": [],
      "source": [
        "del occupation_df\n",
        "_ = gc.collect()"
      ]
    },
    {
      "cell_type": "markdown",
      "metadata": {
        "id": "shZHkA7V5OpA"
      },
      "source": [
        "-------------"
      ]
    },
    {
      "cell_type": "markdown",
      "metadata": {
        "id": "RgeH9TbJ5OpB"
      },
      "source": [
        "## Read ratings.dat"
      ]
    },
    {
      "cell_type": "markdown",
      "metadata": {
        "id": "EWOZJs1M5OpB"
      },
      "source": [
        "Format: UserID::MovieID::Rating::Timestamp\n",
        "- UserIDs range between 1 and 6040\n",
        "- MovieIDs range between 1 and 3952\n",
        "- Ratings are made on a 5-star scale (whole-star ratings only)\n",
        "- Timestamp is represented in seconds since the epoch as returned by time(2)\n",
        "- Each user has at least 20 ratings\n",
        "---\n",
        "\n"
      ]
    },
    {
      "cell_type": "code",
      "execution_count": 45,
      "metadata": {
        "id": "Th5wFj7t5OpB"
      },
      "outputs": [],
      "source": [
        "lines = spark.read.text(\"ml-1m/ratings.dat\")"
      ]
    },
    {
      "cell_type": "code",
      "execution_count": 46,
      "metadata": {
        "id": "pO_wXAxt5OpB"
      },
      "outputs": [],
      "source": [
        "# Split column\n",
        "data = lines.select(split(lines.value, \"::\").alias(\"rating_data\"))"
      ]
    },
    {
      "cell_type": "code",
      "execution_count": 47,
      "metadata": {
        "id": "d9_ESQao5OpB",
        "colab": {
          "base_uri": "https://localhost:8080/"
        },
        "outputId": "12fc96db-9a0e-4cd7-8c12-dc08f00bf0d9"
      },
      "outputs": [
        {
          "output_type": "stream",
          "name": "stdout",
          "text": [
            "+--------------------+\n",
            "|         rating_data|\n",
            "+--------------------+\n",
            "|[1, 1193, 5, 9783...|\n",
            "|[1, 661, 3, 97830...|\n",
            "|[1, 914, 3, 97830...|\n",
            "|[1, 3408, 4, 9783...|\n",
            "|[1, 2355, 5, 9788...|\n",
            "|[1, 1197, 3, 9783...|\n",
            "|[1, 1287, 5, 9783...|\n",
            "|[1, 2804, 5, 9783...|\n",
            "|[1, 594, 4, 97830...|\n",
            "|[1, 919, 4, 97830...|\n",
            "|[1, 595, 5, 97882...|\n",
            "|[1, 938, 4, 97830...|\n",
            "|[1, 2398, 4, 9783...|\n",
            "|[1, 2918, 4, 9783...|\n",
            "|[1, 1035, 5, 9783...|\n",
            "|[1, 2791, 4, 9783...|\n",
            "|[1, 2687, 3, 9788...|\n",
            "|[1, 2018, 4, 9783...|\n",
            "|[1, 3105, 5, 9783...|\n",
            "|[1, 2797, 4, 9783...|\n",
            "+--------------------+\n",
            "only showing top 20 rows\n",
            "\n"
          ]
        }
      ],
      "source": [
        "data.show()"
      ]
    },
    {
      "cell_type": "code",
      "execution_count": 48,
      "metadata": {
        "id": "fVPFkM0F5OpC"
      },
      "outputs": [],
      "source": [
        "rating_df = data.select(\n",
        "    data[\"rating_data\"][0].cast(\"int\").alias(\"UserID\"),\n",
        "    data[\"rating_data\"][1].cast(\"int\").alias(\"MovieID\"),\n",
        "    data[\"rating_data\"][2].cast(\"int\").alias(\"Rating\"),\n",
        "    data[\"rating_data\"][3].cast(\"int\").alias(\"Timestamp\")\n",
        ")"
      ]
    },
    {
      "cell_type": "code",
      "execution_count": 49,
      "metadata": {
        "id": "vUC1b6Cl5OpC",
        "colab": {
          "base_uri": "https://localhost:8080/"
        },
        "outputId": "02638d9a-aaeb-4cb6-ab5b-1e996a98a872"
      },
      "outputs": [
        {
          "output_type": "stream",
          "name": "stdout",
          "text": [
            "+------+-------+------+---------+\n",
            "|UserID|MovieID|Rating|Timestamp|\n",
            "+------+-------+------+---------+\n",
            "|     1|   1193|     5|978300760|\n",
            "|     1|    661|     3|978302109|\n",
            "|     1|    914|     3|978301968|\n",
            "|     1|   3408|     4|978300275|\n",
            "|     1|   2355|     5|978824291|\n",
            "|     1|   1197|     3|978302268|\n",
            "|     1|   1287|     5|978302039|\n",
            "|     1|   2804|     5|978300719|\n",
            "|     1|    594|     4|978302268|\n",
            "|     1|    919|     4|978301368|\n",
            "+------+-------+------+---------+\n",
            "only showing top 10 rows\n",
            "\n"
          ]
        }
      ],
      "source": [
        "rating_df.show(10)"
      ]
    },
    {
      "cell_type": "code",
      "execution_count": 50,
      "metadata": {
        "id": "mMZDpoZB8ADZ",
        "colab": {
          "base_uri": "https://localhost:8080/"
        },
        "outputId": "0ac66339-fbb7-414e-fa92-43849e2b9b9a"
      },
      "outputs": [
        {
          "output_type": "execute_result",
          "data": {
            "text/plain": [
              "1000209"
            ]
          },
          "metadata": {},
          "execution_count": 50
        }
      ],
      "source": [
        "rating_df.count()"
      ]
    },
    {
      "cell_type": "markdown",
      "metadata": {
        "id": "eMEnFPp65OpC"
      },
      "source": [
        "### User Column"
      ]
    },
    {
      "cell_type": "markdown",
      "metadata": {
        "id": "1Ke3JyuT5OpC"
      },
      "source": [
        "#### Top 10 Users rate the most movies"
      ]
    },
    {
      "cell_type": "code",
      "execution_count": 51,
      "metadata": {
        "id": "xEqJi53Cp2iM",
        "colab": {
          "base_uri": "https://localhost:8080/"
        },
        "outputId": "606f2ae8-0311-42aa-972f-fe796d8c1971"
      },
      "outputs": [
        {
          "output_type": "stream",
          "name": "stdout",
          "text": [
            "+------+-----+\n",
            "|UserID|count|\n",
            "+------+-----+\n",
            "|  4169| 2314|\n",
            "|  1680| 1850|\n",
            "|  4277| 1743|\n",
            "|  1941| 1595|\n",
            "|  1181| 1521|\n",
            "|   889| 1518|\n",
            "|  3618| 1344|\n",
            "|  2063| 1323|\n",
            "|  1150| 1302|\n",
            "|  1015| 1286|\n",
            "+------+-----+\n",
            "\n"
          ]
        }
      ],
      "source": [
        "count_user = rating_df.groupBy(\"UserID\").count().orderBy(col(\"count\").desc()).limit(10)\n",
        "count_user.show()"
      ]
    },
    {
      "cell_type": "code",
      "execution_count": 52,
      "metadata": {
        "id": "CRKfymxO7yDU",
        "colab": {
          "base_uri": "https://localhost:8080/"
        },
        "outputId": "cfd7fa99-5bc9-479c-e76d-a83b6051ab6f"
      },
      "outputs": [
        {
          "output_type": "stream",
          "name": "stdout",
          "text": [
            "+------+-----+------+---+----------+--------+\n",
            "|UserID|count|Gender|Age|Occupation|Zip-code|\n",
            "+------+-----+------+---+----------+--------+\n",
            "|   889| 1518|     M| 45|        20|   10024|\n",
            "|  1015| 1286|     M| 35|         3|   11220|\n",
            "|  1150| 1302|     F| 25|        20|   75226|\n",
            "|  1181| 1521|     M| 35|         7|   20716|\n",
            "|  1680| 1850|     M| 25|        20|   95380|\n",
            "|  1941| 1595|     M| 35|        17|   94550|\n",
            "|  2063| 1323|     M| 25|         4|   43138|\n",
            "|  3618| 1344|     M| 56|        17|   22657|\n",
            "|  4169| 2314|     M| 50|         0|   66048|\n",
            "|  4277| 1743|     M| 35|        16|   98133|\n",
            "+------+-----+------+---+----------+--------+\n",
            "\n"
          ]
        }
      ],
      "source": [
        "user_inf = count_user.join(user_df, on=\"UserID\")\n",
        "user_inf.show()"
      ]
    },
    {
      "cell_type": "code",
      "execution_count": 53,
      "metadata": {
        "id": "D0VotuApA_Xd"
      },
      "outputs": [],
      "source": [
        "del user_inf, count_user\n",
        "_ = gc.collect()"
      ]
    },
    {
      "cell_type": "markdown",
      "metadata": {
        "id": "7BKsy8wGAItd"
      },
      "source": [
        "#### Top 10 movies with the most reviews"
      ]
    },
    {
      "cell_type": "code",
      "execution_count": 54,
      "metadata": {
        "id": "WjWEopcY_23F",
        "colab": {
          "base_uri": "https://localhost:8080/"
        },
        "outputId": "82e8d7ad-1722-481d-a85c-93892883421a"
      },
      "outputs": [
        {
          "output_type": "stream",
          "name": "stdout",
          "text": [
            "+-------+-----+\n",
            "|MovieID|count|\n",
            "+-------+-----+\n",
            "|   2858| 3428|\n",
            "|    260| 2991|\n",
            "|   1196| 2990|\n",
            "|   1210| 2883|\n",
            "|    480| 2672|\n",
            "|   2028| 2653|\n",
            "|    589| 2649|\n",
            "|   2571| 2590|\n",
            "|   1270| 2583|\n",
            "|    593| 2578|\n",
            "+-------+-----+\n",
            "\n"
          ]
        }
      ],
      "source": [
        "count_movie = rating_df.groupBy(\"MovieID\").count().orderBy(col(\"count\").desc()).limit(10)\n",
        "count_movie.show()"
      ]
    },
    {
      "cell_type": "code",
      "execution_count": 55,
      "metadata": {
        "id": "tqEW4NcoAqo-",
        "colab": {
          "base_uri": "https://localhost:8080/"
        },
        "outputId": "2c4869f9-d2d3-417d-d68e-67d437dca32e"
      },
      "outputs": [
        {
          "output_type": "stream",
          "name": "stdout",
          "text": [
            "+-------+-----+-----------------------------------------+----------------------------------------------+----+\n",
            "|MovieID|count|Genres                                   |TitleN                                        |Year|\n",
            "+-------+-----+-----------------------------------------+----------------------------------------------+----+\n",
            "|2858   |3428 |[Comedy, Drama]                          |American Beauty                               |1999|\n",
            "|260    |2991 |[Action, Adventure, Fantasy, Sci-Fi]     |Star Wars: Episode IV - A New Hope            |1977|\n",
            "|1196   |2990 |[Action, Adventure, Drama, Sci-Fi, War]  |Star Wars: Episode V - The Empire Strikes Back|1980|\n",
            "|1210   |2883 |[Action, Adventure, Romance, Sci-Fi, War]|Star Wars: Episode VI - Return of the Jedi    |1983|\n",
            "|480    |2672 |[Action, Adventure, Sci-Fi]              |Jurassic Park                                 |1993|\n",
            "|2028   |2653 |[Action, Drama, War]                     |Saving Private Ryan                           |1998|\n",
            "|589    |2649 |[Action, Sci-Fi, Thriller]               |Terminator 2: Judgment Day                    |1991|\n",
            "|2571   |2590 |[Action, Sci-Fi, Thriller]               |Matrix, The                                   |1999|\n",
            "|1270   |2583 |[Comedy, Sci-Fi]                         |Back to the Future                            |1985|\n",
            "|593    |2578 |[Drama, Thriller]                        |Silence of the Lambs, The                     |1991|\n",
            "+-------+-----+-----------------------------------------+----------------------------------------------+----+\n",
            "\n"
          ]
        }
      ],
      "source": [
        "top_movie = count_movie.join(movie_df, on=\"MovieID\")\n",
        "top_movie = top_movie.orderBy(col(\"count\").desc())\n",
        "top_movie.show(truncate=False)"
      ]
    },
    {
      "cell_type": "code",
      "execution_count": 56,
      "metadata": {
        "id": "4WymNHqYBIaq"
      },
      "outputs": [],
      "source": [
        "del count_movie\n",
        "_ = gc.collect()"
      ]
    },
    {
      "cell_type": "markdown",
      "metadata": {
        "id": "6m72LK9JCsQU"
      },
      "source": [
        "#### Get all movies with the highest ratings"
      ]
    },
    {
      "cell_type": "code",
      "execution_count": 57,
      "metadata": {
        "id": "UA8vWiDfA7Ov",
        "colab": {
          "base_uri": "https://localhost:8080/"
        },
        "outputId": "f5bbcc11-6473-489f-9a86-208226c49e96"
      },
      "outputs": [
        {
          "output_type": "stream",
          "name": "stdout",
          "text": [
            "+-------+----------+\n",
            "|MovieID|MeanRating|\n",
            "+-------+----------+\n",
            "|   3382|       5.0|\n",
            "|   1830|       5.0|\n",
            "|   3280|       5.0|\n",
            "|    989|       5.0|\n",
            "|   3656|       5.0|\n",
            "+-------+----------+\n",
            "only showing top 5 rows\n",
            "\n"
          ]
        }
      ],
      "source": [
        "from pyspark.sql.functions import mean\n",
        "\n",
        "mean_rate = rating_df.groupBy(\"MovieID\").agg(mean(col(\"Rating\")).alias(\"MeanRating\")).orderBy(col(\"MeanRating\").desc())\n",
        "mean_rate.show(5)"
      ]
    },
    {
      "cell_type": "markdown",
      "metadata": {
        "id": "H76-RU5fElnq"
      },
      "source": [
        "We can see have many movies which are rated 5 stars. So we will get all 5 stars movie."
      ]
    },
    {
      "cell_type": "code",
      "execution_count": 58,
      "metadata": {
        "id": "qqK2Cv8TDIwt",
        "colab": {
          "base_uri": "https://localhost:8080/"
        },
        "outputId": "4883796c-5c45-4b8e-bb23-4fec5691e436"
      },
      "outputs": [
        {
          "output_type": "stream",
          "name": "stdout",
          "text": [
            "Number of 5 starts movie:  10\n",
            "\n",
            "+-------+----------+------------------------+----------------------------------+----+\n",
            "|MovieID|MeanRating|Genres                  |TitleN                            |Year|\n",
            "+-------+----------+------------------------+----------------------------------+----+\n",
            "|787    |5.0       |[Documentary]           |Gate of Heavenly Peace, The       |1995|\n",
            "|3172   |5.0       |[Adventure]             |Ulysses (Ulisse)                  |1954|\n",
            "|3607   |5.0       |[Comedy, Drama, Western]|One Little Indian                 |1973|\n",
            "|989    |5.0       |[Drama]                 |Schlafes Bruder (Brother of Sleep)|1995|\n",
            "|3382   |5.0       |[Drama]                 |Song of Freedom                   |1936|\n",
            "|3280   |5.0       |[Horror]                |Baby, The                         |1973|\n",
            "|3656   |5.0       |[Crime]                 |Lured                             |1947|\n",
            "|3233   |5.0       |[Comedy]                |Smashing Time                     |1967|\n",
            "|1830   |5.0       |[Comedy]                |Follow the Bitch                  |1998|\n",
            "|3881   |5.0       |[Documentary]           |Bittersweet Motel                 |2000|\n",
            "+-------+----------+------------------------+----------------------------------+----+\n",
            "\n"
          ]
        }
      ],
      "source": [
        "top_movie = mean_rate.filter(mean_rate[\"MeanRating\"] == 5)\n",
        "top_movie = top_movie.join(movie_df, on=\"MovieID\")\n",
        "print(\"Number of 5 starts movie: \", top_movie.count(), end=\"\\n\\n\")\n",
        "top_movie.show(truncate=False)"
      ]
    },
    {
      "cell_type": "code",
      "execution_count": 59,
      "metadata": {
        "id": "NGl_9tHkBRrC"
      },
      "outputs": [],
      "source": [
        "del top_movie, mean_rate\n",
        "_ = gc.collect()"
      ]
    },
    {
      "cell_type": "markdown",
      "metadata": {
        "id": "x7uP3WuiMvrr"
      },
      "source": [
        "#### Ask other questions that make sense of the data"
      ]
    },
    {
      "cell_type": "markdown",
      "metadata": {
        "id": "rMdYR8zXSW9H"
      },
      "source": [
        "We will assign rating points as follows:\n",
        "- Favorites: 4-5\n",
        "- Okay: 3-4\n",
        "- Not good: 0-3"
      ]
    },
    {
      "cell_type": "markdown",
      "metadata": {
        "id": "3l4pKOqtTTxb"
      },
      "source": [
        "#### Genres with the highest and lowest ratings"
      ]
    },
    {
      "cell_type": "code",
      "execution_count": 60,
      "metadata": {
        "id": "b5itrtxmoOvt",
        "colab": {
          "base_uri": "https://localhost:8080/"
        },
        "outputId": "80e9c392-b21a-4b3b-d4d5-ed7dbd5613c3"
      },
      "outputs": [
        {
          "output_type": "stream",
          "name": "stdout",
          "text": [
            "+-------+------+\n",
            "|MovieID|Rating|\n",
            "+-------+------+\n",
            "|   1193|     5|\n",
            "|    661|     3|\n",
            "|    914|     3|\n",
            "|   3408|     4|\n",
            "|   2355|     5|\n",
            "|   1197|     3|\n",
            "|   1287|     5|\n",
            "|   2804|     5|\n",
            "|    594|     4|\n",
            "|    919|     4|\n",
            "|    595|     5|\n",
            "|    938|     4|\n",
            "|   2398|     4|\n",
            "|   2918|     4|\n",
            "|   1035|     5|\n",
            "|   2791|     4|\n",
            "|   2687|     3|\n",
            "|   2018|     4|\n",
            "|   3105|     5|\n",
            "|   2797|     4|\n",
            "+-------+------+\n",
            "only showing top 20 rows\n",
            "\n"
          ]
        }
      ],
      "source": [
        "rating_df[[\"MovieID\", \"Rating\"]].show()"
      ]
    },
    {
      "cell_type": "code",
      "execution_count": 61,
      "metadata": {
        "id": "Q1iLztgnTTkZ",
        "colab": {
          "base_uri": "https://localhost:8080/"
        },
        "outputId": "7a9c66c2-bf61-480d-e7ad-cff23224571d"
      },
      "outputs": [
        {
          "output_type": "stream",
          "name": "stdout",
          "text": [
            "+-------+----------+------+------+\n",
            "|MovieID|     Genre|UserID|Rating|\n",
            "+-------+----------+------+------+\n",
            "|   1193|     Drama|     1|     5|\n",
            "|    661|   Musical|     1|     3|\n",
            "|    661|Children's|     1|     3|\n",
            "|    661| Animation|     1|     3|\n",
            "|    914|   Romance|     1|     3|\n",
            "|    914|   Musical|     1|     3|\n",
            "|   3408|     Drama|     1|     4|\n",
            "|   2355|    Comedy|     1|     5|\n",
            "|   2355|Children's|     1|     5|\n",
            "|   2355| Animation|     1|     5|\n",
            "|   1197|   Romance|     1|     3|\n",
            "|   1197|    Comedy|     1|     3|\n",
            "|   1197| Adventure|     1|     3|\n",
            "|   1197|    Action|     1|     3|\n",
            "|   1287|     Drama|     1|     5|\n",
            "|   1287| Adventure|     1|     5|\n",
            "|   1287|    Action|     1|     5|\n",
            "|   2804|     Drama|     1|     5|\n",
            "|   2804|    Comedy|     1|     5|\n",
            "|    594|   Musical|     1|     4|\n",
            "+-------+----------+------+------+\n",
            "only showing top 20 rows\n",
            "\n"
          ]
        }
      ],
      "source": [
        "explode_genre = movie_df.select(explode(col(\"Genres\")).alias(\"Genre\"), col(\"MovieID\"))\n",
        "new_rating = explode_genre.join(rating_df[[\"UserID\",\"MovieID\", \"Rating\"]], on=\"MovieID\")\n",
        "new_rating.show()"
      ]
    },
    {
      "cell_type": "code",
      "execution_count": 62,
      "metadata": {
        "id": "gVWsshmBpOdo",
        "colab": {
          "base_uri": "https://localhost:8080/",
          "height": 206
        },
        "outputId": "e613d2e0-2661-437e-c202-07b2bba268dd"
      },
      "outputs": [
        {
          "output_type": "execute_result",
          "data": {
            "text/plain": [
              "         Genre  MeanRating\n",
              "0    Film-Noir        4.08\n",
              "1  Documentary        3.93\n",
              "2          War        3.89\n",
              "3        Drama        3.77\n",
              "4        Crime        3.71"
            ],
            "text/html": [
              "\n",
              "  <div id=\"df-2cf4c884-3c51-498b-9ebb-e09919946cec\" class=\"colab-df-container\">\n",
              "    <div>\n",
              "<style scoped>\n",
              "    .dataframe tbody tr th:only-of-type {\n",
              "        vertical-align: middle;\n",
              "    }\n",
              "\n",
              "    .dataframe tbody tr th {\n",
              "        vertical-align: top;\n",
              "    }\n",
              "\n",
              "    .dataframe thead th {\n",
              "        text-align: right;\n",
              "    }\n",
              "</style>\n",
              "<table border=\"1\" class=\"dataframe\">\n",
              "  <thead>\n",
              "    <tr style=\"text-align: right;\">\n",
              "      <th></th>\n",
              "      <th>Genre</th>\n",
              "      <th>MeanRating</th>\n",
              "    </tr>\n",
              "  </thead>\n",
              "  <tbody>\n",
              "    <tr>\n",
              "      <th>0</th>\n",
              "      <td>Film-Noir</td>\n",
              "      <td>4.08</td>\n",
              "    </tr>\n",
              "    <tr>\n",
              "      <th>1</th>\n",
              "      <td>Documentary</td>\n",
              "      <td>3.93</td>\n",
              "    </tr>\n",
              "    <tr>\n",
              "      <th>2</th>\n",
              "      <td>War</td>\n",
              "      <td>3.89</td>\n",
              "    </tr>\n",
              "    <tr>\n",
              "      <th>3</th>\n",
              "      <td>Drama</td>\n",
              "      <td>3.77</td>\n",
              "    </tr>\n",
              "    <tr>\n",
              "      <th>4</th>\n",
              "      <td>Crime</td>\n",
              "      <td>3.71</td>\n",
              "    </tr>\n",
              "  </tbody>\n",
              "</table>\n",
              "</div>\n",
              "    <div class=\"colab-df-buttons\">\n",
              "\n",
              "  <div class=\"colab-df-container\">\n",
              "    <button class=\"colab-df-convert\" onclick=\"convertToInteractive('df-2cf4c884-3c51-498b-9ebb-e09919946cec')\"\n",
              "            title=\"Convert this dataframe to an interactive table.\"\n",
              "            style=\"display:none;\">\n",
              "\n",
              "  <svg xmlns=\"http://www.w3.org/2000/svg\" height=\"24px\" viewBox=\"0 -960 960 960\">\n",
              "    <path d=\"M120-120v-720h720v720H120Zm60-500h600v-160H180v160Zm220 220h160v-160H400v160Zm0 220h160v-160H400v160ZM180-400h160v-160H180v160Zm440 0h160v-160H620v160ZM180-180h160v-160H180v160Zm440 0h160v-160H620v160Z\"/>\n",
              "  </svg>\n",
              "    </button>\n",
              "\n",
              "  <style>\n",
              "    .colab-df-container {\n",
              "      display:flex;\n",
              "      gap: 12px;\n",
              "    }\n",
              "\n",
              "    .colab-df-convert {\n",
              "      background-color: #E8F0FE;\n",
              "      border: none;\n",
              "      border-radius: 50%;\n",
              "      cursor: pointer;\n",
              "      display: none;\n",
              "      fill: #1967D2;\n",
              "      height: 32px;\n",
              "      padding: 0 0 0 0;\n",
              "      width: 32px;\n",
              "    }\n",
              "\n",
              "    .colab-df-convert:hover {\n",
              "      background-color: #E2EBFA;\n",
              "      box-shadow: 0px 1px 2px rgba(60, 64, 67, 0.3), 0px 1px 3px 1px rgba(60, 64, 67, 0.15);\n",
              "      fill: #174EA6;\n",
              "    }\n",
              "\n",
              "    .colab-df-buttons div {\n",
              "      margin-bottom: 4px;\n",
              "    }\n",
              "\n",
              "    [theme=dark] .colab-df-convert {\n",
              "      background-color: #3B4455;\n",
              "      fill: #D2E3FC;\n",
              "    }\n",
              "\n",
              "    [theme=dark] .colab-df-convert:hover {\n",
              "      background-color: #434B5C;\n",
              "      box-shadow: 0px 1px 3px 1px rgba(0, 0, 0, 0.15);\n",
              "      filter: drop-shadow(0px 1px 2px rgba(0, 0, 0, 0.3));\n",
              "      fill: #FFFFFF;\n",
              "    }\n",
              "  </style>\n",
              "\n",
              "    <script>\n",
              "      const buttonEl =\n",
              "        document.querySelector('#df-2cf4c884-3c51-498b-9ebb-e09919946cec button.colab-df-convert');\n",
              "      buttonEl.style.display =\n",
              "        google.colab.kernel.accessAllowed ? 'block' : 'none';\n",
              "\n",
              "      async function convertToInteractive(key) {\n",
              "        const element = document.querySelector('#df-2cf4c884-3c51-498b-9ebb-e09919946cec');\n",
              "        const dataTable =\n",
              "          await google.colab.kernel.invokeFunction('convertToInteractive',\n",
              "                                                    [key], {});\n",
              "        if (!dataTable) return;\n",
              "\n",
              "        const docLinkHtml = 'Like what you see? Visit the ' +\n",
              "          '<a target=\"_blank\" href=https://colab.research.google.com/notebooks/data_table.ipynb>data table notebook</a>'\n",
              "          + ' to learn more about interactive tables.';\n",
              "        element.innerHTML = '';\n",
              "        dataTable['output_type'] = 'display_data';\n",
              "        await google.colab.output.renderOutput(dataTable, element);\n",
              "        const docLink = document.createElement('div');\n",
              "        docLink.innerHTML = docLinkHtml;\n",
              "        element.appendChild(docLink);\n",
              "      }\n",
              "    </script>\n",
              "  </div>\n",
              "\n",
              "\n",
              "<div id=\"df-23dd6a59-63ab-4123-a69c-e0fd8da6e720\">\n",
              "  <button class=\"colab-df-quickchart\" onclick=\"quickchart('df-23dd6a59-63ab-4123-a69c-e0fd8da6e720')\"\n",
              "            title=\"Suggest charts.\"\n",
              "            style=\"display:none;\">\n",
              "\n",
              "<svg xmlns=\"http://www.w3.org/2000/svg\" height=\"24px\"viewBox=\"0 0 24 24\"\n",
              "     width=\"24px\">\n",
              "    <g>\n",
              "        <path d=\"M19 3H5c-1.1 0-2 .9-2 2v14c0 1.1.9 2 2 2h14c1.1 0 2-.9 2-2V5c0-1.1-.9-2-2-2zM9 17H7v-7h2v7zm4 0h-2V7h2v10zm4 0h-2v-4h2v4z\"/>\n",
              "    </g>\n",
              "</svg>\n",
              "  </button>\n",
              "\n",
              "<style>\n",
              "  .colab-df-quickchart {\n",
              "      --bg-color: #E8F0FE;\n",
              "      --fill-color: #1967D2;\n",
              "      --hover-bg-color: #E2EBFA;\n",
              "      --hover-fill-color: #174EA6;\n",
              "      --disabled-fill-color: #AAA;\n",
              "      --disabled-bg-color: #DDD;\n",
              "  }\n",
              "\n",
              "  [theme=dark] .colab-df-quickchart {\n",
              "      --bg-color: #3B4455;\n",
              "      --fill-color: #D2E3FC;\n",
              "      --hover-bg-color: #434B5C;\n",
              "      --hover-fill-color: #FFFFFF;\n",
              "      --disabled-bg-color: #3B4455;\n",
              "      --disabled-fill-color: #666;\n",
              "  }\n",
              "\n",
              "  .colab-df-quickchart {\n",
              "    background-color: var(--bg-color);\n",
              "    border: none;\n",
              "    border-radius: 50%;\n",
              "    cursor: pointer;\n",
              "    display: none;\n",
              "    fill: var(--fill-color);\n",
              "    height: 32px;\n",
              "    padding: 0;\n",
              "    width: 32px;\n",
              "  }\n",
              "\n",
              "  .colab-df-quickchart:hover {\n",
              "    background-color: var(--hover-bg-color);\n",
              "    box-shadow: 0 1px 2px rgba(60, 64, 67, 0.3), 0 1px 3px 1px rgba(60, 64, 67, 0.15);\n",
              "    fill: var(--button-hover-fill-color);\n",
              "  }\n",
              "\n",
              "  .colab-df-quickchart-complete:disabled,\n",
              "  .colab-df-quickchart-complete:disabled:hover {\n",
              "    background-color: var(--disabled-bg-color);\n",
              "    fill: var(--disabled-fill-color);\n",
              "    box-shadow: none;\n",
              "  }\n",
              "\n",
              "  .colab-df-spinner {\n",
              "    border: 2px solid var(--fill-color);\n",
              "    border-color: transparent;\n",
              "    border-bottom-color: var(--fill-color);\n",
              "    animation:\n",
              "      spin 1s steps(1) infinite;\n",
              "  }\n",
              "\n",
              "  @keyframes spin {\n",
              "    0% {\n",
              "      border-color: transparent;\n",
              "      border-bottom-color: var(--fill-color);\n",
              "      border-left-color: var(--fill-color);\n",
              "    }\n",
              "    20% {\n",
              "      border-color: transparent;\n",
              "      border-left-color: var(--fill-color);\n",
              "      border-top-color: var(--fill-color);\n",
              "    }\n",
              "    30% {\n",
              "      border-color: transparent;\n",
              "      border-left-color: var(--fill-color);\n",
              "      border-top-color: var(--fill-color);\n",
              "      border-right-color: var(--fill-color);\n",
              "    }\n",
              "    40% {\n",
              "      border-color: transparent;\n",
              "      border-right-color: var(--fill-color);\n",
              "      border-top-color: var(--fill-color);\n",
              "    }\n",
              "    60% {\n",
              "      border-color: transparent;\n",
              "      border-right-color: var(--fill-color);\n",
              "    }\n",
              "    80% {\n",
              "      border-color: transparent;\n",
              "      border-right-color: var(--fill-color);\n",
              "      border-bottom-color: var(--fill-color);\n",
              "    }\n",
              "    90% {\n",
              "      border-color: transparent;\n",
              "      border-bottom-color: var(--fill-color);\n",
              "    }\n",
              "  }\n",
              "</style>\n",
              "\n",
              "  <script>\n",
              "    async function quickchart(key) {\n",
              "      const quickchartButtonEl =\n",
              "        document.querySelector('#' + key + ' button');\n",
              "      quickchartButtonEl.disabled = true;  // To prevent multiple clicks.\n",
              "      quickchartButtonEl.classList.add('colab-df-spinner');\n",
              "      try {\n",
              "        const charts = await google.colab.kernel.invokeFunction(\n",
              "            'suggestCharts', [key], {});\n",
              "      } catch (error) {\n",
              "        console.error('Error during call to suggestCharts:', error);\n",
              "      }\n",
              "      quickchartButtonEl.classList.remove('colab-df-spinner');\n",
              "      quickchartButtonEl.classList.add('colab-df-quickchart-complete');\n",
              "    }\n",
              "    (() => {\n",
              "      let quickchartButtonEl =\n",
              "        document.querySelector('#df-23dd6a59-63ab-4123-a69c-e0fd8da6e720 button');\n",
              "      quickchartButtonEl.style.display =\n",
              "        google.colab.kernel.accessAllowed ? 'block' : 'none';\n",
              "    })();\n",
              "  </script>\n",
              "</div>\n",
              "    </div>\n",
              "  </div>\n"
            ]
          },
          "metadata": {},
          "execution_count": 62
        }
      ],
      "source": [
        "genre_rating = new_rating.groupBy(\"Genre\").\\\n",
        "              agg(mean(col(\"Rating\")).alias(\"MeanRating\")).\\\n",
        "              orderBy(col(\"MeanRating\").desc()).toPandas()\n",
        "\n",
        "genre_rating[\"MeanRating\"] = genre_rating[\"MeanRating\"].round(2)\n",
        "genre_rating.head()"
      ]
    },
    {
      "cell_type": "code",
      "execution_count": 63,
      "metadata": {
        "id": "lV5JGoOoqokP",
        "colab": {
          "base_uri": "https://localhost:8080/",
          "height": 385
        },
        "outputId": "97d912b6-e9b0-4262-fe63-3b342ff5aa38"
      },
      "outputs": [
        {
          "output_type": "display_data",
          "data": {
            "text/plain": [
              "<Figure size 2000x600 with 1 Axes>"
            ],
            "image/png": "[encoded data removed]"
          },
          "metadata": {}
        }
      ],
      "source": [
        "sns.color_palette(\"husl\", 8)\n",
        "plt.figure(figsize=(20, 6))\n",
        "plt.barh(genre_rating[\"Genre\"], genre_rating[\"MeanRating\"])\n",
        "\n",
        "for i in range(len(genre_rating[\"Genre\"])):\n",
        "    plt.text(genre_rating[\"MeanRating\"][i], i, genre_rating[\"MeanRating\"][i], ha = 'left')\n",
        "\n",
        "plt.xticks(rotation = 45)\n",
        "plt.xlabel(\"Occupation\")\n",
        "plt.ylabel(\"Count\")\n",
        "plt.title(\"Occupation Distribution\")\n",
        "plt.show()"
      ]
    },
    {
      "cell_type": "code",
      "execution_count": 64,
      "metadata": {
        "id": "lsebuPNxBihA"
      },
      "outputs": [],
      "source": [
        "del explode_genre, genre_rating\n",
        "_ = gc.collect()"
      ]
    },
    {
      "cell_type": "markdown",
      "metadata": {
        "id": "7eoX_e_lQrnW"
      },
      "source": [
        "#### For each age group, what is their favorite movie genre?"
      ]
    },
    {
      "cell_type": "code",
      "execution_count": 65,
      "metadata": {
        "id": "TlDJSV2zFRhi",
        "colab": {
          "base_uri": "https://localhost:8080/"
        },
        "outputId": "5883acbf-76ab-4ea9-d7ce-e47ad59186c5"
      },
      "outputs": [
        {
          "output_type": "stream",
          "name": "stdout",
          "text": [
            "+------+----------+------+---+\n",
            "|UserID|     Genre|Rating|Age|\n",
            "+------+----------+------+---+\n",
            "|     1|     Drama|     5|  1|\n",
            "|     1|   Musical|     3|  1|\n",
            "|     1|Children's|     3|  1|\n",
            "|     1| Animation|     3|  1|\n",
            "|     1|   Romance|     3|  1|\n",
            "|     1|   Musical|     3|  1|\n",
            "|     1|     Drama|     4|  1|\n",
            "|     1|    Comedy|     5|  1|\n",
            "|     1|Children's|     5|  1|\n",
            "|     1| Animation|     5|  1|\n",
            "|     1|   Romance|     3|  1|\n",
            "|     1|    Comedy|     3|  1|\n",
            "|     1| Adventure|     3|  1|\n",
            "|     1|    Action|     3|  1|\n",
            "|     1|     Drama|     5|  1|\n",
            "|     1| Adventure|     5|  1|\n",
            "|     1|    Action|     5|  1|\n",
            "|     1|     Drama|     5|  1|\n",
            "|     1|    Comedy|     5|  1|\n",
            "|     1|   Musical|     4|  1|\n",
            "+------+----------+------+---+\n",
            "only showing top 20 rows\n",
            "\n"
          ]
        }
      ],
      "source": [
        "rating_w_age = new_rating.join(user_df[[\"UserID\", \"Age\"]], on=\"UserID\")\n",
        "rating_w_age = rating_w_age.drop(\"MovieID\")\n",
        "rating_w_age.show()"
      ]
    },
    {
      "cell_type": "code",
      "execution_count": 66,
      "metadata": {
        "id": "-zBgjuQOBylF",
        "colab": {
          "base_uri": "https://localhost:8080/"
        },
        "outputId": "de2838de-c730-4016-8f43-3471d8581a23"
      },
      "outputs": [
        {
          "output_type": "stream",
          "name": "stdout",
          "text": [
            "+---+-----------+----------+----+\n",
            "|Age|      Genre|MeanRating|Rank|\n",
            "+---+-----------+----------+----+\n",
            "|  1|  Film-Noir|      4.15|   1|\n",
            "|  1|        War|       3.9|   2|\n",
            "|  1|      Drama|      3.79|   3|\n",
            "|  1|Documentary|      3.73|   4|\n",
            "|  1|      Crime|      3.71|   5|\n",
            "| 18|  Film-Noir|       4.0|   1|\n",
            "| 18|Documentary|      3.87|   2|\n",
            "| 18|        War|      3.85|   3|\n",
            "| 18|      Drama|      3.72|   4|\n",
            "| 18|      Crime|      3.67|   5|\n",
            "| 25|  Film-Noir|      4.06|   1|\n",
            "| 25|Documentary|      3.95|   2|\n",
            "| 25|        War|      3.84|   3|\n",
            "| 25|      Drama|      3.73|   4|\n",
            "| 25|  Animation|       3.7|   5|\n",
            "| 35|  Film-Noir|      4.06|   1|\n",
            "| 35|Documentary|      3.95|   2|\n",
            "| 35|        War|       3.9|   3|\n",
            "| 35|      Drama|      3.78|   4|\n",
            "| 35|  Animation|      3.74|   5|\n",
            "+---+-----------+----------+----+\n",
            "only showing top 20 rows\n",
            "\n"
          ]
        }
      ],
      "source": [
        "rating_genre_age = rating_w_age.groupBy([\"Age\", \"Genre\"]).agg(mean(col(\"Rating\")).alias(\"MeanRating\")).orderBy(asc(\"Age\"), desc(\"MeanRating\"))\n",
        "\n",
        "# Round MeanRating column\n",
        "rating_genre_age = rating_genre_age.withColumn(\"MeanRating\", round(col(\"MeanRating\"), 2))\n",
        "\n",
        "# Using  window and rank() function to rank the genres by avg of Rating\n",
        "windowSpec = Window.partitionBy(\"Age\").orderBy(col(\"MeanRating\").desc())\n",
        "\n",
        "# Add Rank column to rank genres in each age\n",
        "rating_genre_age = rating_genre_age.withColumn(\"Rank\", rank().over(windowSpec))\n",
        "\n",
        "# Choose 5 genres top in each age\n",
        "top_genres_by_age = rating_genre_age.filter(col(\"Rank\") <= 5).orderBy(\"Age\", \"Rank\")\n",
        "\n",
        "top_genres_by_age.show()"
      ]
    },
    {
      "cell_type": "code",
      "execution_count": 67,
      "metadata": {
        "id": "GIejIbzU3oRA",
        "colab": {
          "base_uri": "https://localhost:8080/"
        },
        "outputId": "e2231dd9-7703-4a56-ba89-ce55523b5849"
      },
      "outputs": [
        {
          "output_type": "stream",
          "name": "stdout",
          "text": [
            "+---+-----------+----------+----+\n",
            "|Age|      Genre|MeanRating|Rank|\n",
            "+---+-----------+----------+----+\n",
            "|  1|  Film-Noir|      4.15|   1|\n",
            "|  1|        War|       3.9|   2|\n",
            "|  1|      Drama|      3.79|   3|\n",
            "|  1|Documentary|      3.73|   4|\n",
            "|  1|      Crime|      3.71|   5|\n",
            "| 18|  Film-Noir|       4.0|   1|\n",
            "| 18|Documentary|      3.87|   2|\n",
            "| 18|        War|      3.85|   3|\n",
            "| 18|      Drama|      3.72|   4|\n",
            "| 18|      Crime|      3.67|   5|\n",
            "| 25|  Film-Noir|      4.06|   1|\n",
            "| 25|Documentary|      3.95|   2|\n",
            "| 25|        War|      3.84|   3|\n",
            "| 25|      Drama|      3.73|   4|\n",
            "| 25|  Animation|       3.7|   5|\n",
            "| 35|  Film-Noir|      4.06|   1|\n",
            "| 35|Documentary|      3.95|   2|\n",
            "| 35|        War|       3.9|   3|\n",
            "| 35|      Drama|      3.78|   4|\n",
            "| 35|  Animation|      3.74|   5|\n",
            "+---+-----------+----------+----+\n",
            "only showing top 20 rows\n",
            "\n"
          ]
        }
      ],
      "source": [
        "top_genres_by_age.show()"
      ]
    },
    {
      "cell_type": "code",
      "execution_count": 68,
      "metadata": {
        "id": "n22pKRj4sEev"
      },
      "outputs": [],
      "source": [
        "map_age = {1: \"Under 18\",\n",
        "          18: \"18-24\",\n",
        "          25: \"25-34\",\n",
        "          35: \"35-44\",\n",
        "          45: \"45-49\",\n",
        "          50: \"50-55\",\n",
        "          56: \"56+\"}"
      ]
    },
    {
      "cell_type": "code",
      "execution_count": 69,
      "metadata": {
        "id": "Pzyg8PKrprC0",
        "colab": {
          "base_uri": "https://localhost:8080/",
          "height": 828
        },
        "outputId": "d9a14444-70b1-4aac-c7e6-0b144c324e18"
      },
      "outputs": [
        {
          "output_type": "display_data",
          "data": {
            "text/plain": [
              "<Figure size 2200x1600 with 9 Axes>"
            ],
            "image/png": "[encoded data removed]"
          },
          "metadata": {}
        }
      ],
      "source": [
        "fig = plt.figure(constrained_layout=True, figsize=(22, 16))\n",
        "fig.suptitle(\"Favorite genres for each age group\", fontsize='x-large')\n",
        "\n",
        "axs = fig.subplots(3, 3, sharey=True)\n",
        "\n",
        "for i, key in enumerate(map_age):\n",
        "  temp_df = top_genres_by_age.filter(col(\"Age\") == key).drop(\"Age\", \"Rank\").toPandas()\n",
        "  nrow = i//3\n",
        "  ncol = i%3\n",
        "  axs[nrow, ncol].bar(temp_df[\"Genre\"], temp_df[\"MeanRating\"])\n",
        "  axs[nrow, ncol].set_title(map_age[key], fontsize=16)\n",
        "  for i in range(len(temp_df[\"Genre\"])):\n",
        "      axs[nrow, ncol].text( i, temp_df[\"MeanRating\"][i], temp_df[\"MeanRating\"][i], ha = 'center')\n",
        "\n",
        "\n",
        "axs[1,0].set_ylabel('Rating', fontsize=16)\n",
        "axs[2,1].set_xlabel('Genres', fontsize=16)\n",
        "\n",
        "plt.show()"
      ]
    },
    {
      "cell_type": "code",
      "execution_count": 70,
      "metadata": {
        "id": "Em-qNlZTB2Gy"
      },
      "outputs": [],
      "source": [
        "del top_genres_by_age\n",
        "_ = gc.collect()"
      ]
    },
    {
      "cell_type": "markdown",
      "metadata": {
        "id": "8KS8OOFsRtvR"
      },
      "source": [
        "#### How are scores distributed according to age?"
      ]
    },
    {
      "cell_type": "code",
      "execution_count": 71,
      "metadata": {
        "id": "6hBzMb5vRzY1",
        "colab": {
          "base_uri": "https://localhost:8080/"
        },
        "outputId": "88c0d3dd-47d3-4532-a3ee-109d2dd3c4d8"
      },
      "outputs": [
        {
          "output_type": "stream",
          "name": "stdout",
          "text": [
            "+---+------+-----+\n",
            "|Age|Rating|count|\n",
            "+---+------+-----+\n",
            "|  1|     1| 4831|\n",
            "|  1|     2| 6682|\n",
            "|  1|     3|13905|\n",
            "|  1|     4|18927|\n",
            "|  1|     5|14475|\n",
            "+---+------+-----+\n",
            "only showing top 5 rows\n",
            "\n"
          ]
        }
      ],
      "source": [
        "rating_dis_age = rating_w_age.groupBy([\"Age\",\"Rating\"]).count().orderBy(\"Age\",\"Rating\")\n",
        "rating_dis_age.show(5)"
      ]
    },
    {
      "cell_type": "code",
      "execution_count": 72,
      "metadata": {
        "id": "nE6HtFNjEkSl",
        "colab": {
          "base_uri": "https://localhost:8080/",
          "height": 828
        },
        "outputId": "6004b59b-429b-49cf-c7c8-14642d419d52"
      },
      "outputs": [
        {
          "output_type": "display_data",
          "data": {
            "text/plain": [
              "<Figure size 2200x1600 with 9 Axes>"
            ],
            "image/png": "[encoded data removed]"
          },
          "metadata": {}
        }
      ],
      "source": [
        "fig = plt.figure(constrained_layout=True, figsize=(22, 16))\n",
        "fig.suptitle(\"Distribution of scores in each age group\", fontsize='x-large')\n",
        "\n",
        "axs = fig.subplots(3, 3, sharey=True)\n",
        "\n",
        "for i, key in enumerate(map_age):\n",
        "  temp_df = rating_dis_age.filter(col(\"Age\") == key).drop(\"Age\").toPandas()\n",
        "  nrow = i//3\n",
        "  ncol = i%3\n",
        "  axs[nrow, ncol].bar(temp_df[\"Rating\"], temp_df[\"count\"])\n",
        "  axs[nrow, ncol].set_title(map_age[key], fontsize=16)\n",
        "  for i in range(len(temp_df[\"Rating\"])):\n",
        "      axs[nrow, ncol].text( i + 1, temp_df[\"count\"][i], temp_df[\"count\"][i], ha = 'center')\n",
        "\n",
        "\n",
        "axs[1,0].set_ylabel('Count', fontsize=16)\n",
        "axs[2,1].set_xlabel('Rating', fontsize=16)\n",
        "\n",
        "plt.show()"
      ]
    },
    {
      "cell_type": "code",
      "execution_count": 73,
      "metadata": {
        "id": "rDjweBNTCBSR"
      },
      "outputs": [],
      "source": [
        "del rating_dis_age, rating_w_age\n",
        "_ = gc.collect()"
      ]
    },
    {
      "cell_type": "markdown",
      "metadata": {
        "id": "XPqxSKRwgSuS"
      },
      "source": [
        "# Recommend movies for users"
      ]
    },
    {
      "cell_type": "markdown",
      "metadata": {
        "id": "ixSc_LLAc_LR"
      },
      "source": [
        "### An example explains how to do it"
      ]
    },
    {
      "cell_type": "markdown",
      "metadata": {
        "id": "ZL5JO9NXeiYX"
      },
      "source": [
        "Suppose we have ratings data stored using Numpy array\n",
        "In this data:\n",
        "- Each column corresponds to one movie\n",
        "- Each line corresponds to a user, and indicates this user how many points for each movie (scale 1-5)"
      ]
    },
    {
      "cell_type": "code",
      "execution_count": 74,
      "metadata": {
        "id": "eSuFBTN1OCLd",
        "colab": {
          "base_uri": "https://localhost:8080/"
        },
        "outputId": "7fc09fe5-7f22-4f89-d905-6776fa38674b"
      },
      "outputs": [
        {
          "output_type": "execute_result",
          "data": {
            "text/plain": [
              "array([[ 5.,  4., nan,  1., nan],\n",
              "       [nan,  4.,  4.,  2., nan],\n",
              "       [ 3., nan, nan,  5., nan],\n",
              "       [nan,  3.,  4.,  4., nan]])"
            ]
          },
          "metadata": {},
          "execution_count": 74
        }
      ],
      "source": [
        "ratings = np.array([\n",
        "    [5, 4, np.nan, 1, np.nan],\n",
        "    [np.nan, 4, 4, 2, np.nan],\n",
        "    [3, np.nan, np.nan, 5, np.nan],\n",
        "    [np.nan, 3, 4, 4, np.nan]\n",
        "])\n",
        "\n",
        "ratings"
      ]
    },
    {
      "cell_type": "markdown",
      "metadata": {
        "id": "Sz4OZt9efLgZ"
      },
      "source": [
        "For simplicity, here we only focus on working for the first user."
      ]
    },
    {
      "cell_type": "code",
      "execution_count": 75,
      "metadata": {
        "id": "ThQEfRr6jD0h",
        "colab": {
          "base_uri": "https://localhost:8080/"
        },
        "outputId": "0d06df05-d14d-4274-d2f9-91ee53b1c5c0"
      },
      "outputs": [
        {
          "output_type": "execute_result",
          "data": {
            "text/plain": [
              "array([1.00000000e+03, 1.99600798e+00, 3.33222259e-01, 4.99750125e-01])"
            ]
          },
          "metadata": {},
          "execution_count": 75
        }
      ],
      "source": [
        "# Calculate the weight representing similarities between the first user and all users\n",
        "r0 = ratings[0]\n",
        "a = np.abs(ratings - r0)\n",
        "a = np.nanmean(a, axis=1) # Ignore nan\n",
        "w = 1 / (a + 0.001) # Add 0.001 to avoid dividing by 0\n",
        "w"
      ]
    },
    {
      "cell_type": "code",
      "execution_count": 76,
      "metadata": {
        "id": "jBLy3ZvN_zze",
        "colab": {
          "base_uri": "https://localhost:8080/"
        },
        "outputId": "c26ecc08-d39e-4d2c-ef67-5ba9b5deea4f"
      },
      "outputs": [
        {
          "output_type": "execute_result",
          "data": {
            "text/plain": [
              "array([False, False,  True, False, False])"
            ]
          },
          "metadata": {},
          "execution_count": 76
        }
      ],
      "source": [
        "# Because there are movies that don't have any reviews, we need to exclude these movies\n",
        "mask = np.nansum(ratings, axis = 0) != 0\n",
        "index = (mask) & ( np.isnan(r0))\n",
        "index"
      ]
    },
    {
      "cell_type": "code",
      "execution_count": 77,
      "metadata": {
        "id": "2EJyRC7wkFzg",
        "colab": {
          "base_uri": "https://localhost:8080/"
        },
        "outputId": "7e8387a1-9181-4392-9f3b-d36dff6f07c5"
      },
      "outputs": [
        {
          "output_type": "execute_result",
          "data": {
            "text/plain": [
              "array([[nan],\n",
              "       [ 4.],\n",
              "       [nan],\n",
              "       [ 4.]])"
            ]
          },
          "metadata": {},
          "execution_count": 77
        }
      ],
      "source": [
        "# Get the columns corresponding to the movies\n",
        "# that the first user has not yet scored\n",
        "a = ratings[:, index]\n",
        "a"
      ]
    },
    {
      "cell_type": "code",
      "execution_count": 78,
      "metadata": {
        "id": "NIseEJlmkWwE",
        "colab": {
          "base_uri": "https://localhost:8080/"
        },
        "outputId": "a46bb864-8c17-49ad-c7de-ae9803435198"
      },
      "outputs": [
        {
          "output_type": "execute_result",
          "data": {
            "text/plain": [
              "array([[0.        ],\n",
              "       [0.79976019],\n",
              "       [0.        ],\n",
              "       [0.20023981]])"
            ]
          },
          "metadata": {},
          "execution_count": 78
        }
      ],
      "source": [
        "# Calculate the normalized weight matrix\n",
        "# has the same shape as the result above\n",
        "# (the sum of the columns will be 1)\n",
        "normalized_w = ~np.isnan(a) * w.reshape(-1, 1)\n",
        "normalized_w = normalized_w / normalized_w.sum(axis=0)\n",
        "normalized_w"
      ]
    },
    {
      "cell_type": "code",
      "execution_count": 79,
      "metadata": {
        "id": "6npf6ZQ70qDD",
        "colab": {
          "base_uri": "https://localhost:8080/"
        },
        "outputId": "4ab2f9d2-0b7c-46b1-905d-e5c649734642"
      },
      "outputs": [
        {
          "output_type": "execute_result",
          "data": {
            "text/plain": [
              "array([4.])"
            ]
          },
          "metadata": {},
          "execution_count": 79
        }
      ],
      "source": [
        "# Multiply the rating with the normalized weight and then add it together\n",
        "# will give a prediction score to the first user\n",
        "np.nansum(a * normalized_w, axis=0)\n",
        "# Thus, we can recommend to the first user a movie with a high prediction score."
      ]
    },
    {
      "cell_type": "markdown",
      "metadata": {
        "id": "YsnMVSqqhKEE"
      },
      "source": [
        "## Using Numpy"
      ]
    },
    {
      "cell_type": "markdown",
      "metadata": {
        "id": "ZdiMiyMhho5h"
      },
      "source": [
        "### Preprocessing"
      ]
    },
    {
      "cell_type": "code",
      "execution_count": 80,
      "metadata": {
        "id": "6gyye1uBhJ33"
      },
      "outputs": [],
      "source": [
        "### Convert to numpy array\n",
        "rating_pdf = rating_df.toPandas()\n",
        "raw_rating = rating_pdf.to_numpy()\n",
        "\n",
        "### Delete column TimeStamp\n",
        "raw_rating = raw_rating[:, :3]\n",
        "del rating_pdf\n",
        "_ = gc.collect()"
      ]
    },
    {
      "cell_type": "markdown",
      "metadata": {
        "id": "wU3S73l23D6h"
      },
      "source": [
        "To build a recommendation system, first, from the initial data which is the array `raw_rating`, we will need to create an array `ratings` including number-of-users in rows and number-of-movies in columns, `ratings[i, j]` indicates how many points the user with id i has given the movie with id j. If not, the value will be `nan`. Because Python indexes from 0, we also need to adjust the id of the user and movie to start at 0 (instead of 1)."
      ]
    },
    {
      "cell_type": "code",
      "execution_count": 81,
      "metadata": {
        "id": "elh7BLN-V65L",
        "colab": {
          "base_uri": "https://localhost:8080/"
        },
        "outputId": "18fc1bf2-ad45-4190-b374-6d7ad7cfeec4"
      },
      "outputs": [
        {
          "output_type": "stream",
          "name": "stdout",
          "text": [
            "6040 3706\n",
            "6040 3952\n"
          ]
        }
      ],
      "source": [
        "count_user = len(np.unique(raw_rating[:,0]))\n",
        "count_movie = len(np.unique(raw_rating[:,1]))\n",
        "print(count_user, count_movie)\n",
        "\n",
        "# number_user = len(np.unique(raw_rating[:,0]))\n",
        "number_user = raw_rating[:,0].max()\n",
        "# number_movie = len(np.unique(raw_rating[:,1]))\n",
        "number_movie = raw_rating[:,1].max()\n",
        "\n",
        "print(number_user, number_movie)"
      ]
    },
    {
      "cell_type": "code",
      "execution_count": 82,
      "metadata": {
        "id": "_qBFGUQXGXI1"
      },
      "outputs": [],
      "source": [
        "## Create new ratings\n",
        "ratings = np.full((number_user, number_movie), fill_value = np.nan)\n",
        "ratings[raw_rating[:, 0] - 1, raw_rating[:, 1] - 1] = raw_rating[:, 2]"
      ]
    },
    {
      "cell_type": "markdown",
      "metadata": {
        "id": "Wjinra0SCFR0"
      },
      "source": [
        "Now we will make predictions for all users in the data. However, performing a prediction loop for each user would take a lot of time, so we will perform predictions for all users. But each user has different unrated movies, so to calculate the same for everyone, we will make predictions for even rated movies.\n",
        "If you try it, you will see that it is still impossible to do it with all users at the same time, because the intermediate result arrays will be very large in size and will be reported as not having enough memory. Instead we will browse a group of users (called a batch)."
      ]
    },
    {
      "cell_type": "code",
      "execution_count": 83,
      "metadata": {
        "id": "7AVEUA0UCFwE"
      },
      "outputs": [],
      "source": [
        "batch_size = 16\n",
        "filled_ratings = np.empty_like(ratings)"
      ]
    },
    {
      "cell_type": "markdown",
      "source": [
        "You can run the cell below by uncommenting it. But the running time of this method is quite long. So to save time we will save the results to a csv file and call it for future runs."
      ],
      "metadata": {
        "id": "3PoUVlgGUMCO"
      }
    },
    {
      "cell_type": "code",
      "execution_count": 84,
      "metadata": {
        "id": "bhTx34rgCKv6",
        "colab": {
          "base_uri": "https://localhost:8080/"
        },
        "outputId": "34077a61-7ee2-40d4-ee5c-8a9827f3182a"
      },
      "outputs": [
        {
          "output_type": "stream",
          "name": "stderr",
          "text": [
            "<ipython-input-84-746d662990e8>:10: RuntimeWarning: Mean of empty slice\n",
            "  temp = np.nanmean(temp, axis = 2)\n",
            "<ipython-input-84-746d662990e8>:21: RuntimeWarning: invalid value encountered in divide\n",
            "  weights = weights / sum_similarity\n"
          ]
        },
        {
          "output_type": "stream",
          "name": "stdout",
          "text": [
            "Batch: 100. End user of batch: 1600\n",
            "Batch: 200. End user of batch: 3200\n",
            "Batch: 300. End user of batch: 4800\n"
          ]
        }
      ],
      "source": [
        "# num_batch = 0\n",
        "# for batch in range(0, ratings.shape[0], batch_size):\n",
        "#   start = batch\n",
        "#   end = batch + batch_size if batch + batch_size < ratings.shape[0] else ratings.shape[0]\n",
        "\n",
        "#   # Get batch of users\n",
        "#   n_users = ratings[start:end]\n",
        "#   n_users = np.repeat(n_users[:,np.newaxis,:], 1, axis = 1)\n",
        "#   temp = np.abs(ratings - n_users)\n",
        "#   temp = np.nanmean(temp, axis = 2)\n",
        "#   similarities = 1 / (temp + 0.001)\n",
        "\n",
        "#   mask = np.isnan(similarities)\n",
        "#   similarities[mask] = 0\n",
        "\n",
        "#   weights = np.repeat(similarities[:,:,np.newaxis],number_movie, axis = 2)\n",
        "#   mask = np.isnan(ratings)\n",
        "#   weights[:,mask] = 0\n",
        "#   sum_similarity = weights.sum(axis=1)\n",
        "#   sum_similarity = np.repeat(sum_similarity[:,np.newaxis,:],1, axis = 1)\n",
        "#   weights = weights / sum_similarity\n",
        "#   filled_ratings[start:end] = np.nansum(ratings * weights, axis = 1)\n",
        "\n",
        "#   # print batch info\n",
        "#   num_batch = num_batch + 1\n",
        "#   if num_batch % 100 == 0:\n",
        "#     print(\"Batch: \"+str(num_batch)+\". End user of batch: \"+str(end))"
      ]
    },
    {
      "cell_type": "code",
      "source": [
        "# # Save to file\n",
        "# np.savetxt(\"filled_df1.csv\", filled_ratings, delimiter=',')"
      ],
      "metadata": {
        "id": "Ct-kkTJESarJ"
      },
      "execution_count": 161,
      "outputs": []
    },
    {
      "cell_type": "code",
      "source": [
        "## Load\n",
        "filled_ratings = np.loadtxt('filled_df1.csv', delimiter=',', dtype=np.float64)\n",
        "filled_ratings.shape"
      ],
      "metadata": {
        "colab": {
          "base_uri": "https://localhost:8080/"
        },
        "id": "aOBHKTHkTcIn",
        "outputId": "24664367-6c68-470a-e193-dbcfe266271b"
      },
      "execution_count": 171,
      "outputs": [
        {
          "output_type": "execute_result",
          "data": {
            "text/plain": [
              "(6040, 3952)"
            ]
          },
          "metadata": {},
          "execution_count": 171
        }
      ]
    },
    {
      "cell_type": "code",
      "source": [
        "filled_ratings[0,:]"
      ],
      "metadata": {
        "colab": {
          "base_uri": "https://localhost:8080/"
        },
        "id": "AmF2iTWaVZ1t",
        "outputId": "cc497500-e1cd-449c-a126-4418fe43e7d0"
      },
      "execution_count": 172,
      "outputs": [
        {
          "output_type": "execute_result",
          "data": {
            "text/plain": [
              "array([4.79799318, 3.78608505, 3.00707995, ..., 3.5098596 , 3.99473673,\n",
              "       3.99264987])"
            ]
          },
          "metadata": {},
          "execution_count": 172
        }
      ]
    },
    {
      "cell_type": "markdown",
      "source": [
        "### Prediction for UserID=1"
      ],
      "metadata": {
        "id": "NlDRD39neTPc"
      }
    },
    {
      "cell_type": "code",
      "source": [
        "## Prediction for UserID=1\n",
        "# Get MovieID\n",
        "user1_nfill = np.where(np.isnan(ratings[0, :]))\n",
        "user1_nfill"
      ],
      "metadata": {
        "id": "ey2Tk2-WW1TF",
        "colab": {
          "base_uri": "https://localhost:8080/"
        },
        "outputId": "1479097b-3f70-4fac-cda4-cfe9b6fb90e0"
      },
      "execution_count": 89,
      "outputs": [
        {
          "output_type": "execute_result",
          "data": {
            "text/plain": [
              "(array([   1,    2,    3, ..., 3949, 3950, 3951]),)"
            ]
          },
          "metadata": {},
          "execution_count": 89
        }
      ]
    },
    {
      "cell_type": "code",
      "source": [
        "#Get rating\n",
        "user1_pre = filled_ratings[0,user1_nfill]"
      ],
      "metadata": {
        "id": "yFaX38tnSY6E"
      },
      "execution_count": 90,
      "outputs": []
    },
    {
      "cell_type": "code",
      "source": [
        "user1_pre"
      ],
      "metadata": {
        "colab": {
          "base_uri": "https://localhost:8080/"
        },
        "id": "VwJT4tAFZ0gA",
        "outputId": "5af97313-163f-4519-f7db-1868d6583927"
      },
      "execution_count": 91,
      "outputs": [
        {
          "output_type": "execute_result",
          "data": {
            "text/plain": [
              "array([[3.78608505, 3.00707995, 2.9625424 , ..., 3.5098596 , 3.99473673,\n",
              "        3.99264987]])"
            ]
          },
          "metadata": {},
          "execution_count": 91
        }
      ]
    },
    {
      "cell_type": "code",
      "source": [
        "pre_df = pd.DataFrame({\"MovieID\" :user1_nfill[0]+1, \"prediction\":user1_pre[0]})\n",
        "pre_df = pre_df.sort_values([\"prediction\", \"MovieID\"], ascending=False)\n",
        "pre_df.head()"
      ],
      "metadata": {
        "colab": {
          "base_uri": "https://localhost:8080/",
          "height": 206
        },
        "id": "YQ8LgEzQaj7q",
        "outputId": "4fd5d682-8274-42d3-b057-4c26b45e6376"
      },
      "execution_count": 136,
      "outputs": [
        {
          "output_type": "execute_result",
          "data": {
            "text/plain": [
              "      MovieID  prediction\n",
              "3827     3881         5.0\n",
              "3602     3656         5.0\n",
              "3553     3607         5.0\n",
              "3329     3382         5.0\n",
              "3180     3233         5.0"
            ],
            "text/html": [
              "\n",
              "  <div id=\"df-3b9bc35d-6bcc-432a-8bb6-070998462acd\" class=\"colab-df-container\">\n",
              "    <div>\n",
              "<style scoped>\n",
              "    .dataframe tbody tr th:only-of-type {\n",
              "        vertical-align: middle;\n",
              "    }\n",
              "\n",
              "    .dataframe tbody tr th {\n",
              "        vertical-align: top;\n",
              "    }\n",
              "\n",
              "    .dataframe thead th {\n",
              "        text-align: right;\n",
              "    }\n",
              "</style>\n",
              "<table border=\"1\" class=\"dataframe\">\n",
              "  <thead>\n",
              "    <tr style=\"text-align: right;\">\n",
              "      <th></th>\n",
              "      <th>MovieID</th>\n",
              "      <th>prediction</th>\n",
              "    </tr>\n",
              "  </thead>\n",
              "  <tbody>\n",
              "    <tr>\n",
              "      <th>3827</th>\n",
              "      <td>3881</td>\n",
              "      <td>5.0</td>\n",
              "    </tr>\n",
              "    <tr>\n",
              "      <th>3602</th>\n",
              "      <td>3656</td>\n",
              "      <td>5.0</td>\n",
              "    </tr>\n",
              "    <tr>\n",
              "      <th>3553</th>\n",
              "      <td>3607</td>\n",
              "      <td>5.0</td>\n",
              "    </tr>\n",
              "    <tr>\n",
              "      <th>3329</th>\n",
              "      <td>3382</td>\n",
              "      <td>5.0</td>\n",
              "    </tr>\n",
              "    <tr>\n",
              "      <th>3180</th>\n",
              "      <td>3233</td>\n",
              "      <td>5.0</td>\n",
              "    </tr>\n",
              "  </tbody>\n",
              "</table>\n",
              "</div>\n",
              "    <div class=\"colab-df-buttons\">\n",
              "\n",
              "  <div class=\"colab-df-container\">\n",
              "    <button class=\"colab-df-convert\" onclick=\"convertToInteractive('df-3b9bc35d-6bcc-432a-8bb6-070998462acd')\"\n",
              "            title=\"Convert this dataframe to an interactive table.\"\n",
              "            style=\"display:none;\">\n",
              "\n",
              "  <svg xmlns=\"http://www.w3.org/2000/svg\" height=\"24px\" viewBox=\"0 -960 960 960\">\n",
              "    <path d=\"M120-120v-720h720v720H120Zm60-500h600v-160H180v160Zm220 220h160v-160H400v160Zm0 220h160v-160H400v160ZM180-400h160v-160H180v160Zm440 0h160v-160H620v160ZM180-180h160v-160H180v160Zm440 0h160v-160H620v160Z\"/>\n",
              "  </svg>\n",
              "    </button>\n",
              "\n",
              "  <style>\n",
              "    .colab-df-container {\n",
              "      display:flex;\n",
              "      gap: 12px;\n",
              "    }\n",
              "\n",
              "    .colab-df-convert {\n",
              "      background-color: #E8F0FE;\n",
              "      border: none;\n",
              "      border-radius: 50%;\n",
              "      cursor: pointer;\n",
              "      display: none;\n",
              "      fill: #1967D2;\n",
              "      height: 32px;\n",
              "      padding: 0 0 0 0;\n",
              "      width: 32px;\n",
              "    }\n",
              "\n",
              "    .colab-df-convert:hover {\n",
              "      background-color: #E2EBFA;\n",
              "      box-shadow: 0px 1px 2px rgba(60, 64, 67, 0.3), 0px 1px 3px 1px rgba(60, 64, 67, 0.15);\n",
              "      fill: #174EA6;\n",
              "    }\n",
              "\n",
              "    .colab-df-buttons div {\n",
              "      margin-bottom: 4px;\n",
              "    }\n",
              "\n",
              "    [theme=dark] .colab-df-convert {\n",
              "      background-color: #3B4455;\n",
              "      fill: #D2E3FC;\n",
              "    }\n",
              "\n",
              "    [theme=dark] .colab-df-convert:hover {\n",
              "      background-color: #434B5C;\n",
              "      box-shadow: 0px 1px 3px 1px rgba(0, 0, 0, 0.15);\n",
              "      filter: drop-shadow(0px 1px 2px rgba(0, 0, 0, 0.3));\n",
              "      fill: #FFFFFF;\n",
              "    }\n",
              "  </style>\n",
              "\n",
              "    <script>\n",
              "      const buttonEl =\n",
              "        document.querySelector('#df-3b9bc35d-6bcc-432a-8bb6-070998462acd button.colab-df-convert');\n",
              "      buttonEl.style.display =\n",
              "        google.colab.kernel.accessAllowed ? 'block' : 'none';\n",
              "\n",
              "      async function convertToInteractive(key) {\n",
              "        const element = document.querySelector('#df-3b9bc35d-6bcc-432a-8bb6-070998462acd');\n",
              "        const dataTable =\n",
              "          await google.colab.kernel.invokeFunction('convertToInteractive',\n",
              "                                                    [key], {});\n",
              "        if (!dataTable) return;\n",
              "\n",
              "        const docLinkHtml = 'Like what you see? Visit the ' +\n",
              "          '<a target=\"_blank\" href=https://colab.research.google.com/notebooks/data_table.ipynb>data table notebook</a>'\n",
              "          + ' to learn more about interactive tables.';\n",
              "        element.innerHTML = '';\n",
              "        dataTable['output_type'] = 'display_data';\n",
              "        await google.colab.output.renderOutput(dataTable, element);\n",
              "        const docLink = document.createElement('div');\n",
              "        docLink.innerHTML = docLinkHtml;\n",
              "        element.appendChild(docLink);\n",
              "      }\n",
              "    </script>\n",
              "  </div>\n",
              "\n",
              "\n",
              "<div id=\"df-6ccf42f9-006a-4a59-856d-26bea90f44de\">\n",
              "  <button class=\"colab-df-quickchart\" onclick=\"quickchart('df-6ccf42f9-006a-4a59-856d-26bea90f44de')\"\n",
              "            title=\"Suggest charts.\"\n",
              "            style=\"display:none;\">\n",
              "\n",
              "<svg xmlns=\"http://www.w3.org/2000/svg\" height=\"24px\"viewBox=\"0 0 24 24\"\n",
              "     width=\"24px\">\n",
              "    <g>\n",
              "        <path d=\"M19 3H5c-1.1 0-2 .9-2 2v14c0 1.1.9 2 2 2h14c1.1 0 2-.9 2-2V5c0-1.1-.9-2-2-2zM9 17H7v-7h2v7zm4 0h-2V7h2v10zm4 0h-2v-4h2v4z\"/>\n",
              "    </g>\n",
              "</svg>\n",
              "  </button>\n",
              "\n",
              "<style>\n",
              "  .colab-df-quickchart {\n",
              "      --bg-color: #E8F0FE;\n",
              "      --fill-color: #1967D2;\n",
              "      --hover-bg-color: #E2EBFA;\n",
              "      --hover-fill-color: #174EA6;\n",
              "      --disabled-fill-color: #AAA;\n",
              "      --disabled-bg-color: #DDD;\n",
              "  }\n",
              "\n",
              "  [theme=dark] .colab-df-quickchart {\n",
              "      --bg-color: #3B4455;\n",
              "      --fill-color: #D2E3FC;\n",
              "      --hover-bg-color: #434B5C;\n",
              "      --hover-fill-color: #FFFFFF;\n",
              "      --disabled-bg-color: #3B4455;\n",
              "      --disabled-fill-color: #666;\n",
              "  }\n",
              "\n",
              "  .colab-df-quickchart {\n",
              "    background-color: var(--bg-color);\n",
              "    border: none;\n",
              "    border-radius: 50%;\n",
              "    cursor: pointer;\n",
              "    display: none;\n",
              "    fill: var(--fill-color);\n",
              "    height: 32px;\n",
              "    padding: 0;\n",
              "    width: 32px;\n",
              "  }\n",
              "\n",
              "  .colab-df-quickchart:hover {\n",
              "    background-color: var(--hover-bg-color);\n",
              "    box-shadow: 0 1px 2px rgba(60, 64, 67, 0.3), 0 1px 3px 1px rgba(60, 64, 67, 0.15);\n",
              "    fill: var(--button-hover-fill-color);\n",
              "  }\n",
              "\n",
              "  .colab-df-quickchart-complete:disabled,\n",
              "  .colab-df-quickchart-complete:disabled:hover {\n",
              "    background-color: var(--disabled-bg-color);\n",
              "    fill: var(--disabled-fill-color);\n",
              "    box-shadow: none;\n",
              "  }\n",
              "\n",
              "  .colab-df-spinner {\n",
              "    border: 2px solid var(--fill-color);\n",
              "    border-color: transparent;\n",
              "    border-bottom-color: var(--fill-color);\n",
              "    animation:\n",
              "      spin 1s steps(1) infinite;\n",
              "  }\n",
              "\n",
              "  @keyframes spin {\n",
              "    0% {\n",
              "      border-color: transparent;\n",
              "      border-bottom-color: var(--fill-color);\n",
              "      border-left-color: var(--fill-color);\n",
              "    }\n",
              "    20% {\n",
              "      border-color: transparent;\n",
              "      border-left-color: var(--fill-color);\n",
              "      border-top-color: var(--fill-color);\n",
              "    }\n",
              "    30% {\n",
              "      border-color: transparent;\n",
              "      border-left-color: var(--fill-color);\n",
              "      border-top-color: var(--fill-color);\n",
              "      border-right-color: var(--fill-color);\n",
              "    }\n",
              "    40% {\n",
              "      border-color: transparent;\n",
              "      border-right-color: var(--fill-color);\n",
              "      border-top-color: var(--fill-color);\n",
              "    }\n",
              "    60% {\n",
              "      border-color: transparent;\n",
              "      border-right-color: var(--fill-color);\n",
              "    }\n",
              "    80% {\n",
              "      border-color: transparent;\n",
              "      border-right-color: var(--fill-color);\n",
              "      border-bottom-color: var(--fill-color);\n",
              "    }\n",
              "    90% {\n",
              "      border-color: transparent;\n",
              "      border-bottom-color: var(--fill-color);\n",
              "    }\n",
              "  }\n",
              "</style>\n",
              "\n",
              "  <script>\n",
              "    async function quickchart(key) {\n",
              "      const quickchartButtonEl =\n",
              "        document.querySelector('#' + key + ' button');\n",
              "      quickchartButtonEl.disabled = true;  // To prevent multiple clicks.\n",
              "      quickchartButtonEl.classList.add('colab-df-spinner');\n",
              "      try {\n",
              "        const charts = await google.colab.kernel.invokeFunction(\n",
              "            'suggestCharts', [key], {});\n",
              "      } catch (error) {\n",
              "        console.error('Error during call to suggestCharts:', error);\n",
              "      }\n",
              "      quickchartButtonEl.classList.remove('colab-df-spinner');\n",
              "      quickchartButtonEl.classList.add('colab-df-quickchart-complete');\n",
              "    }\n",
              "    (() => {\n",
              "      let quickchartButtonEl =\n",
              "        document.querySelector('#df-6ccf42f9-006a-4a59-856d-26bea90f44de button');\n",
              "      quickchartButtonEl.style.display =\n",
              "        google.colab.kernel.accessAllowed ? 'block' : 'none';\n",
              "    })();\n",
              "  </script>\n",
              "</div>\n",
              "    </div>\n",
              "  </div>\n"
            ]
          },
          "metadata": {},
          "execution_count": 136
        }
      ]
    },
    {
      "cell_type": "code",
      "source": [
        "pre_df.shape"
      ],
      "metadata": {
        "colab": {
          "base_uri": "https://localhost:8080/"
        },
        "id": "vZ4MeKeh-1d3",
        "outputId": "4dff56f7-bac5-4b66-e113-0510225e39c4"
      },
      "execution_count": 137,
      "outputs": [
        {
          "output_type": "execute_result",
          "data": {
            "text/plain": [
              "(3899, 2)"
            ]
          },
          "metadata": {},
          "execution_count": 137
        }
      ]
    },
    {
      "cell_type": "markdown",
      "source": [
        "###Movie recommendation for UserID=1"
      ],
      "metadata": {
        "id": "S_AyzPDxFaVJ"
      }
    },
    {
      "cell_type": "code",
      "source": [
        "recommend1 = pre_df[pre_df[\"prediction\"] >=4]\n",
        "recommend1.shape"
      ],
      "metadata": {
        "colab": {
          "base_uri": "https://localhost:8080/"
        },
        "id": "HqDAQAKF_901",
        "outputId": "6d778e81-6a99-4993-dc33-68c943b4f4bd"
      },
      "execution_count": 138,
      "outputs": [
        {
          "output_type": "execute_result",
          "data": {
            "text/plain": [
              "(657, 2)"
            ]
          },
          "metadata": {},
          "execution_count": 138
        }
      ]
    },
    {
      "cell_type": "markdown",
      "source": [
        "## Using Alternating Least Squares"
      ],
      "metadata": {
        "id": "M4-oPQXCjIDd"
      }
    },
    {
      "cell_type": "code",
      "source": [
        "rating_df = rating_df.drop(\"Timestamp\")"
      ],
      "metadata": {
        "id": "m4TGm2IQVT9s"
      },
      "execution_count": 93,
      "outputs": []
    },
    {
      "cell_type": "code",
      "execution_count": 94,
      "metadata": {
        "id": "hR6Gk2LEkPvO"
      },
      "outputs": [],
      "source": [
        "train_data, test_data = rating_df.randomSplit([0.9, 0.1])"
      ]
    },
    {
      "cell_type": "code",
      "source": [
        "als = ALS(maxIter=15, regParam=0.01, userCol=\"UserID\", itemCol=\"MovieID\", ratingCol=\"Rating\")\n",
        "\n",
        "#Fitting the model on the train_data\n",
        "model = als.fit(train_data)"
      ],
      "metadata": {
        "id": "jd0r6GkBTjs3"
      },
      "execution_count": 104,
      "outputs": []
    },
    {
      "cell_type": "code",
      "source": [
        "# Make predictions on the test set\n",
        "predictions = model.transform(test_data)\n",
        "\n",
        "#Displaying predictions calculated by the model\n",
        "predictions.show()"
      ],
      "metadata": {
        "id": "pa6Q1vxpToW6",
        "colab": {
          "base_uri": "https://localhost:8080/"
        },
        "outputId": "29d3f834-9b50-4f5e-b1ad-db298ebeba91"
      },
      "execution_count": 105,
      "outputs": [
        {
          "output_type": "stream",
          "name": "stdout",
          "text": [
            "+------+-------+------+----------+\n",
            "|UserID|MovieID|Rating|prediction|\n",
            "+------+-------+------+----------+\n",
            "|     1|   2797|     4| 3.9663906|\n",
            "|     3|   2871|     4|  4.111898|\n",
            "|     2|   2236|     5|  4.069309|\n",
            "|     2|   3071|     4| 3.8847709|\n",
            "|     1|   1961|     5|  4.484202|\n",
            "|     2|   1244|     3|  2.993335|\n",
            "|     3|   1615|     5|  3.963407|\n",
            "|     2|   2571|     4| 3.8782337|\n",
            "|     3|   1136|     5|  4.424986|\n",
            "|     2|   1597|     3| 3.4934094|\n",
            "|     2|   3468|     5|  3.881561|\n",
            "|     3|   1379|     4| 3.7710097|\n",
            "|     2|   1096|     4| 4.2381253|\n",
            "|     3|    648|     3| 4.3024864|\n",
            "|     2|    356|     5|  4.667208|\n",
            "|     3|   2858|     4|  3.559215|\n",
            "|     4|    480|     4| 2.5038528|\n",
            "|     2|   1610|     5| 4.1247816|\n",
            "|     2|   1784|     5|  4.019994|\n",
            "|     1|   1836|     5| 2.5999072|\n",
            "+------+-------+------+----------+\n",
            "only showing top 20 rows\n",
            "\n"
          ]
        }
      ]
    },
    {
      "cell_type": "code",
      "source": [
        "#Printing and calculating RMSE\n",
        "evaluator = RegressionEvaluator(metricName=\"rmse\", labelCol=\"Rating\",predictionCol=\"prediction\")\n",
        "rmse = evaluator.evaluate(predictions)\n",
        "print(\"Root-mean-square error = \" + str(rmse))"
      ],
      "metadata": {
        "id": "uEc8UKifXYT9",
        "colab": {
          "base_uri": "https://localhost:8080/"
        },
        "outputId": "92ff9de1-191b-4183-cc03-37a408885422"
      },
      "execution_count": 106,
      "outputs": [
        {
          "output_type": "stream",
          "name": "stdout",
          "text": [
            "Root-mean-square error = nan\n"
          ]
        }
      ]
    },
    {
      "cell_type": "markdown",
      "source": [
        "The cause may be due to:\n",
        "Missing data: One or more values ​​in the test or prediction data set may be missing (null or unknown)."
      ],
      "metadata": {
        "id": "y9IcoQvWZPMo"
      }
    },
    {
      "cell_type": "markdown",
      "source": [
        "### Prediction for UserID=1"
      ],
      "metadata": {
        "id": "BT5UX8oNeQ_4"
      }
    },
    {
      "cell_type": "code",
      "source": [
        "## Prediction for UserID=1\n",
        "# Create pyspark df for userID=1\n",
        "lis_movie = (user1_nfill[0] + 1).tolist()\n",
        "rdd = spark.sparkContext.parallelize(lis_movie)\n",
        "\n",
        "# Convert the RDD into a DataFrame\n",
        "movie_nf_df = rdd.map(lambda x: Row(MovieID=x)).toDF()\n",
        "\n",
        "# Add UserID column\n",
        "movie_nf_df = movie_nf_df.withColumn(\"UserID\", lit(1))\n",
        "\n",
        "movie_nf_df.show(5)"
      ],
      "metadata": {
        "id": "xRe47irHWltZ",
        "colab": {
          "base_uri": "https://localhost:8080/"
        },
        "outputId": "00733992-7751-4a22-be49-7181e501d747"
      },
      "execution_count": 107,
      "outputs": [
        {
          "output_type": "stream",
          "name": "stdout",
          "text": [
            "+-------+------+\n",
            "|MovieID|UserID|\n",
            "+-------+------+\n",
            "|      2|     1|\n",
            "|      3|     1|\n",
            "|      4|     1|\n",
            "|      5|     1|\n",
            "|      6|     1|\n",
            "+-------+------+\n",
            "only showing top 5 rows\n",
            "\n"
          ]
        }
      ]
    },
    {
      "cell_type": "code",
      "source": [
        "user1_pre2 = model.transform(movie_nf_df)\n",
        "user1_pre2 = user1_pre2.where(~isnan(\"prediction\"))\n",
        "user1_pre2.show(5)"
      ],
      "metadata": {
        "id": "EqKuO5QufHst",
        "colab": {
          "base_uri": "https://localhost:8080/"
        },
        "outputId": "9d533475-2499-43e9-edd3-ca166cf9ff78"
      },
      "execution_count": 125,
      "outputs": [
        {
          "output_type": "stream",
          "name": "stdout",
          "text": [
            "+-------+------+----------+\n",
            "|MovieID|UserID|prediction|\n",
            "+-------+------+----------+\n",
            "|      2|     1| 3.2906842|\n",
            "|      3|     1| 3.7604756|\n",
            "|      4|     1| 3.0622725|\n",
            "|      5|     1|  3.997052|\n",
            "|      6|     1|  4.376733|\n",
            "+-------+------+----------+\n",
            "only showing top 5 rows\n",
            "\n"
          ]
        }
      ]
    },
    {
      "cell_type": "code",
      "source": [
        "## Limit the score to between 1-5\n",
        "user1_pre2 = user1_pre2.withColumn('prediction', when(col('prediction') > 5, 5)\n",
        ".when(col(\"prediction\")<1, 1)\n",
        ".otherwise(col('prediction')))\n",
        "\n",
        "user1_pre2 = user1_pre2.orderBy(col(\"prediction\").desc(), col(\"MovieID\").desc())\n",
        "user1_pre2.show(5)"
      ],
      "metadata": {
        "colab": {
          "base_uri": "https://localhost:8080/"
        },
        "id": "N53l1vDh9kDq",
        "outputId": "54ca9351-6c17-4ade-c661-cd202ad612ce"
      },
      "execution_count": 126,
      "outputs": [
        {
          "output_type": "stream",
          "name": "stdout",
          "text": [
            "+-------+------+----------+\n",
            "|MovieID|UserID|prediction|\n",
            "+-------+------+----------+\n",
            "|   3777|     1|       5.0|\n",
            "|   3761|     1|       5.0|\n",
            "|   3711|     1|       5.0|\n",
            "|   3636|     1|       5.0|\n",
            "|   3587|     1|       5.0|\n",
            "+-------+------+----------+\n",
            "only showing top 5 rows\n",
            "\n"
          ]
        }
      ]
    },
    {
      "cell_type": "code",
      "source": [
        "user1_pre2.count()"
      ],
      "metadata": {
        "colab": {
          "base_uri": "https://localhost:8080/"
        },
        "id": "jNCeA7Cj_lQA",
        "outputId": "912e2251-64ba-40e5-a191-1331d0c7fe12"
      },
      "execution_count": 124,
      "outputs": [
        {
          "output_type": "execute_result",
          "data": {
            "text/plain": [
              "3643"
            ]
          },
          "metadata": {},
          "execution_count": 124
        }
      ]
    },
    {
      "cell_type": "markdown",
      "source": [
        "### Movie recommendation for UserID=1"
      ],
      "metadata": {
        "id": "y1GCSgNaCw0Y"
      }
    },
    {
      "cell_type": "code",
      "source": [
        "recommend2 = user1_pre2.where(col(\"prediction\")>=4).select(\"MovieID\",\"prediction\")\n",
        "recommend2 = recommend2.toPandas()\n",
        "recommend2.head()"
      ],
      "metadata": {
        "colab": {
          "base_uri": "https://localhost:8080/",
          "height": 206
        },
        "id": "AYzeaZFp_qGH",
        "outputId": "03d6e20e-09d4-4930-9a45-564482c83324"
      },
      "execution_count": 134,
      "outputs": [
        {
          "output_type": "execute_result",
          "data": {
            "text/plain": [
              "   MovieID  prediction\n",
              "0     3777         5.0\n",
              "1     3761         5.0\n",
              "2     3711         5.0\n",
              "3     3636         5.0\n",
              "4     3587         5.0"
            ],
            "text/html": [
              "\n",
              "  <div id=\"df-bde054ba-a8a8-4731-bfc8-5cc818cceb2f\" class=\"colab-df-container\">\n",
              "    <div>\n",
              "<style scoped>\n",
              "    .dataframe tbody tr th:only-of-type {\n",
              "        vertical-align: middle;\n",
              "    }\n",
              "\n",
              "    .dataframe tbody tr th {\n",
              "        vertical-align: top;\n",
              "    }\n",
              "\n",
              "    .dataframe thead th {\n",
              "        text-align: right;\n",
              "    }\n",
              "</style>\n",
              "<table border=\"1\" class=\"dataframe\">\n",
              "  <thead>\n",
              "    <tr style=\"text-align: right;\">\n",
              "      <th></th>\n",
              "      <th>MovieID</th>\n",
              "      <th>prediction</th>\n",
              "    </tr>\n",
              "  </thead>\n",
              "  <tbody>\n",
              "    <tr>\n",
              "      <th>0</th>\n",
              "      <td>3777</td>\n",
              "      <td>5.0</td>\n",
              "    </tr>\n",
              "    <tr>\n",
              "      <th>1</th>\n",
              "      <td>3761</td>\n",
              "      <td>5.0</td>\n",
              "    </tr>\n",
              "    <tr>\n",
              "      <th>2</th>\n",
              "      <td>3711</td>\n",
              "      <td>5.0</td>\n",
              "    </tr>\n",
              "    <tr>\n",
              "      <th>3</th>\n",
              "      <td>3636</td>\n",
              "      <td>5.0</td>\n",
              "    </tr>\n",
              "    <tr>\n",
              "      <th>4</th>\n",
              "      <td>3587</td>\n",
              "      <td>5.0</td>\n",
              "    </tr>\n",
              "  </tbody>\n",
              "</table>\n",
              "</div>\n",
              "    <div class=\"colab-df-buttons\">\n",
              "\n",
              "  <div class=\"colab-df-container\">\n",
              "    <button class=\"colab-df-convert\" onclick=\"convertToInteractive('df-bde054ba-a8a8-4731-bfc8-5cc818cceb2f')\"\n",
              "            title=\"Convert this dataframe to an interactive table.\"\n",
              "            style=\"display:none;\">\n",
              "\n",
              "  <svg xmlns=\"http://www.w3.org/2000/svg\" height=\"24px\" viewBox=\"0 -960 960 960\">\n",
              "    <path d=\"M120-120v-720h720v720H120Zm60-500h600v-160H180v160Zm220 220h160v-160H400v160Zm0 220h160v-160H400v160ZM180-400h160v-160H180v160Zm440 0h160v-160H620v160ZM180-180h160v-160H180v160Zm440 0h160v-160H620v160Z\"/>\n",
              "  </svg>\n",
              "    </button>\n",
              "\n",
              "  <style>\n",
              "    .colab-df-container {\n",
              "      display:flex;\n",
              "      gap: 12px;\n",
              "    }\n",
              "\n",
              "    .colab-df-convert {\n",
              "      background-color: #E8F0FE;\n",
              "      border: none;\n",
              "      border-radius: 50%;\n",
              "      cursor: pointer;\n",
              "      display: none;\n",
              "      fill: #1967D2;\n",
              "      height: 32px;\n",
              "      padding: 0 0 0 0;\n",
              "      width: 32px;\n",
              "    }\n",
              "\n",
              "    .colab-df-convert:hover {\n",
              "      background-color: #E2EBFA;\n",
              "      box-shadow: 0px 1px 2px rgba(60, 64, 67, 0.3), 0px 1px 3px 1px rgba(60, 64, 67, 0.15);\n",
              "      fill: #174EA6;\n",
              "    }\n",
              "\n",
              "    .colab-df-buttons div {\n",
              "      margin-bottom: 4px;\n",
              "    }\n",
              "\n",
              "    [theme=dark] .colab-df-convert {\n",
              "      background-color: #3B4455;\n",
              "      fill: #D2E3FC;\n",
              "    }\n",
              "\n",
              "    [theme=dark] .colab-df-convert:hover {\n",
              "      background-color: #434B5C;\n",
              "      box-shadow: 0px 1px 3px 1px rgba(0, 0, 0, 0.15);\n",
              "      filter: drop-shadow(0px 1px 2px rgba(0, 0, 0, 0.3));\n",
              "      fill: #FFFFFF;\n",
              "    }\n",
              "  </style>\n",
              "\n",
              "    <script>\n",
              "      const buttonEl =\n",
              "        document.querySelector('#df-bde054ba-a8a8-4731-bfc8-5cc818cceb2f button.colab-df-convert');\n",
              "      buttonEl.style.display =\n",
              "        google.colab.kernel.accessAllowed ? 'block' : 'none';\n",
              "\n",
              "      async function convertToInteractive(key) {\n",
              "        const element = document.querySelector('#df-bde054ba-a8a8-4731-bfc8-5cc818cceb2f');\n",
              "        const dataTable =\n",
              "          await google.colab.kernel.invokeFunction('convertToInteractive',\n",
              "                                                    [key], {});\n",
              "        if (!dataTable) return;\n",
              "\n",
              "        const docLinkHtml = 'Like what you see? Visit the ' +\n",
              "          '<a target=\"_blank\" href=https://colab.research.google.com/notebooks/data_table.ipynb>data table notebook</a>'\n",
              "          + ' to learn more about interactive tables.';\n",
              "        element.innerHTML = '';\n",
              "        dataTable['output_type'] = 'display_data';\n",
              "        await google.colab.output.renderOutput(dataTable, element);\n",
              "        const docLink = document.createElement('div');\n",
              "        docLink.innerHTML = docLinkHtml;\n",
              "        element.appendChild(docLink);\n",
              "      }\n",
              "    </script>\n",
              "  </div>\n",
              "\n",
              "\n",
              "<div id=\"df-4bc59e1e-9b97-42a7-860d-29b47d908605\">\n",
              "  <button class=\"colab-df-quickchart\" onclick=\"quickchart('df-4bc59e1e-9b97-42a7-860d-29b47d908605')\"\n",
              "            title=\"Suggest charts.\"\n",
              "            style=\"display:none;\">\n",
              "\n",
              "<svg xmlns=\"http://www.w3.org/2000/svg\" height=\"24px\"viewBox=\"0 0 24 24\"\n",
              "     width=\"24px\">\n",
              "    <g>\n",
              "        <path d=\"M19 3H5c-1.1 0-2 .9-2 2v14c0 1.1.9 2 2 2h14c1.1 0 2-.9 2-2V5c0-1.1-.9-2-2-2zM9 17H7v-7h2v7zm4 0h-2V7h2v10zm4 0h-2v-4h2v4z\"/>\n",
              "    </g>\n",
              "</svg>\n",
              "  </button>\n",
              "\n",
              "<style>\n",
              "  .colab-df-quickchart {\n",
              "      --bg-color: #E8F0FE;\n",
              "      --fill-color: #1967D2;\n",
              "      --hover-bg-color: #E2EBFA;\n",
              "      --hover-fill-color: #174EA6;\n",
              "      --disabled-fill-color: #AAA;\n",
              "      --disabled-bg-color: #DDD;\n",
              "  }\n",
              "\n",
              "  [theme=dark] .colab-df-quickchart {\n",
              "      --bg-color: #3B4455;\n",
              "      --fill-color: #D2E3FC;\n",
              "      --hover-bg-color: #434B5C;\n",
              "      --hover-fill-color: #FFFFFF;\n",
              "      --disabled-bg-color: #3B4455;\n",
              "      --disabled-fill-color: #666;\n",
              "  }\n",
              "\n",
              "  .colab-df-quickchart {\n",
              "    background-color: var(--bg-color);\n",
              "    border: none;\n",
              "    border-radius: 50%;\n",
              "    cursor: pointer;\n",
              "    display: none;\n",
              "    fill: var(--fill-color);\n",
              "    height: 32px;\n",
              "    padding: 0;\n",
              "    width: 32px;\n",
              "  }\n",
              "\n",
              "  .colab-df-quickchart:hover {\n",
              "    background-color: var(--hover-bg-color);\n",
              "    box-shadow: 0 1px 2px rgba(60, 64, 67, 0.3), 0 1px 3px 1px rgba(60, 64, 67, 0.15);\n",
              "    fill: var(--button-hover-fill-color);\n",
              "  }\n",
              "\n",
              "  .colab-df-quickchart-complete:disabled,\n",
              "  .colab-df-quickchart-complete:disabled:hover {\n",
              "    background-color: var(--disabled-bg-color);\n",
              "    fill: var(--disabled-fill-color);\n",
              "    box-shadow: none;\n",
              "  }\n",
              "\n",
              "  .colab-df-spinner {\n",
              "    border: 2px solid var(--fill-color);\n",
              "    border-color: transparent;\n",
              "    border-bottom-color: var(--fill-color);\n",
              "    animation:\n",
              "      spin 1s steps(1) infinite;\n",
              "  }\n",
              "\n",
              "  @keyframes spin {\n",
              "    0% {\n",
              "      border-color: transparent;\n",
              "      border-bottom-color: var(--fill-color);\n",
              "      border-left-color: var(--fill-color);\n",
              "    }\n",
              "    20% {\n",
              "      border-color: transparent;\n",
              "      border-left-color: var(--fill-color);\n",
              "      border-top-color: var(--fill-color);\n",
              "    }\n",
              "    30% {\n",
              "      border-color: transparent;\n",
              "      border-left-color: var(--fill-color);\n",
              "      border-top-color: var(--fill-color);\n",
              "      border-right-color: var(--fill-color);\n",
              "    }\n",
              "    40% {\n",
              "      border-color: transparent;\n",
              "      border-right-color: var(--fill-color);\n",
              "      border-top-color: var(--fill-color);\n",
              "    }\n",
              "    60% {\n",
              "      border-color: transparent;\n",
              "      border-right-color: var(--fill-color);\n",
              "    }\n",
              "    80% {\n",
              "      border-color: transparent;\n",
              "      border-right-color: var(--fill-color);\n",
              "      border-bottom-color: var(--fill-color);\n",
              "    }\n",
              "    90% {\n",
              "      border-color: transparent;\n",
              "      border-bottom-color: var(--fill-color);\n",
              "    }\n",
              "  }\n",
              "</style>\n",
              "\n",
              "  <script>\n",
              "    async function quickchart(key) {\n",
              "      const quickchartButtonEl =\n",
              "        document.querySelector('#' + key + ' button');\n",
              "      quickchartButtonEl.disabled = true;  // To prevent multiple clicks.\n",
              "      quickchartButtonEl.classList.add('colab-df-spinner');\n",
              "      try {\n",
              "        const charts = await google.colab.kernel.invokeFunction(\n",
              "            'suggestCharts', [key], {});\n",
              "      } catch (error) {\n",
              "        console.error('Error during call to suggestCharts:', error);\n",
              "      }\n",
              "      quickchartButtonEl.classList.remove('colab-df-spinner');\n",
              "      quickchartButtonEl.classList.add('colab-df-quickchart-complete');\n",
              "    }\n",
              "    (() => {\n",
              "      let quickchartButtonEl =\n",
              "        document.querySelector('#df-4bc59e1e-9b97-42a7-860d-29b47d908605 button');\n",
              "      quickchartButtonEl.style.display =\n",
              "        google.colab.kernel.accessAllowed ? 'block' : 'none';\n",
              "    })();\n",
              "  </script>\n",
              "</div>\n",
              "    </div>\n",
              "  </div>\n"
            ]
          },
          "metadata": {},
          "execution_count": 134
        }
      ]
    },
    {
      "cell_type": "code",
      "source": [
        "recommend2.shape"
      ],
      "metadata": {
        "colab": {
          "base_uri": "https://localhost:8080/"
        },
        "id": "C7LWun8YLBE2",
        "outputId": "2d46b564-75ec-4f14-f131-b0b7d19aa8dc"
      },
      "execution_count": 135,
      "outputs": [
        {
          "output_type": "execute_result",
          "data": {
            "text/plain": [
              "(564, 2)"
            ]
          },
          "metadata": {},
          "execution_count": 135
        }
      ]
    },
    {
      "cell_type": "markdown",
      "source": [
        "## Comparison between two methods"
      ],
      "metadata": {
        "id": "3EOtab02FhEh"
      }
    },
    {
      "cell_type": "markdown",
      "source": [
        "First we see the number of recommended movies:\n",
        "+ ALS: 564\n",
        "+ Numpy: 657\n",
        "\n",
        "Now we will find the number of movies that are recommended in both methods. And the predicted scores are different in these movies of the two methods."
      ],
      "metadata": {
        "id": "qzpE9y2hGG0H"
      }
    },
    {
      "cell_type": "code",
      "source": [
        "diff = 0\n",
        "count = 0\n",
        "lis = []\n",
        "for row1 in recommend1.values:\n",
        "  for row2 in recommend2.values:\n",
        "    if row1[0] == row2[0]:\n",
        "      lis.append(int(row1[0]))\n",
        "      count = count + 1\n",
        "      diff += abs(row1[1] - row2[1])\n",
        "\n",
        "print(f\"Number of movies that are recommended in both methods: {count}\")\n",
        "print(f\"The predicted scores are different in these movies of the two methods: {diff}\")\n",
        "print(f\"Average of movies recommended by both different methods: {diff/count} points\")"
      ],
      "metadata": {
        "colab": {
          "base_uri": "https://localhost:8080/"
        },
        "id": "sEGUc-WEETRk",
        "outputId": "6a4e42a5-6fd7-432b-f7df-0387990fa69a"
      },
      "execution_count": 154,
      "outputs": [
        {
          "output_type": "stream",
          "name": "stdout",
          "text": [
            "Number of movies that are recommended in both methods: 174\n",
            "The predicted scores are different in these movies of the two methods: 55.18645786106998\n",
            "Average of movies recommended by both different methods: 0.31716355092568954 points\n"
          ]
        }
      ]
    },
    {
      "cell_type": "code",
      "source": [
        "lis[:10]"
      ],
      "metadata": {
        "colab": {
          "base_uri": "https://localhost:8080/"
        },
        "id": "73LKYo0kR4Lx",
        "outputId": "d85d7c3c-4d9b-4c02-9461-9bc3963d9025"
      },
      "execution_count": 157,
      "outputs": [
        {
          "output_type": "execute_result",
          "data": {
            "text/plain": [
              "[3881, 3233, 3172, 787, 811, 1178, 3777, 937, 3487, 2620]"
            ]
          },
          "metadata": {},
          "execution_count": 157
        }
      ]
    },
    {
      "cell_type": "markdown",
      "source": [
        "We see that there are 174 movies in the suggested list of both methods. And there is not much difference in prediction scores in both methods. We can prioritize recommending these movies first."
      ],
      "metadata": {
        "id": "pLkuOIF7QhCP"
      }
    },
    {
      "cell_type": "markdown",
      "source": [
        "#<p style=\"background-color:#682F2F; font-family:newtimeroman; color:#FFF9ED; font-size:150%; text-align:center; border-radius:10px 10px; padding: 15px; \">END\n",
        "</p>"
      ],
      "metadata": {
        "id": "YSSSMYUlRo9h"
      }
    }
  ],
  "metadata": {
    "colab": {
      "provenance": []
    },
    "kernelspec": {
      "display_name": "Python 3",
      "name": "python3"
    },
    "language_info": {
      "name": "python"
    }
  },
  "nbformat": 4,
  "nbformat_minor": 0
}